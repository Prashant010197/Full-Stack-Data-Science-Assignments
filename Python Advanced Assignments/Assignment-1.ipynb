{
 "cells": [
  {
   "cell_type": "markdown",
   "id": "developed-dictionary",
   "metadata": {},
   "source": [
    "# Assignment-1"
   ]
  },
  {
   "cell_type": "markdown",
   "id": "fossil-decline",
   "metadata": {},
   "source": [
    "## Q1. What is the purpose of Python's OOP?"
   ]
  },
  {
   "cell_type": "markdown",
   "id": "communist-monitor",
   "metadata": {},
   "source": [
    "Python's OOP gives the language capability such that programming can be done while defining attributes or templates and  real world object's properties can be specified using the templates. In essence, Python's OOP brings the programming language closer to the real world. In addition to that, concepts like Inheritance (reduces redundancy and improves code extensibility), Encapsulation (hides data from the user which they should not see), Abstraction (hides data from user that they need not see), Polymorphism (based on input, an operator or function can be overloaded or overriden) can be implemented too."
   ]
  },
  {
   "cell_type": "markdown",
   "id": "caring-console",
   "metadata": {},
   "source": [
    "## Q2. Where does an inheritance search look for an attribute?"
   ]
  },
  {
   "cell_type": "markdown",
   "id": "opened-scholarship",
   "metadata": {},
   "source": [
    "Inheritance searches for an attribute or property inside the parent class or base class from which a daughter class or child class inherits class members."
   ]
  },
  {
   "cell_type": "markdown",
   "id": "pleasant-aquarium",
   "metadata": {},
   "source": [
    "## Q3. How do you distinguish between a class object and an instance object?"
   ]
  },
  {
   "cell_type": "markdown",
   "id": "adjacent-brush",
   "metadata": {},
   "source": [
    "A class object is a unique instance that is created by specifying the values for generic properties of inside the class and occupies memory spsce. Instance is one that refers to an object created within a memory space."
   ]
  },
  {
   "cell_type": "markdown",
   "id": "norman-terrorist",
   "metadata": {},
   "source": [
    "## Q4. What makes the first argument in a class’s method function special?"
   ]
  },
  {
   "cell_type": "markdown",
   "id": "colonial-headline",
   "metadata": {},
   "source": [
    "First argument, that is the self, is a special argument as it is a keyword(can be any word) that always points to the current instance of the class. Using self, the language keeps a track of which instance called a particular method."
   ]
  },
  {
   "cell_type": "markdown",
   "id": "activated-group",
   "metadata": {},
   "source": [
    "## Q5. What is the purpose of the __init__ method?"
   ]
  },
  {
   "cell_type": "markdown",
   "id": "indonesian-might",
   "metadata": {},
   "source": [
    "The init method is a special method used specifically for initializing the objects of a class (passing actual values based on the attributes specified in the class."
   ]
  },
  {
   "cell_type": "markdown",
   "id": "novel-delight",
   "metadata": {},
   "source": [
    "## Q6. What is the process for creating a class instance?"
   ]
  },
  {
   "cell_type": "markdown",
   "id": "valued-glossary",
   "metadata": {},
   "source": [
    "To create a class instance, using an object name and instantiating method, values can be directly passed for parameters already defined inside the class init method."
   ]
  },
  {
   "cell_type": "code",
   "execution_count": null,
   "id": "technical-tunisia",
   "metadata": {},
   "outputs": [],
   "source": [
    "Car1 = fourwheelers(\"Honda\", 200000)\n",
    "Car2 = fourwheelers(\"Ford\", 300000)"
   ]
  },
  {
   "cell_type": "markdown",
   "id": "dramatic-payday",
   "metadata": {},
   "source": [
    "## Q7. What is the process for creating a class?"
   ]
  },
  {
   "cell_type": "markdown",
   "id": "technical-moldova",
   "metadata": {},
   "source": [
    "Using keyword class, followed by a class name, a class is created. Any class would require further functionalities like a init method, display method etc."
   ]
  },
  {
   "cell_type": "code",
   "execution_count": null,
   "id": "alpine-latter",
   "metadata": {},
   "outputs": [],
   "source": [
    "class MyClass: //\n",
    "    count=0\n",
    "    def __init__(self, name, salary):\n",
    "        self.firstname = firstname \n",
    "        self.lastname = lastname\n",
    "        MyClass.count += 1"
   ]
  },
  {
   "cell_type": "markdown",
   "id": "opened-launch",
   "metadata": {},
   "source": [
    "## Q8. How would you define the superclasses of a class?"
   ]
  },
  {
   "cell_type": "markdown",
   "id": "bizarre-colonial",
   "metadata": {},
   "source": [
    "A parent class or base class from which multiple child classes inherit methods, functions and other class members is called a superclass"
   ]
  }
 ],
 "metadata": {
  "kernelspec": {
   "display_name": "Python 3",
   "language": "python",
   "name": "python3"
  },
  "language_info": {
   "codemirror_mode": {
    "name": "ipython",
    "version": 3
   },
   "file_extension": ".py",
   "mimetype": "text/x-python",
   "name": "python",
   "nbconvert_exporter": "python",
   "pygments_lexer": "ipython3",
   "version": "3.7.10"
  }
 },
 "nbformat": 4,
 "nbformat_minor": 5
}
