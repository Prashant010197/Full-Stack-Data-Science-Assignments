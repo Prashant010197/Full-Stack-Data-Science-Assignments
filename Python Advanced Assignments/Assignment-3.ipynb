{
 "cells": [
  {
   "cell_type": "markdown",
   "id": "minus-rating",
   "metadata": {},
   "source": [
    "# Assignment-3"
   ]
  },
  {
   "cell_type": "markdown",
   "id": "native-metropolitan",
   "metadata": {},
   "source": [
    "## 1. What is the concept of an abstract superclass?"
   ]
  },
  {
   "cell_type": "markdown",
   "id": "victorian-absorption",
   "metadata": {},
   "source": [
    "An abstract superclass is an incomplete parent class which holds only method signatures without method bodies. Each of the multiple child class subtended from this superclass must override the incomplete methods present in the abstract superclass with their own respective method bodies.\n",
    "Using this concept, implementation of a particular method is forced upon the child classes and requirement fulfillment can be achieved across all child classes."
   ]
  },
  {
   "cell_type": "markdown",
   "id": "varying-pioneer",
   "metadata": {},
   "source": [
    "## 2. What happens when a class statement's top level contains a basic assignment statement?"
   ]
  },
  {
   "cell_type": "markdown",
   "id": "biological-skating",
   "metadata": {},
   "source": [
    "When a basic assignment statement is used in the class statement's top level, a class attribute is created which can be used across all the class objects"
   ]
  },
  {
   "cell_type": "markdown",
   "id": "billion-faith",
   "metadata": {},
   "source": [
    "## 3. Why does a class need to manually call a superclass's __init__ method?"
   ]
  },
  {
   "cell_type": "markdown",
   "id": "ethical-rings",
   "metadata": {},
   "source": [
    "It is needed so that the parent class member variables can be specified or at least initialized to a default value. If this is not done, the superclass's variables will remain uninitialized and would be open to usage in the child class."
   ]
  },
  {
   "cell_type": "markdown",
   "id": "pressed-special",
   "metadata": {},
   "source": [
    "## 4. How can you augment, instead of completely replacing, an inherited method?"
   ]
  },
  {
   "cell_type": "markdown",
   "id": "specific-dancing",
   "metadata": {},
   "source": [
    "Instead of completely replacing an inherited method, its functionalities can be extended or improved according to the needs of the child class"
   ]
  },
  {
   "cell_type": "markdown",
   "id": "joined-spencer",
   "metadata": {},
   "source": [
    "## 5. How is the local scope of a class different from that of a function?"
   ]
  },
  {
   "cell_type": "markdown",
   "id": "boring-referral",
   "metadata": {},
   "source": [
    "When declaring a variable inside the local scope of a class, all class functions can access it. But inside a function, the variable is only accessible inside the function."
   ]
  },
  {
   "cell_type": "code",
   "execution_count": null,
   "id": "smoking-harvey",
   "metadata": {},
   "outputs": [],
   "source": []
  }
 ],
 "metadata": {
  "kernelspec": {
   "display_name": "Python 3",
   "language": "python",
   "name": "python3"
  },
  "language_info": {
   "codemirror_mode": {
    "name": "ipython",
    "version": 3
   },
   "file_extension": ".py",
   "mimetype": "text/x-python",
   "name": "python",
   "nbconvert_exporter": "python",
   "pygments_lexer": "ipython3",
   "version": "3.7.10"
  }
 },
 "nbformat": 4,
 "nbformat_minor": 5
}
