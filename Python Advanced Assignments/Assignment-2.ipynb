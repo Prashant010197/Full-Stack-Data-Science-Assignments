{
 "cells": [
  {
   "cell_type": "markdown",
   "id": "sudden-conversation",
   "metadata": {},
   "source": [
    "# Assignment-2"
   ]
  },
  {
   "cell_type": "markdown",
   "id": "antique-people",
   "metadata": {},
   "source": [
    "## Q1. What is the relationship between classes and modules?"
   ]
  },
  {
   "cell_type": "markdown",
   "id": "optimum-growing",
   "metadata": {},
   "source": [
    "Classes are templates using which real world objects can be created and programming can be done using them. Whereas modules are functionalities that help logically seperate code, they can be imported as and when required inside another python executable code.\n",
    "\n",
    "Using modules, classes and functions both can be imported and code extensibility and reducability can be increased."
   ]
  },
  {
   "cell_type": "markdown",
   "id": "dutch-shore",
   "metadata": {},
   "source": [
    "## Q2. How do you make instances and classes?"
   ]
  },
  {
   "cell_type": "markdown",
   "id": "personalized-details",
   "metadata": {},
   "source": [
    "To make an instance of a class, we can simply call the init method present inside the class and pass actual values corresponding to the class attributes.\n",
    "\n",
    "To make a simple class, a class keyword is used followed by a class name. Inside this class, functionalities like init method can be created using which class instances can be created and much more."
   ]
  },
  {
   "cell_type": "markdown",
   "id": "professional-response",
   "metadata": {},
   "source": [
    "## Q3. Where and how should be class attributes created?"
   ]
  },
  {
   "cell_type": "markdown",
   "id": "confident-literacy",
   "metadata": {},
   "source": [
    "Directly inside the class so that they can be shared by all objects"
   ]
  },
  {
   "cell_type": "code",
   "execution_count": null,
   "id": "practical-canberra",
   "metadata": {},
   "outputs": [],
   "source": [
    "class Employee:\n",
    "    empId=\"11100\" //Class attribute"
   ]
  },
  {
   "cell_type": "markdown",
   "id": "lined-pierre",
   "metadata": {},
   "source": [
    "## Q4. Where and how are instance attributes created?"
   ]
  },
  {
   "cell_type": "markdown",
   "id": "applied-report",
   "metadata": {},
   "source": [
    "They are created using the constructor that has self keyword, inside the class."
   ]
  },
  {
   "cell_type": "code",
   "execution_count": null,
   "id": "classical-delhi",
   "metadata": {},
   "outputs": [],
   "source": [
    "class Employee:\n",
    "    def __init__(self, firstname, lastname): \n",
    "        self.firstname = firstname\n",
    "        self.lastname = lastname"
   ]
  },
  {
   "cell_type": "markdown",
   "id": "rotary-sleep",
   "metadata": {},
   "source": [
    "## Q5. What does the term \"self\" in a Python class mean?"
   ]
  },
  {
   "cell_type": "markdown",
   "id": "about-premiere",
   "metadata": {},
   "source": [
    "Self is a keyword which holds the reference to the object that is calling the method inside which the self is present. Using self, values of object can be specified using constructor. Values can also be passed to a called method that may hold some operation based on object values."
   ]
  },
  {
   "cell_type": "markdown",
   "id": "interstate-paradise",
   "metadata": {},
   "source": [
    "## Q6. How does a Python class handle operator overloading?"
   ]
  },
  {
   "cell_type": "markdown",
   "id": "sixth-steal",
   "metadata": {},
   "source": [
    "Based on the operands that are being given to the operators, Python overloads operators and switches their operation. For some string1 and string2, string1+string2 results in a concatenated form of the two strings. For some list L1 and L2, L1+L2 results in merging of the two lists."
   ]
  },
  {
   "cell_type": "markdown",
   "id": "spanish-house",
   "metadata": {},
   "source": [
    "## Q7. When do you consider allowing operator overloading of your classes?"
   ]
  },
  {
   "cell_type": "markdown",
   "id": "split-designer",
   "metadata": {},
   "source": [
    "Where an operator based on the operands, the changing/switched operation and result is required, we should consider operator overloading. Code redundancy can be reduced and code modularity and extensibility is increased in such way."
   ]
  },
  {
   "cell_type": "markdown",
   "id": "precise-miller",
   "metadata": {},
   "source": [
    "## Q8. What is the most popular form of operator overloading?"
   ]
  },
  {
   "cell_type": "markdown",
   "id": "short-pizza",
   "metadata": {},
   "source": [
    "Addition operator. It can add two numbers. It can merge lists and concatenate strings."
   ]
  },
  {
   "cell_type": "markdown",
   "id": "white-sleeve",
   "metadata": {},
   "source": [
    "## Q9. What are the two most important concepts to grasp in order to comprehend Python OOP code?"
   ]
  },
  {
   "cell_type": "markdown",
   "id": "hairy-width",
   "metadata": {},
   "source": [
    "Inheritance and polymorphism both are important concepts to grasp."
   ]
  },
  {
   "cell_type": "code",
   "execution_count": null,
   "id": "noted-witness",
   "metadata": {},
   "outputs": [],
   "source": []
  }
 ],
 "metadata": {
  "kernelspec": {
   "display_name": "Python 3",
   "language": "python",
   "name": "python3"
  },
  "language_info": {
   "codemirror_mode": {
    "name": "ipython",
    "version": 3
   },
   "file_extension": ".py",
   "mimetype": "text/x-python",
   "name": "python",
   "nbconvert_exporter": "python",
   "pygments_lexer": "ipython3",
   "version": "3.7.10"
  }
 },
 "nbformat": 4,
 "nbformat_minor": 5
}
