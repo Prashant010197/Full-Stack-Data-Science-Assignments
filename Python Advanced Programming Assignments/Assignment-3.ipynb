{
 "cells": [
  {
   "cell_type": "markdown",
   "id": "relative-police",
   "metadata": {},
   "source": [
    "# Assignment-3"
   ]
  },
  {
   "cell_type": "markdown",
   "id": "bored-warehouse",
   "metadata": {},
   "source": [
    "## 1. Create a function to perform basic arithmetic operations that includes addition, subtraction, multiplication and division on a string number (e.g. \"12 + 24\" or \"23 - 21\" or \"12 // 12\" or \"12 * 21\").\n",
    "\n",
    "Here, we have 1 followed by a space, operator followed by another space and 2. For the challenge, we are going to have only two numbers between 1 valid operator. The return value should be a number.\n",
    "\n",
    "eval() is not allowed. In case of division, whenever the second number equals \"0\" return -1.\n",
    "\n",
    "For example:\n",
    "\n",
    "\"15 // 0\"  ➞ -1\n",
    "\n",
    "Examples\n",
    "\n",
    "arithmetic_operation(\"12 + 12\") ➞ 24 // 12 + 12 = 24\n",
    "\n",
    "arithmetic_operation(\"12 - 12\") ➞ 24 // 12 - 12 = 0\n",
    "\n",
    "arithmetic_operation(\"12 * 12\") ➞ 144 // 12 * 12 = 144\n",
    "\n",
    "arithmetic_operation(\"12 // 0\") ➞ -1 // 12 / 0 = -1\n"
   ]
  },
  {
   "cell_type": "code",
   "execution_count": 7,
   "id": "gross-bearing",
   "metadata": {},
   "outputs": [
    {
     "data": {
      "text/plain": [
       "-1"
      ]
     },
     "execution_count": 7,
     "metadata": {},
     "output_type": "execute_result"
    }
   ],
   "source": [
    "def check(string):\n",
    "    \n",
    "    string=string.split(' ')\n",
    "    a,b=int(string[0]), int(string[2])\n",
    "    if string[1]==\"+\":\n",
    "        return (a+b)\n",
    "    elif string[1]==\"-\":\n",
    "        return (a-b)\n",
    "    elif string[1]==\"//\" and b==0:\n",
    "        return -1\n",
    "    elif string[1]==\"//\":\n",
    "        return (a//b)\n",
    "    elif string[1]==\"*\":\n",
    "        return (a*b)\n",
    "\n",
    "check(\"12 // 0\")"
   ]
  },
  {
   "cell_type": "markdown",
   "id": "engaging-cattle",
   "metadata": {},
   "source": [
    "## 2. Write a function that takes the coordinates of three points in the form of a 2d array and returns the perimeter of the triangle. The given points are the vertices of a triangle on a two-dimensional plane.\n",
    "\n",
    "Examples\n",
    "\n",
    "perimeter( [ [15, 7], [5, 22], [11, 1] ] ) ➞ 47.08\n",
    "\n",
    "perimeter( [ [0, 0], [0, 1], [1, 0] ] ) ➞ 3.42\n",
    "\n",
    "perimeter( [ [-10, -10], [10, 10 ], [-10, 10] ] ) ➞ 68.28\n"
   ]
  },
  {
   "cell_type": "code",
   "execution_count": 45,
   "id": "unknown-auditor",
   "metadata": {},
   "outputs": [
    {
     "name": "stdout",
     "output_type": "stream",
     "text": [
      "47.07918859608948\n",
      "3.414213562373095\n",
      "68.2842712474619\n"
     ]
    }
   ],
   "source": [
    "def triangle(s):\n",
    "    x1,x2,x3,y1,y2,y3=s[0][0],s[1][0],s[2][0],s[0][1],s[1][1],s[2][1]\n",
    "    a=((x2-x1)**2+(y2-y1)**2)**0.5\n",
    "    b=((x3-x2)**2+(y3-y2)**2)**0.5\n",
    "    c=((x1-x3)**2+(y1-y3)**2)**0.5\n",
    "    print(a+b+c)\n",
    "triangle([[15, 7], [5, 22], [11, 1]])\n",
    "triangle([ [0, 0], [0, 1], [1, 0] ] )\n",
    "triangle( [ [-10, -10], [10, 10 ], [-10, 10] ] )"
   ]
  },
  {
   "cell_type": "markdown",
   "id": "detected-sewing",
   "metadata": {},
   "source": [
    "## 3. A city skyline can be represented as a 2-D list with 1s representing buildings. In the example below, the height of the tallest building is 4 (second-most right column).\n",
    "\n",
    "[[0, 0, 0, 0, 0, 0],\n",
    "[0, 0, 0, 0, 1, 0],\n",
    "[0, 0, 1, 0, 1, 0],\n",
    "[0, 1, 1, 1, 1, 0],\n",
    "[1, 1, 1, 1, 1, 1]]\n",
    "\n",
    "Create a function that takes a skyline (2-D list of 0's and 1's) and returns the height of the tallest skyscraper.\n",
    "\n",
    "Examples\n",
    "\n",
    "tallest_skyscraper([\n",
    "  [0, 0, 0, 0],\n",
    "  [0, 1, 0, 0],\n",
    "  [0, 1, 1, 0],\n",
    "  [1, 1, 1, 1]\n",
    "]) ➞ 3\n",
    "\n",
    "tallest_skyscraper([\n",
    "  [0, 1, 0, 0],\n",
    "  [0, 1, 0, 0],\n",
    "  [0, 1, 1, 0],\n",
    "  [1, 1, 1, 1]\n",
    "]) ➞ 4\n",
    "\n",
    "tallest_skyscraper([\n",
    "  [0, 0, 0, 0],\n",
    "  [0, 0, 0, 0],\n",
    "  [1, 1, 1, 0],\n",
    "  [1, 1, 1, 1]\n",
    "]) ➞ 2"
   ]
  },
  {
   "cell_type": "code",
   "execution_count": 12,
   "id": "featured-baking",
   "metadata": {},
   "outputs": [
    {
     "name": "stdout",
     "output_type": "stream",
     "text": [
      "3\n"
     ]
    }
   ],
   "source": [
    "def tallest_skyscraper(l):\n",
    "    check=0\n",
    "    for i in l:\n",
    "        if 1 in i:\n",
    "            check+=1\n",
    "    print(check)\n",
    "\n",
    "tall([\n",
    "  [0, 0, 0, 0],\n",
    "  [0, 1, 0, 0],\n",
    "  [0, 1, 1, 0],\n",
    "  [1, 1, 1, 1]])"
   ]
  },
  {
   "cell_type": "code",
   "execution_count": 13,
   "id": "athletic-finish",
   "metadata": {},
   "outputs": [
    {
     "name": "stdout",
     "output_type": "stream",
     "text": [
      "4\n"
     ]
    }
   ],
   "source": [
    "tall([\n",
    "  [0, 1, 0, 0],\n",
    "  [0, 1, 0, 0],\n",
    "  [0, 1, 1, 0],\n",
    "  [1, 1, 1, 1]\n",
    "])"
   ]
  },
  {
   "cell_type": "code",
   "execution_count": 14,
   "id": "adjustable-kennedy",
   "metadata": {},
   "outputs": [
    {
     "name": "stdout",
     "output_type": "stream",
     "text": [
      "2\n"
     ]
    }
   ],
   "source": [
    "tall([\n",
    "  [0, 0, 0, 0],\n",
    "  [0, 0, 0, 0],\n",
    "  [1, 1, 1, 0],\n",
    "  [1, 1, 1, 1]\n",
    "]\n",
    ")"
   ]
  },
  {
   "cell_type": "markdown",
   "id": "seventh-nicholas",
   "metadata": {},
   "source": [
    "## 4. A financial institution provides professional services to banks and claims charges from the customers based on the number of man-days provided. Internally, it has set a scheme to motivate and reward staff to meet and exceed targeted billable utilization and revenues by paying a bonus for each day claimed from customers in excess of a threshold target.\n",
    "\n",
    "## This quarterly scheme is calculated with a threshold target of 32 days per quarter, and the incentive payment for each billable day in excess of such threshold target is shown as follows:\n",
    "\n",
    "0 to 32 days                       Zero\n",
    "\n",
    "33 to 40 days             SGD$325 per billable day\n",
    "\n",
    "41 to 48 days             SGD$550 per billable day\n",
    "\n",
    "Greater than 48 days      SGD$600 per billable day"
   ]
  },
  {
   "cell_type": "code",
   "execution_count": 67,
   "id": "accepted-semiconductor",
   "metadata": {},
   "outputs": [
    {
     "name": "stdout",
     "output_type": "stream",
     "text": [
      "5350\n",
      "325\n",
      "8200\n"
     ]
    }
   ],
   "source": [
    "def bonus(n):\n",
    "    s=0\n",
    "    if n<=32:\n",
    "        print(0)\n",
    "    elif n>=33 and n<=40:\n",
    "        s+=325*(n+1-33)\n",
    "    elif n>=41 and n<=48:\n",
    "        s+=(325*8)+(550*(n-41+1))\n",
    "    elif n>48:\n",
    "        s+=(325*8)+(550*8)+(600*(n-48))\n",
    "    print(s)\n",
    "bonus(45)\n",
    "bonus(33)\n",
    "bonus(50)"
   ]
  },
  {
   "cell_type": "markdown",
   "id": "waiting-transformation",
   "metadata": {},
   "source": [
    "## 5. A number is said to be Disarium if the sum of its digits raised to their respective positions is the number itself.\n",
    "\n",
    "Create a function that determines whether a number is a Disarium or not.\n",
    "\n",
    "Examples\n",
    "\n",
    "is_disarium(75) ➞ False\n",
    "7^1 + 5^2 = 7 + 25 = 32\n",
    "\n",
    "is_disarium(135) ➞ True\n",
    "1^1 + 3^2 + 5^3 = 1 + 9 + 125 = 135\n",
    "\n",
    "is_disarium(544) ➞ False\n",
    "\n",
    "is_disarium(518) ➞ True\n",
    "\n",
    "is_disarium(466) ➞ False\n",
    "\n",
    "is_disarium(8) ➞ True\n"
   ]
  },
  {
   "cell_type": "code",
   "execution_count": 34,
   "id": "joint-turkish",
   "metadata": {},
   "outputs": [
    {
     "data": {
      "text/plain": [
       "False"
      ]
     },
     "execution_count": 34,
     "metadata": {},
     "output_type": "execute_result"
    }
   ],
   "source": [
    "def is_Disarium(n):\n",
    "    res=0\n",
    "    n=str(n)\n",
    "    for i in range(len(n)):\n",
    "        res=res+(int(n[i]))**(i+1)\n",
    "    if int(n)==res:\n",
    "        return True\n",
    "    else:\n",
    "        return False\n",
    "is_Disarium(75)"
   ]
  },
  {
   "cell_type": "code",
   "execution_count": 35,
   "id": "subtle-silver",
   "metadata": {},
   "outputs": [
    {
     "data": {
      "text/plain": [
       "True"
      ]
     },
     "execution_count": 35,
     "metadata": {},
     "output_type": "execute_result"
    }
   ],
   "source": [
    "is_Disarium(135)"
   ]
  },
  {
   "cell_type": "code",
   "execution_count": 36,
   "id": "filled-installation",
   "metadata": {},
   "outputs": [
    {
     "data": {
      "text/plain": [
       "False"
      ]
     },
     "execution_count": 36,
     "metadata": {},
     "output_type": "execute_result"
    }
   ],
   "source": [
    "is_Disarium(466)"
   ]
  }
 ],
 "metadata": {
  "kernelspec": {
   "display_name": "Python 3",
   "language": "python",
   "name": "python3"
  },
  "language_info": {
   "codemirror_mode": {
    "name": "ipython",
    "version": 3
   },
   "file_extension": ".py",
   "mimetype": "text/x-python",
   "name": "python",
   "nbconvert_exporter": "python",
   "pygments_lexer": "ipython3",
   "version": "3.7.10"
  }
 },
 "nbformat": 4,
 "nbformat_minor": 5
}
