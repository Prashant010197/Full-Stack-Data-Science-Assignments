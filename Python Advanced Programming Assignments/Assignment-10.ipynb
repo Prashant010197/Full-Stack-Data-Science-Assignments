{
 "cells": [
  {
   "cell_type": "markdown",
   "id": "spoken-driving",
   "metadata": {},
   "source": [
    "# Assignment-10"
   ]
  },
  {
   "cell_type": "markdown",
   "id": "agricultural-money",
   "metadata": {},
   "source": [
    "## 1. Create a function that takes the width, height and character and returns a picture frame as a 2D list.\n",
    "\n",
    "Examples\n",
    "\n",
    "get_frame(4, 5, \"#\") ➞ \n",
    "\n",
    "[\n",
    "  [\"####\"],\n",
    "  [\"#  #\"],\n",
    "  [\"#  #\"],\n",
    "  [\"#  #\"],\n",
    "  [\"####\"]\n",
    "]\n",
    "\n",
    "Frame is 4 characters wide and 5 characters tall.\n",
    "\n",
    "\n",
    "get_frame(10, 3, \"*\") ➞ [\n",
    "  [\"**********\"],\n",
    "  [\"*        *\"],\n",
    "  [\"**********\"]\n",
    "]\n",
    "\n",
    "Frame is 10 characters and wide and 3 characters tall.\n",
    "\n",
    "get_frame(2, 5, \"0\") ➞ \"invalid\"\n",
    "\n",
    "Frame's width is not more than 2.\n"
   ]
  },
  {
   "cell_type": "code",
   "execution_count": 25,
   "id": "accessory-observation",
   "metadata": {},
   "outputs": [
    {
     "name": "stdout",
     "output_type": "stream",
     "text": [
      "['####', '#  #', '#  #', '#  #', '####']\n",
      "['**********', '*        *', '**********']\n",
      "invalid\n"
     ]
    }
   ],
   "source": [
    "def get_frame(width, length, shape):\n",
    "    if width>2:\n",
    "        l=''.join([shape for i in range(width)])\n",
    "        ls=''.join([shape if i==0 or i==width-1 else ' ' for i in range(width)])\n",
    "        res=[l if j==0 or j==length-1 else ls for j in range(length)]\n",
    "        print(res)\n",
    "    else:\n",
    "        print('invalid')\n",
    "        \n",
    "    \n",
    "get_frame(4, 5, \"#\")\n",
    "get_frame(10, 3, \"*\")\n",
    "get_frame(2, 5, \"0\")"
   ]
  },
  {
   "cell_type": "markdown",
   "id": "corrected-tattoo",
   "metadata": {},
   "source": [
    "## 2. Write three functions:\n",
    "\n",
    "  1. boolean_and\n",
    "  2. boolean_or\n",
    "  3. boolean_xor\n",
    "These functions should evaluate a list of True and False values, starting from the leftmost element and evaluating pairwise.\n",
    "\n",
    "Examples\n",
    "\n",
    "boolean_and([True, True, False, True]) ➞ False\n",
    "\n",
    "[True, True, False, True] => [True, False, True] => [False, True] => False\n",
    "\n",
    "boolean_or([True, True, False, False]) ➞ True\n",
    "\n",
    "[True, True, False, True] => [True, False, False] => [True, False] => True\n",
    "\n",
    "boolean_xor([True, True, False, False]) ➞ False\n",
    "\n",
    "[True, True, False, False] => [False, False, False] => [False, False] => False\n"
   ]
  },
  {
   "cell_type": "code",
   "execution_count": 6,
   "id": "backed-demand",
   "metadata": {},
   "outputs": [
    {
     "name": "stdout",
     "output_type": "stream",
     "text": [
      "False\n",
      "True\n",
      "False\n"
     ]
    }
   ],
   "source": [
    "def boolean_and(l):\n",
    "    n1=l[0]\n",
    "    i=1\n",
    "    while i<=len(l)-1:\n",
    "        n2=l[i]\n",
    "        n1=n1 and n2\n",
    "        i=i+1\n",
    "    print(n1)\n",
    "    \n",
    "def boolean_or(l):\n",
    "    n1=l[0]\n",
    "    i=1\n",
    "    while i<=len(l)-1:\n",
    "        n2=l[i]\n",
    "        n1=n1 or n2\n",
    "        i=i+1\n",
    "    print(n1)\n",
    "    \n",
    "def boolean_xor(l):\n",
    "    n1=l[0]\n",
    "    i=1\n",
    "    while i<=len(l)-1:\n",
    "        n2=l[i]\n",
    "        if (n1==True and n2!=True) or (n1!=True and n2==True): \n",
    "            n1=True\n",
    "        else:\n",
    "            n1=False\n",
    "        i=i+1\n",
    "    print(n1)\n",
    "\n",
    "boolean_and([True, True, False, True])\n",
    "boolean_or([True, True, False, False])\n",
    "boolean_xor([True, True, False, False])"
   ]
  },
  {
   "cell_type": "markdown",
   "id": "motivated-bachelor",
   "metadata": {},
   "source": [
    "## 3. Create a function that creates a box based on dimension n.\n",
    "\n",
    "Examples\n",
    "\n",
    "make_box(5) ➞ [\n",
    "  \"#####\",\n",
    "  \"#   #\",\n",
    "  \"#   #\",\n",
    "  \"#   #\",\n",
    "  \"#####\"\n",
    "]\n",
    "\n",
    "make_box(3) ➞ [\n",
    "  \"###\",\n",
    "  \"# #\",\n",
    "  \"###\"\n",
    "]\n",
    "\n",
    "make_box(2) ➞ [\n",
    "  \"##\",\n",
    "  \"##\"\n",
    "]\n",
    "\n",
    "make_box(1) ➞ [\n",
    "  \"#\"\n",
    "]"
   ]
  },
  {
   "cell_type": "code",
   "execution_count": 38,
   "id": "virtual-exercise",
   "metadata": {},
   "outputs": [
    {
     "name": "stdout",
     "output_type": "stream",
     "text": [
      "['#####', '#   #', '#   #', '#   #', '#####']\n",
      "['###', '# #', '###']\n",
      "['##', '##']\n",
      "['#']\n"
     ]
    }
   ],
   "source": [
    "def make_box(n):\n",
    "    if n>=1:\n",
    "        l=''.join(['#' for i in range(n)])\n",
    "        ls=''.join(['#' if i==0 or i==n-1 else ' ' for i in range(n)])\n",
    "        res=[l if j==0 or j==n-1 else ls for j in range(n)]\n",
    "        print(res)\n",
    "\n",
    "make_box(5)\n",
    "make_box(3)\n",
    "make_box(2)\n",
    "make_box(1)"
   ]
  },
  {
   "cell_type": "markdown",
   "id": "manufactured-authority",
   "metadata": {},
   "source": [
    "## 4. Given a common phrase, return False if any individual word in the phrase contains duplicate letters. Return True otherwise.\n",
    "\n",
    "Examples\n",
    "\n",
    "no_duplicate_letters(\"Fortune favours the bold.\") ➞ True\n",
    "\n",
    "no_duplicate_letters(\"You can lead a horse to water, but you can't make him drink.\") ➞ True\n",
    "\n",
    "no_duplicate_letters(\"Look before you leap.\") ➞ False\n",
    "\n",
    "Duplicate letters in \"Look\" and \"before\".\n",
    "\n",
    "no_duplicate_letters(\"An apple a day keeps the doctor away.\") ➞ False\n",
    "\n",
    "Duplicate letters in \"apple\", \"keeps\", \"doctor\", and \"away\".\n"
   ]
  },
  {
   "cell_type": "code",
   "execution_count": 55,
   "id": "perceived-roberts",
   "metadata": {},
   "outputs": [
    {
     "name": "stdout",
     "output_type": "stream",
     "text": [
      "True\n",
      "True\n",
      "False\n",
      "False\n"
     ]
    }
   ],
   "source": [
    "def no_duplicate_letters(string):\n",
    "    flag=0\n",
    "    l=string.split(' ')\n",
    "    for i in l:\n",
    "        if len(i)>len(set(i)):\n",
    "            flag=1\n",
    "    if flag==1:\n",
    "        print(False)\n",
    "    else:\n",
    "        print(True)\n",
    "    \n",
    "no_duplicate_letters(\"Fortune favours the bold.\") \n",
    "no_duplicate_letters(\"You can lead a horse to water, but you can't make him drink.\") \n",
    "no_duplicate_letters(\"Look before you leap.\")\n",
    "no_duplicate_letters(\"An apple a day keeps the doctor away.\")"
   ]
  },
  {
   "cell_type": "markdown",
   "id": "driving-tutorial",
   "metadata": {},
   "source": [
    "## 5. Write a regular expression that will match the states that voted yes to President Trump's impeachment. You must use RegEx positive lookahead.\n",
    "\n",
    "Example\n",
    "\n",
    "txt = \"Texas = no, California = yes, Florida = yes, Michigan = no\"\n",
    "pattern = \"yourregularexpressionhere\"\n",
    "\n",
    "re.findall(pattern, txt) ➞ [\"California\", \"Florida\"]"
   ]
  },
  {
   "cell_type": "code",
   "execution_count": 64,
   "id": "valid-browser",
   "metadata": {},
   "outputs": [
    {
     "data": {
      "text/plain": [
       "['California', 'Florida']"
      ]
     },
     "execution_count": 64,
     "metadata": {},
     "output_type": "execute_result"
    }
   ],
   "source": [
    "import re\n",
    "txt = \"Texas = no, California = yes, Florida = yes, Michigan = no\"\n",
    "pattern = \"\\, (.*?)\\ = yes\"\n",
    "re.findall(pattern, txt)"
   ]
  }
 ],
 "metadata": {
  "kernelspec": {
   "display_name": "Python 3",
   "language": "python",
   "name": "python3"
  },
  "language_info": {
   "codemirror_mode": {
    "name": "ipython",
    "version": 3
   },
   "file_extension": ".py",
   "mimetype": "text/x-python",
   "name": "python",
   "nbconvert_exporter": "python",
   "pygments_lexer": "ipython3",
   "version": "3.7.10"
  }
 },
 "nbformat": 4,
 "nbformat_minor": 5
}
