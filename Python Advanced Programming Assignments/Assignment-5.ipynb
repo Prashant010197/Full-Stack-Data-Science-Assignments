{
 "cells": [
  {
   "cell_type": "markdown",
   "id": "statistical-static",
   "metadata": {},
   "source": [
    "# Assignment-5"
   ]
  },
  {
   "cell_type": "markdown",
   "id": "instrumental-vision",
   "metadata": {},
   "source": [
    "## 1. Create a function that takes a number n (integer greater than zero) as an argument, and returns 2 if n is odd and 8 if n is even.\n",
    "\n",
    "You can only use the following arithmetic operators: addition of numbers +, subtraction of numbers -, multiplication of number *, division of number /, and exponentiation **.\n",
    "\n",
    "You are not allowed to use any other methods in this challenge (i.e. no if statements, comparison operators, etc).\n",
    "\n",
    "Examples\n",
    "\n",
    "f(1) ➞ 2\n",
    "\n",
    "f(2) ➞ 8\n",
    "\n",
    "f(3) ➞ 2"
   ]
  },
  {
   "cell_type": "code",
   "execution_count": 6,
   "id": "threaded-tiffany",
   "metadata": {},
   "outputs": [
    {
     "name": "stdout",
     "output_type": "stream",
     "text": [
      "2\n",
      "2\n",
      "8\n"
     ]
    }
   ],
   "source": [
    "def f(n):\n",
    "    l=[8,2]\n",
    "    res=n%2\n",
    "    print(l[res])\n",
    "f(3)\n",
    "f(13)\n",
    "f(24)"
   ]
  },
  {
   "cell_type": "markdown",
   "id": "forward-given",
   "metadata": {},
   "source": [
    "## 2. Create a function that returns the majority vote in a list. A majority vote is an element that occurs > N/2 times in a list (where N is the length of the list).\n",
    "\n",
    "Examples\n",
    "\n",
    "majority_vote([\"A\", \"A\", \"B\"]) ➞ \"A\"\n",
    "\n",
    "majority_vote([\"A\", \"A\", \"A\", \"B\", \"C\", \"A\"]) ➞ \"A\"\n",
    "\n",
    "majority_vote([\"A\", \"B\", \"B\", \"A\", \"C\", \"C\"]) ➞ None"
   ]
  },
  {
   "cell_type": "code",
   "execution_count": 42,
   "id": "suburban-sugar",
   "metadata": {},
   "outputs": [
    {
     "name": "stdout",
     "output_type": "stream",
     "text": [
      "A\n",
      "A\n",
      "None\n"
     ]
    }
   ],
   "source": [
    "def majority_vote(l):\n",
    "    d={}\n",
    "    check=0\n",
    "    for i in l:\n",
    "        if i not in d:\n",
    "            d[i]=1\n",
    "        else:\n",
    "            d[i]=d[i]+1\n",
    "    vals = list(d.values())\n",
    "    keys = list(d.keys())\n",
    "    for j in d.keys():\n",
    "        if d[j]>(len(l)/2):\n",
    "            res=d[j]\n",
    "            check=1\n",
    "            break\n",
    "    if check==1:\n",
    "        print(keys[vals.index(res)])\n",
    "    else:\n",
    "        print(None)\n",
    "\n",
    "majority_vote([\"A\", \"A\", \"B\"])\n",
    "majority_vote([\"A\", \"A\", \"A\", \"B\", \"C\", \"A\"])\n",
    "majority_vote([\"A\", \"B\", \"B\", \"A\", \"C\", \"C\"])"
   ]
  },
  {
   "cell_type": "markdown",
   "id": "beneficial-result",
   "metadata": {},
   "source": [
    "## 3. Create a function that takes a string txt and censors any word from a given list lst. The text removed must be replaced by the given character char.\n",
    "\n",
    "Examples\n",
    "\n",
    "censor_string(\"Today is a Wednesday!\", [\"Today\", \"a\"], \"-\") ➞ \"----- is - Wednesday!\"\n",
    "\n",
    "censor_string(\"The cow jumped over the moon.\", [\"cow\", \"over\"], \"*\"), \"The *** jumped **** the moon.\")\n",
    "\n",
    "censor_string(\"Why did the chicken cross the road?\", [\"Did\", \"chicken\", \"road\"], \"*\") ➞ \"Why *** the ******* cross the ****?\"\n"
   ]
  },
  {
   "cell_type": "code",
   "execution_count": 15,
   "id": "centered-vitamin",
   "metadata": {},
   "outputs": [
    {
     "name": "stdout",
     "output_type": "stream",
     "text": [
      "mast\n",
      "mast\n"
     ]
    }
   ],
   "source": [
    "def censor_string(string, to_be_replaced, replacement):\n",
    "    new=''\n",
    "    string=string.split(\" \")\n",
    "    for i in string:\n",
    "        if i in to_be_replaced:\n",
    "            print('mast')\n",
    "    \n",
    "censor_string(\"Today is a Wednesday!\", [\"Today\", \"a\"], \"-\")"
   ]
  },
  {
   "cell_type": "markdown",
   "id": "pressed-hollywood",
   "metadata": {},
   "source": [
    "## 5. Create a function that takes a list of numbers and returns the sum of all prime numbers in the list.\n",
    "\n",
    "Examples\n",
    "\n",
    "sum_primes([1, 2, 3, 4, 5, 6, 7, 8, 9, 10]) ➞ 18\n",
    "\n",
    "sum_primes([2, 3, 4, 11, 20, 50, 71]) ➞ 87\n",
    "\n",
    "sum_primes([]) ➞ None"
   ]
  },
  {
   "cell_type": "code",
   "execution_count": 30,
   "id": "little-photographer",
   "metadata": {},
   "outputs": [
    {
     "name": "stdout",
     "output_type": "stream",
     "text": [
      "18\n",
      "87\n",
      "None\n"
     ]
    }
   ],
   "source": [
    "def sum_primes(l):\n",
    "    sum_=0\n",
    "    if l!=[]:\n",
    "        for i in l:\n",
    "            check=0\n",
    "            for j in range(2,i-1):\n",
    "                if i%j==0:\n",
    "                    check=1\n",
    "            if check==0:\n",
    "                sum_=sum_+i\n",
    "        print(sum_)\n",
    "    else:\n",
    "        print(None)\n",
    "                \n",
    "sum_primes([1, 2, 3, 4, 5, 6, 7, 8, 9, 10])\n",
    "sum_primes([2, 3, 4, 11, 20, 50, 71])\n",
    "sum_primes([])"
   ]
  },
  {
   "cell_type": "markdown",
   "id": "logical-quebec",
   "metadata": {},
   "source": [
    "4. In mathematics a Polydivisible Number (or magic number) is a number in a given number base with digits abcde... that has the following properties:\n",
    "\n",
    "-  Its first digit a is not 0.\n",
    "- The number formed by its first two digits ab is a multiple of 2.\n",
    "- The number formed by its first three digits abc is a multiple of 3.\n",
    "- The number formed by its first four digits abcd is a multiple of 4.\n",
    "\n",
    "Create a function which takes an integer n and returns True if the given number is a Polydivisible Number and False otherwise.\n",
    "\n",
    "Examples\n",
    "\n",
    "is_polydivisible(1232) ➞ True\n",
    "1     / 1 = 1\n",
    "12    / 2 = 6\n",
    "123   / 3 = 41\n",
    "1232  / 4 = 308\n",
    "\n",
    "is_polydivisible(123220 ) ➞ False\n",
    "1   / 1 = 1\n",
    "12   / 2 = 6\n",
    "123   / 3 = 41\n",
    "1232   / 4 = 308\n",
    "12322   / 5 = 2464.4         # Not a Whole Number\n",
    "123220   /6 = 220536.333...  # Not a Whole Number\n"
   ]
  },
  {
   "cell_type": "code",
   "execution_count": 54,
   "id": "czech-probability",
   "metadata": {},
   "outputs": [
    {
     "name": "stdout",
     "output_type": "stream",
     "text": [
      "True\n",
      "False\n"
     ]
    }
   ],
   "source": [
    "def is_polydivisible(n):\n",
    "    check=0\n",
    "    n=str(n)\n",
    "    for i in range(len(n)):\n",
    "        if int(n[:i+1])%(i+1)==0:\n",
    "            check=1\n",
    "        else:\n",
    "            check=0\n",
    "    if check==1:\n",
    "        print(True)\n",
    "    else:\n",
    "        print(False)\n",
    "            \n",
    "is_polydivisible(1232)\n",
    "is_polydivisible(123220)"
   ]
  }
 ],
 "metadata": {
  "kernelspec": {
   "display_name": "Python 3",
   "language": "python",
   "name": "python3"
  },
  "language_info": {
   "codemirror_mode": {
    "name": "ipython",
    "version": 3
   },
   "file_extension": ".py",
   "mimetype": "text/x-python",
   "name": "python",
   "nbconvert_exporter": "python",
   "pygments_lexer": "ipython3",
   "version": "3.7.10"
  }
 },
 "nbformat": 4,
 "nbformat_minor": 5
}
