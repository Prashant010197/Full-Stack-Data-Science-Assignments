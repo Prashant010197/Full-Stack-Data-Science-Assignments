{
 "cells": [
  {
   "cell_type": "markdown",
   "id": "bronze-prayer",
   "metadata": {},
   "source": [
    "# Assignment-14"
   ]
  },
  {
   "cell_type": "markdown",
   "id": "compact-potter",
   "metadata": {},
   "source": [
    "## 1. Given a list of numbers, create a function that removes 25% from every number in the list except the smallest number, and adds the total amount removed to the smallest number.\n",
    "\n",
    "Examples\n",
    "\n",
    "show_the_love([4, 1, 4]) ➞ [3, 3, 3]\n",
    "\n",
    "show_the_love([16, 10, 8]) ➞ [12, 7.5, 14.5]\n",
    "\n",
    "show_the_love([2, 100]) ➞ [27, 75]"
   ]
  },
  {
   "cell_type": "code",
   "execution_count": 9,
   "id": "compressed-swimming",
   "metadata": {},
   "outputs": [
    {
     "name": "stdout",
     "output_type": "stream",
     "text": [
      "[3.0, 3.0, 3.0]\n",
      "[12.0, 7.5, 10.5]\n",
      "[25.0, 75.0]\n"
     ]
    }
   ],
   "source": [
    "def show_the_love(l):\n",
    "    sum_=0\n",
    "    ls=[]\n",
    "    for i in l:\n",
    "        if i!=min(l):\n",
    "            ls.append(i-(i*0.25))\n",
    "            l[l.index(i)]=i-(i*0.25)\n",
    "            sum_+=i*0.25\n",
    "        else:\n",
    "            continue\n",
    "    l[l.index(min(l))]=sum_+l.index(min(l))\n",
    "    print(l)\n",
    "        \n",
    "        \n",
    "show_the_love([4, 1, 4])\n",
    "show_the_love([16, 10, 8])\n",
    "show_the_love([2, 100])"
   ]
  },
  {
   "cell_type": "markdown",
   "id": "announced-wedding",
   "metadata": {},
   "source": [
    "## 2. Create a function that takes in two words as input and returns a list of three elements, in the following order:\n",
    "\n",
    "   1.Shared letters between two words.\n",
    "   2.Letters unique to word 1.\n",
    "   3.Letters unique to word 2.\n",
    "\n",
    "Each element should have unique letters, and have each letter be alphabetically sorted.\n",
    "\n",
    "Examples\n",
    "\n",
    "letters(\"sharp\", \"soap\") ➞ [\"aps\", \"hr\", \"o\"]\n",
    "\n",
    "letters(\"board\", \"bored\") ➞ [\"bdor\", \"a\", \"e\"]\n",
    "\n",
    "letters(\"happiness\", \"envelope\") ➞ [\"enp\", \"ahis\", \"lov\"]\n",
    "\n",
    "letters(\"kerfuffle\", \"fluffy\") ➞ [\"flu\", \"ekr\", \"y\"]\n",
    "\n",
    "Even with multiple matching letters (e.g. 3 f's), there should \n",
    "\n",
    "only exist a single \"f\" in your first element.\n",
    "\n",
    "letters(\"match\", \"ham\") ➞ [\"ahm\", \"ct\", \"\"]\n",
    "\n",
    "\"ham\" does not contain any letters that are not found already \n",
    "\n",
    "in \"match\".\n"
   ]
  },
  {
   "cell_type": "code",
   "execution_count": 22,
   "id": "ordered-assumption",
   "metadata": {},
   "outputs": [
    {
     "name": "stdout",
     "output_type": "stream",
     "text": [
      "['aps', 'hr', 'o']\n",
      "['bdor', 'a', 'e']\n",
      "['enp', 'ahis', 'lov']\n",
      "['flu', 'ekr', 'y']\n",
      "['ahm', 'ct', '']\n"
     ]
    }
   ],
   "source": [
    "def letters(s1,s2):\n",
    "    common=''.join(sorted(set(s1).intersection(s2)))\n",
    "    uniques1=''\n",
    "    uniques2=''\n",
    "    for i in s1:\n",
    "        if i not in s2 and i not in uniques1:\n",
    "            uniques1+=i\n",
    "    for j in s2:\n",
    "        if j not in s1 and j not in uniques2:\n",
    "            uniques2+=j\n",
    "    print([common,''.join(sorted(uniques1)),''.join(sorted(uniques2))])\n",
    "            \n",
    "letters(\"sharp\", \"soap\")\n",
    "letters(\"board\", \"bored\")\n",
    "letters(\"happiness\", \"envelope\")\n",
    "letters(\"kerfuffle\", \"fluffy\")\n",
    "letters(\"match\", \"ham\")"
   ]
  },
  {
   "cell_type": "markdown",
   "id": "taken-gothic",
   "metadata": {},
   "source": [
    "## 3. Write a function that pairs the first number in an array with the last, the second number with the second to last, etc.\n",
    "\n",
    "Examples\n",
    "\n",
    "pairs([1, 2, 3, 4, 5, 6, 7]) ➞ [[1, 7], [2, 6], [3, 5], [4, 4]]\n",
    "\n",
    "pairs([1, 2, 3, 4, 5, 6]) ➞ [[1, 6], [2, 5], [3, 4]]\n",
    "\n",
    "pairs([5, 9, 8, 1, 2]) ➞ [[5, 2], [9, 1], [8, 8]]\n",
    "\n",
    "pairs([]) ➞ []"
   ]
  },
  {
   "cell_type": "code",
   "execution_count": 34,
   "id": "bottom-passage",
   "metadata": {},
   "outputs": [
    {
     "name": "stdout",
     "output_type": "stream",
     "text": [
      "[[1, 7], [2, 6], [3, 5], [4, 4]]\n",
      "[[1, 6], [2, 5], [3, 4]]\n",
      "[[5, 2], [9, 1], [8, 8]]\n",
      "[]\n"
     ]
    }
   ],
   "source": [
    "def pairs(l):\n",
    "    ls=[]\n",
    "    if len(l)%2==0:\n",
    "        for i in range(len(l)//2):\n",
    "            ls.append([l[i],l[-i-1]])\n",
    "        print(ls)\n",
    "    else:\n",
    "        for i in range((len(l)//2)+1):\n",
    "            ls.append([l[i],l[-i-1]])\n",
    "        print(ls)\n",
    "    \n",
    "    \n",
    "pairs([1, 2, 3, 4, 5, 6, 7])\n",
    "pairs([1, 2, 3, 4, 5, 6])\n",
    "pairs([5, 9, 8, 1, 2])\n",
    "pairs([])"
   ]
  },
  {
   "cell_type": "markdown",
   "id": "quantitative-sunday",
   "metadata": {},
   "source": [
    "## 4. Write a function that adds two numbers. The catch, however, is that the numbers will be strings.\n",
    "\n",
    "Examples\n",
    "\n",
    "add_str_nums(\"4\", \"5\") ➞ \"9\"\n",
    "\n",
    "add_str_nums(\"abcdefg\", \"3\") ➞ \"-1\"\n",
    "\n",
    "add_str_nums(\"1\", \"\") ➞ \"1\"\n",
    "\n",
    "add_str_nums(\"1874682736267235927359283579235789257\", \"32652983572985729\") ➞ \"1874682736267235927391936562808774986\""
   ]
  },
  {
   "cell_type": "code",
   "execution_count": 43,
   "id": "chicken-surprise",
   "metadata": {},
   "outputs": [
    {
     "name": "stdout",
     "output_type": "stream",
     "text": [
      "9\n",
      "1\n",
      "1874682736267235927391936562808774986\n"
     ]
    }
   ],
   "source": [
    "def add_str_nums(n1,n2):\n",
    "    if n1=='':\n",
    "        n1='0'\n",
    "    if n2=='':\n",
    "        n2='0'\n",
    "    n1=int(n1)\n",
    "    n2=int(n2)\n",
    "    print(str(n1+n2))\n",
    "\n",
    "add_str_nums('4','5')\n",
    "add_str_nums(\"1\", \"\")\n",
    "add_str_nums(\"1874682736267235927359283579235789257\", \"32652983572985729\")"
   ]
  },
  {
   "cell_type": "markdown",
   "id": "secret-navigation",
   "metadata": {},
   "source": [
    "## 5. lPaeesh le pemu mnxit ehess rtnisg! Oh, sorry, that was supposed to say: Please help me unmix these strings!\n",
    "\n",
    "Somehow my strings have all become mixed up; every pair of characters has been swapped. Help me undo this so I can understand my strings again.\n",
    "\n",
    "Examples\n",
    "\n",
    "unmix(\"123456\") ➞ \"214365\"\n",
    "\n",
    "unmix(\"hTsii  s aimex dpus rtni.g\") ➞ \"This is a mixed up string.\"\n",
    "\n",
    "unmix(\"badce\") ➞ \"abcde\""
   ]
  },
  {
   "cell_type": "code",
   "execution_count": 55,
   "id": "solid-minute",
   "metadata": {},
   "outputs": [
    {
     "name": "stdout",
     "output_type": "stream",
     "text": [
      "214365\n",
      "This i siaem xpdsur nt.ig\n",
      "abcde\n"
     ]
    }
   ],
   "source": [
    "def unmix(string):\n",
    "    string=list(string)\n",
    "    for i in range(0,len(string)-1,2):\n",
    "        temp=string[i+1]\n",
    "        string[i+1]=string[i]\n",
    "        string[i]=temp\n",
    "    print(''.join(string))\n",
    "unmix(\"123456\")\n",
    "unmix(\"hTsii s aimex dpus rtni.g\")\n",
    "unmix(\"badce\")"
   ]
  }
 ],
 "metadata": {
  "kernelspec": {
   "display_name": "Python 3",
   "language": "python",
   "name": "python3"
  },
  "language_info": {
   "codemirror_mode": {
    "name": "ipython",
    "version": 3
   },
   "file_extension": ".py",
   "mimetype": "text/x-python",
   "name": "python",
   "nbconvert_exporter": "python",
   "pygments_lexer": "ipython3",
   "version": "3.7.10"
  }
 },
 "nbformat": 4,
 "nbformat_minor": 5
}
