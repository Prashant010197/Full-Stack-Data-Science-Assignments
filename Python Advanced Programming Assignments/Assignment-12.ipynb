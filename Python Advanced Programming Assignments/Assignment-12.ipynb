{
 "cells": [
  {
   "cell_type": "markdown",
   "id": "dependent-ideal",
   "metadata": {},
   "source": [
    "# Assignment-12"
   ]
  },
  {
   "cell_type": "markdown",
   "id": "center-compromise",
   "metadata": {},
   "source": [
    "\n",
    "\n",
    "Examples\n",
    "\n",
    "meme_sum(26, 39) ➞ 515\n",
    "\n",
    "2+3 = 5, 6+9 = 15\n",
    "\n",
    "26 + 39 = 515\n",
    "\n",
    "meme_sum(122, 81) ➞ 1103\n",
    "\n",
    "1+0 = 1, 2+8 = 10, 2+1 = 3\n",
    "\n",
    "122 + 81 = 1103\n",
    "\n",
    "meme_sum(1222, 30277) ➞ 31499\n"
   ]
  },
  {
   "cell_type": "code",
   "execution_count": 61,
   "id": "elementary-democrat",
   "metadata": {},
   "outputs": [
    {
     "name": "stdout",
     "output_type": "stream",
     "text": [
      "[15, 5]\n",
      "[3, 9]\n"
     ]
    }
   ],
   "source": [
    "def meme_sum(n1,n2):\n",
    "    res=[]\n",
    "    stringn1,stringn2=str(n1),str(n2)\n",
    "    for i in reversed(range(min(len(stringn1),len(stringn2)))):\n",
    "        res.append(int(stringn1[i])+int(stringn2[i]))\n",
    "    print(res)\n",
    "\n",
    "meme_sum(26,39)\n",
    "meme_sum(122, 81)"
   ]
  },
  {
   "cell_type": "markdown",
   "id": "innocent-priest",
   "metadata": {},
   "source": [
    "## 2. Given an integer, create a function that returns the next prime. If the number is prime, return the number itself.\n",
    "\n",
    "Examples\n",
    "\n",
    "next_prime(12) ➞ 13\n",
    "\n",
    "next_prime(24) ➞ 29\n",
    "\n",
    "next_prime(11) ➞ 11\n",
    "\n",
    "11 is a prime, so we return the number itself."
   ]
  },
  {
   "cell_type": "code",
   "execution_count": 55,
   "id": "manufactured-hypothetical",
   "metadata": {},
   "outputs": [
    {
     "name": "stdout",
     "output_type": "stream",
     "text": [
      "13\n",
      "29\n",
      "11\n"
     ]
    }
   ],
   "source": [
    "def next_prime(n):\n",
    "    if check(n)==True:\n",
    "        print(n)\n",
    "    else:\n",
    "        number=n\n",
    "        flag=0\n",
    "        while(flag==0):\n",
    "            number=number+1\n",
    "            if(check(number)==True):\n",
    "                flag=1\n",
    "        print(number)\n",
    "\n",
    "def check(n):\n",
    "    flag=0\n",
    "    for i in range(2,n):\n",
    "        if n%i==0:\n",
    "            flag=1\n",
    "            break\n",
    "    if flag==0:\n",
    "        return True\n",
    "    \n",
    "    \n",
    "next_prime(12)\n",
    "next_prime(24)\n",
    "next_prime(11)"
   ]
  },
  {
   "cell_type": "markdown",
   "id": "nearby-nickel",
   "metadata": {},
   "source": [
    "## 3. If a person traveled up a hill for 18mins at 20mph and then traveled back down the same path at 60mph then their average speed traveled was 30mph.\n",
    "\n",
    "Write a function that returns the average speed traveled given an uphill time, uphill rate and a downhill rate. Uphill time is given in minutes. Return the rate as an integer (mph). No rounding is necessary.\n",
    "\n",
    "Examples\n",
    "\n",
    "ave_spd(18, 20, 60) ➞ 30\n",
    "\n",
    "ave_spd(30, 10, 30) ➞ 15\n",
    "\n",
    "ave_spd(30, 8, 24) ➞ 12"
   ]
  },
  {
   "cell_type": "code",
   "execution_count": 29,
   "id": "amateur-viewer",
   "metadata": {},
   "outputs": [
    {
     "name": "stdout",
     "output_type": "stream",
     "text": [
      "30\n",
      "15\n",
      "12\n"
     ]
    }
   ],
   "source": [
    "def ave_spd(time, speed, return_speed):\n",
    "    time=time/60\n",
    "    distance=time*speed\n",
    "    return_time=distance/return_speed\n",
    "    total_distance=2*distance\n",
    "    total_time=time+return_time\n",
    "    print(int(total_distance/total_time))\n",
    "    \n",
    "    \n",
    "ave_spd(18, 20, 60)\n",
    "ave_spd(30, 10, 30)\n",
    "ave_spd(30, 8, 24)"
   ]
  },
  {
   "cell_type": "markdown",
   "id": "pursuant-honolulu",
   "metadata": {},
   "source": [
    "## 4. The Kempner Function, applied to a composite number, permits to find the smallest integer greater than zero whose factorial is exactly divided by the number.\n",
    "\n",
    "kempner(6) ➞ 3\n",
    "\n",
    "1! = 1 % 6 > 0\n",
    "\n",
    "2! = 2 % 6 > 0\n",
    "\n",
    "3! = 6 % 6 === 0\n",
    "\n",
    "kempner(10) ➞ 5\n",
    "\n",
    "1! = 1 % 10 > 0\n",
    "\n",
    "2! = 2 % 10 > 0\n",
    "\n",
    "3! = 6 % 10 > 0\n",
    "\n",
    "4! = 24 % 10 > 0\n",
    "\n",
    "5! = 120 % 10 === 0\n",
    "\n",
    "A Kempner Function applied to a prime will always return the prime itself.\n",
    "\n",
    "kempner(2) ➞ 2\n",
    "\n",
    "kempner(5) ➞ 5\n"
   ]
  },
  {
   "cell_type": "code",
   "execution_count": 64,
   "id": "registered-coffee",
   "metadata": {},
   "outputs": [],
   "source": [
    "def kempner(n,i=1,l=1):\n",
    "    if l%n==0:\n",
    "        return max(1,i-1)\n",
    "    else:\n",
    "        return kempner(n,i+1,l*i)"
   ]
  },
  {
   "cell_type": "code",
   "execution_count": 65,
   "id": "stone-vancouver",
   "metadata": {},
   "outputs": [
    {
     "data": {
      "text/plain": [
       "3"
      ]
     },
     "execution_count": 65,
     "metadata": {},
     "output_type": "execute_result"
    }
   ],
   "source": [
    "kempner(6)"
   ]
  },
  {
   "cell_type": "code",
   "execution_count": 66,
   "id": "endangered-specialist",
   "metadata": {},
   "outputs": [
    {
     "data": {
      "text/plain": [
       "5"
      ]
     },
     "execution_count": 66,
     "metadata": {},
     "output_type": "execute_result"
    }
   ],
   "source": [
    "kempner(10)"
   ]
  },
  {
   "cell_type": "code",
   "execution_count": 67,
   "id": "final-combine",
   "metadata": {},
   "outputs": [
    {
     "data": {
      "text/plain": [
       "2"
      ]
     },
     "execution_count": 67,
     "metadata": {},
     "output_type": "execute_result"
    }
   ],
   "source": [
    "kempner(2)"
   ]
  },
  {
   "cell_type": "markdown",
   "id": "former-dimension",
   "metadata": {},
   "source": [
    "## 5. You work in a factory, and your job is to take items from a conveyor belt and pack them into boxes. Each box can hold a maximum of 10 kgs. Given a list containing the weight (in kg) of each item, how many boxes would you need to pack all of the items?\n",
    "\n",
    "Example\n",
    "\n",
    "boxes([2, 1, 2, 5, 4, 3, 6, 1, 1, 9, 3, 2]) ➞ 5\n",
    "\n",
    "Box 1 = [2, 1, 2, 5] (10kg)\n",
    "\n",
    "Box 2 = [4, 3] (7kg)\n",
    "\n",
    "Box 3 = [6, 1, 1] (8kg)\n",
    "\n",
    "Box 4 = [9] (9kg)\n",
    "\n",
    "Box 5 = [3, 2] (5kg)"
   ]
  },
  {
   "cell_type": "code",
   "execution_count": 26,
   "id": "latest-sewing",
   "metadata": {},
   "outputs": [
    {
     "name": "stdout",
     "output_type": "stream",
     "text": [
      "5\n"
     ]
    }
   ],
   "source": [
    "def boxes(l):\n",
    "    count=1\n",
    "    sum_=0\n",
    "    for i in range(len(l)):\n",
    "        sum_+=l[i]\n",
    "        if sum_>10:\n",
    "            sum_=0\n",
    "            count+=1\n",
    "            sum_+=l[i]\n",
    "    print(count)\n",
    "boxes([2, 1, 2, 5, 4, 3, 6, 1, 1, 9, 3, 2])"
   ]
  }
 ],
 "metadata": {
  "kernelspec": {
   "display_name": "Python 3",
   "language": "python",
   "name": "python3"
  },
  "language_info": {
   "codemirror_mode": {
    "name": "ipython",
    "version": 3
   },
   "file_extension": ".py",
   "mimetype": "text/x-python",
   "name": "python",
   "nbconvert_exporter": "python",
   "pygments_lexer": "ipython3",
   "version": "3.7.10"
  }
 },
 "nbformat": 4,
 "nbformat_minor": 5
}
