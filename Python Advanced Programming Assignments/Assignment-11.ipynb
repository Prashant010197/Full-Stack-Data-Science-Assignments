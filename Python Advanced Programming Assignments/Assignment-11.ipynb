{
 "cells": [
  {
   "cell_type": "markdown",
   "id": "processed-federation",
   "metadata": {},
   "source": [
    "# Assignment-11"
   ]
  },
  {
   "cell_type": "markdown",
   "id": "blind-reduction",
   "metadata": {},
   "source": [
    "## 1. Create a function that takes a list and returns a new list containing only prime numbers.\n",
    "\n",
    "Examples\n",
    "\n",
    "filter_primes([7, 9, 3, 9, 10, 11, 27]) ➞ [7, 3, 11]\n",
    "\n",
    "filter_primes([10007, 1009, 1007, 27, 147, 77, 1001, 70]) ➞ [10007, 1009]\n",
    "\n",
    "filter_primes([1009, 10, 10, 10, 3, 33, 9, 4, 1, 61, 63, 69, 1087, 1091, 1093, 1097]) ➞ [1009, 3, 61, 1087, 1091, 1093, 1097]"
   ]
  },
  {
   "cell_type": "code",
   "execution_count": 13,
   "id": "monetary-poverty",
   "metadata": {},
   "outputs": [
    {
     "name": "stdout",
     "output_type": "stream",
     "text": [
      "[7, 3, 11]\n",
      "[10007, 1009]\n",
      "[1009, 3, 61, 1087, 1091, 1093, 1097]\n"
     ]
    }
   ],
   "source": [
    "def filter_primes(l):\n",
    "    ls=[]\n",
    "    for i in l:\n",
    "        if i>1:\n",
    "            flag=0\n",
    "            for j in range(2, int(i/2)+1):\n",
    "                if (i%j)==0:\n",
    "                    flag=1\n",
    "            if flag==0:\n",
    "                ls.append(i)\n",
    "    print(ls)\n",
    "\n",
    "filter_primes([7, 9, 3, 9, 10, 11, 27])\n",
    "filter_primes([10007, 1009, 1007, 27, 147, 77, 1001, 70])\n",
    "filter_primes([1009, 10, 10, 10, 3, 33, 9, 4, 1, 61, 63, 69, 1087, 1091, 1093, 1097])"
   ]
  },
  {
   "cell_type": "markdown",
   "id": "sixth-allergy",
   "metadata": {},
   "source": [
    "## 2. Once a water balloon pops, is soaks the area around it. The ground gets drier the further away you travel from the balloon.\n",
    "\n",
    "The effect of a water balloon popping can be modeled using a list. Create a function that takes a list which takes the pre-pop state and returns the state after the balloon is popped. The pre-pop state will contain at most a single balloon, whose size is represented by the only non-zero element.\n",
    "\n",
    "Examples\n",
    "\n",
    "pop([0, 0, 0, 0, 4, 0, 0, 0, 0]) ➞ [0, 1, 2, 3, 4, 3, 2, 1, 0]\n",
    "\n",
    "pop([0, 0, 0, 3, 0, 0, 0]) ➞ [0, 1, 2, 3, 2, 1, 0]\n",
    "\n",
    "pop([0, 0, 2, 0, 0]) ➞ [0, 1, 2, 1, 0]\n",
    "\n",
    "pop([0]) ➞ [0]"
   ]
  },
  {
   "cell_type": "code",
   "execution_count": 24,
   "id": "combined-browser",
   "metadata": {},
   "outputs": [
    {
     "name": "stdout",
     "output_type": "stream",
     "text": [
      "[0, 1, 2, 3, 4, 3, 2, 1, 0]\n",
      "[0, 1, 2, 3, 2, 1, 0]\n",
      "[0, 1, 2, 1, 0]\n",
      "[0]\n"
     ]
    }
   ],
   "source": [
    "def pop(l):\n",
    "    ls=[]\n",
    "    pos=l.index(max(l))\n",
    "    for i in range(0, pos):\n",
    "        ls.append(i-l[i])\n",
    "    ls.append(l[pos])\n",
    "    for i in reversed(range(0, pos)):\n",
    "        ls.append(i-l[i])\n",
    "    print(ls)\n",
    "        \n",
    "        \n",
    "    \n",
    "pop([0, 0, 0, 0, 4, 0, 0, 0, 0])\n",
    "pop([0, 0, 0, 3, 0, 0, 0])\n",
    "pop([0, 0, 2, 0, 0])\n",
    "pop([0])"
   ]
  },
  {
   "cell_type": "markdown",
   "id": "wanted-ghana",
   "metadata": {},
   "source": [
    "## 3. \"Loves me, loves me not\" is a traditional game in which a person plucks off all the petals of a flower one by one, saying the phrase \"Loves me\" and \"Loves me not\" when determining whether the one that they love, loves them back.\n",
    "\n",
    "Given a number of petals, return a string which repeats the phrases \"Loves me\" and \"Loves me not\" for every alternating petal, and return the last phrase in all caps. Remember to put a comma and space between phrases.\n",
    "\n",
    "Examples\n",
    "\n",
    "loves_me(3) ➞ \"Loves me, Loves me not, LOVES ME\"\n",
    "\n",
    "loves_me(6) ➞ \"Loves me, Loves me not, Loves me, Loves me not, Loves me, LOVES ME NOT\"\n",
    "\n",
    "loves_me(1) ➞ \"LOVES ME\""
   ]
  },
  {
   "cell_type": "code",
   "execution_count": 36,
   "id": "proof-target",
   "metadata": {},
   "outputs": [
    {
     "name": "stdout",
     "output_type": "stream",
     "text": [
      "Loves me,Loves me not,LOVES ME\n",
      "Loves me,Loves me not,Loves me,Loves me not,Loves me,LOVES ME NOT\n",
      "LOVES ME\n"
     ]
    }
   ],
   "source": [
    "def loves_me(n):\n",
    "    s=''\n",
    "    a='Loves me'\n",
    "    b='Loves me not'\n",
    "    for i in range(0,n):\n",
    "        if i%2==0:\n",
    "            if i==n-1:\n",
    "                s+=a.upper()\n",
    "            else:\n",
    "                s+=a+','\n",
    "        else:\n",
    "            if i==n-1:\n",
    "                s+=b.upper()\n",
    "            else:\n",
    "                s+=b+','\n",
    "    print(s)\n",
    "loves_me(3)\n",
    "loves_me(6)\n",
    "loves_me(1)"
   ]
  },
  {
   "cell_type": "markdown",
   "id": "lined-isaac",
   "metadata": {},
   "source": [
    "## 4. Write a function that sorts each string in a list by the letter in alphabetic ascending order (a-z).\n",
    "\n",
    "Examples\n",
    "\n",
    "sort_by_letter([\"932c\", \"832u32\", \"2344b\"])\n",
    "\n",
    "➞ [\"2344b\", \"932c\", \"832u32\"]\n",
    "\n",
    "sort_by_letter([\"99a\", \"78b\", \"c2345\", \"11d\"])\n",
    "\n",
    "➞ [\"99a\", \"78b\", \"c2345\", \"11d\"]\n",
    "\n",
    "sort_by_letter([\"572z\", \"5y5\", \"304q2\"])\n",
    "\n",
    "➞ [\"304q2\", \"5y5\", \"572z\"]\n",
    "\n",
    "sort_by_letter([])\n",
    "\n",
    "➞ []"
   ]
  },
  {
   "cell_type": "code",
   "execution_count": 45,
   "id": "restricted-startup",
   "metadata": {},
   "outputs": [
    {
     "name": "stdout",
     "output_type": "stream",
     "text": [
      "['239c', '22338u', '2344b']\n",
      "['99a', '78b', '2345c', '11d']\n",
      "['257z', '55y', '0234q']\n",
      "[]\n"
     ]
    }
   ],
   "source": [
    "def sort_by_letter(l):\n",
    "    ls=[('').join(sorted(i)) for i in l]\n",
    "    print(ls)\n",
    "\n",
    "sort_by_letter([\"932c\", \"832u32\", \"2344b\"])\n",
    "sort_by_letter([\"99a\", \"78b\", \"c2345\", \"11d\"])\n",
    "sort_by_letter([\"572z\", \"5y5\", \"304q2\"])\n",
    "sort_by_letter([])"
   ]
  },
  {
   "cell_type": "markdown",
   "id": "cardiac-dominican",
   "metadata": {},
   "source": [
    "## Create a function that returns the letter position that the ball is at, once I finish swapping the cups. The swaps will be given to you as a list.\n",
    "\n",
    "Example\n",
    "\n",
    "cup_swapping([\"AB\", \"CA\", \"AB\"]) ➞ \"C\"\n",
    "\n",
    "Ball begins at position B.\n",
    "\n",
    "Cups A and B swap, so the ball is at position A.\n",
    "\n",
    "Cups C and A swap, so the ball is at position C.\n",
    "\n",
    "Cups A and B swap, but the ball is at position C, so it doesn't move."
   ]
  },
  {
   "cell_type": "code",
   "execution_count": 83,
   "id": "divine-commitment",
   "metadata": {},
   "outputs": [
    {
     "name": "stdout",
     "output_type": "stream",
     "text": [
      "C\n"
     ]
    }
   ],
   "source": [
    "def cup_swapping(l):\n",
    "    d={'A': 0, 'B': 1, 'C': 0}\n",
    "    for i in l:\n",
    "        for j in range(0,1):\n",
    "            if d[i[j]]==0 and d[i[j+1]]==1:\n",
    "                d[i[j]]=1\n",
    "                d[i[j+1]]=0\n",
    "            elif d[i[j]]==1 and d[i[j+1]]==0:\n",
    "                d[i[j]]=0\n",
    "                d[i[j+1]]=1\n",
    "    for k in d.keys():\n",
    "        if d[k]==1:\n",
    "            print(k)\n",
    "    \n",
    "cup_swapping([\"AB\", \"CA\", \"AB\"])"
   ]
  }
 ],
 "metadata": {
  "kernelspec": {
   "display_name": "Python 3",
   "language": "python",
   "name": "python3"
  },
  "language_info": {
   "codemirror_mode": {
    "name": "ipython",
    "version": 3
   },
   "file_extension": ".py",
   "mimetype": "text/x-python",
   "name": "python",
   "nbconvert_exporter": "python",
   "pygments_lexer": "ipython3",
   "version": "3.7.10"
  }
 },
 "nbformat": 4,
 "nbformat_minor": 5
}
