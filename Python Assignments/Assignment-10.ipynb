{
 "cells": [
  {
   "cell_type": "markdown",
   "id": "hairy-filename",
   "metadata": {},
   "source": [
    "## Assignment-10"
   ]
  },
  {
   "cell_type": "markdown",
   "id": "indie-component",
   "metadata": {},
   "source": [
    "## 1. How do you distinguish between shutil.copy() and shutil.copytree()?\n",
    "\n",
    "shutil.copy() copies one file while shutil.copytree() copies all files in the current working directory"
   ]
  },
  {
   "cell_type": "markdown",
   "id": "asian-parent",
   "metadata": {},
   "source": [
    "## 2. What function is used to rename files?\n",
    "\n",
    "os.rename()"
   ]
  },
  {
   "cell_type": "markdown",
   "id": "orange-creek",
   "metadata": {},
   "source": [
    "## 3. What is the difference between the delete functions in the send2trash and shutil modules?\n",
    "\n",
    "Shutil delete functions will permanently delete file while send2trash."
   ]
  },
  {
   "cell_type": "markdown",
   "id": "classified-occupation",
   "metadata": {},
   "source": [
    "## 4. ZipFile objects have a close() method just like File objects’ close() method. What ZipFile method is equivalent to File objects’ open() method?\n",
    "\n",
    "zipfile.ZipFile()"
   ]
  },
  {
   "cell_type": "markdown",
   "id": "soviet-audit",
   "metadata": {},
   "source": [
    "## 5. Create a programme that searches a folder tree for files with a certain file extension (such as .pdf or .jpg). Copy these files from whatever location they are in to a new folder."
   ]
  },
  {
   "cell_type": "code",
   "execution_count": 15,
   "id": "other-major",
   "metadata": {},
   "outputs": [],
   "source": [
    "import shutil\n",
    "import os"
   ]
  },
  {
   "cell_type": "code",
   "execution_count": 14,
   "id": "happy-platform",
   "metadata": {},
   "outputs": [],
   "source": [
    "def mover(a):\n",
    "    for root,dirs,files in os.walk(a):\n",
    "        for file in files:\n",
    "            if file.endswith('.txt'):\n",
    "                text = os.path.join(root, file) #Join paths of root and file to get full location of txt file\n",
    "                shutil.copy(text, 'C:/Users/hp/Desktop/New folder (3)/') #Paste into the specified path\n",
    "mover('C:/Users/hp/Desktop/New folder (2)/')"
   ]
  }
 ],
 "metadata": {
  "kernelspec": {
   "display_name": "Python 3",
   "language": "python",
   "name": "python3"
  },
  "language_info": {
   "codemirror_mode": {
    "name": "ipython",
    "version": 3
   },
   "file_extension": ".py",
   "mimetype": "text/x-python",
   "name": "python",
   "nbconvert_exporter": "python",
   "pygments_lexer": "ipython3",
   "version": "3.7.10"
  }
 },
 "nbformat": 4,
 "nbformat_minor": 5
}
