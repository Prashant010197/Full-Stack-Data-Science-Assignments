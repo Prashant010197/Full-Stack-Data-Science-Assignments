{
 "cells": [
  {
   "cell_type": "markdown",
   "id": "honey-playlist",
   "metadata": {},
   "source": [
    "# Assignment-22"
   ]
  },
  {
   "cell_type": "markdown",
   "id": "angry-filing",
   "metadata": {},
   "source": [
    "## 1. What is the result of the code, and explain?\n",
    "\n",
    "\n",
    "X = 'iNeuron'\n",
    "\n",
    "def func():\n",
    "\n",
    ">print(X)\n",
    "\n",
    "func()"
   ]
  },
  {
   "cell_type": "markdown",
   "id": "professional-aruba",
   "metadata": {},
   "source": [
    "iNeuron will be printed. Variable X is initialized with string 'iNeuron'. Function func() is declared which accepts no arguments but prints the value of X. Since the variable is a global variable whose value is also accessible inside a function, the print statement inside the function will print 'iNeuron'."
   ]
  },
  {
   "cell_type": "markdown",
   "id": "talented-macro",
   "metadata": {},
   "source": [
    "## 2. What is the result of the code, and explain?\n",
    "\n",
    "X = 'iNeuron'\n",
    "\n",
    "def func():\n",
    "\n",
    ">X = 'NI!'\n",
    "\n",
    "func()\n",
    "\n",
    "print(X)"
   ]
  },
  {
   "cell_type": "markdown",
   "id": "latin-spring",
   "metadata": {},
   "source": [
    "Value of X inside the function func() is 'NI!' but X here acts as local variable and the string value 'NI!' is only available inside the function. Outside of it, the global variable value 'iNeuron' is the only one accessible. Since the print statement is outside the function block of code, the result is printed as 'iNeuron'"
   ]
  },
  {
   "cell_type": "markdown",
   "id": "verbal-safety",
   "metadata": {},
   "source": [
    "## 3. What does this code print, and why?\n",
    "\n",
    "X = 'iNeuron'\n",
    "\n",
    "def func():\n",
    "\n",
    ">X = 'NI'\n",
    "\n",
    ">print(X)\n",
    "\n",
    "func()\n",
    "\n",
    "print(X)"
   ]
  },
  {
   "cell_type": "markdown",
   "id": "honey-findings",
   "metadata": {},
   "source": [
    "According to LEGB rule, the value of variable X will be 'NI' as it acts as a local variable and its value will only be accessible to the function func() block of code. The print statement inside the function will print local variable value 'NI' while the print statement outside the function will print global variable value 'iNeuron'."
   ]
  },
  {
   "cell_type": "markdown",
   "id": "acquired-broadway",
   "metadata": {},
   "source": [
    "## 4. What output does this code produce? Why?\n",
    "\n",
    "X = 'iNeuron'\n",
    "\n",
    "def func():\n",
    "\n",
    ">global X\n",
    "\n",
    ">X = 'NI'\n",
    "\n",
    "func()\n",
    "\n",
    "print(X)"
   ]
  },
  {
   "cell_type": "markdown",
   "id": "advisory-laser",
   "metadata": {},
   "source": [
    "X, which is already a global variable is again declared a global variable inside the function func(). But, its value is superceded by 'NI' in the subsequent statement. So, the value is printed as 'NI'"
   ]
  },
  {
   "cell_type": "markdown",
   "id": "pretty-february",
   "metadata": {},
   "source": [
    "## 5. What about this code—what’s the output, and why?\n",
    "\n",
    "X = 'iNeuron'\n",
    "\n",
    "def func():\n",
    "\n",
    ">X = 'NI'\n",
    "\n",
    ">def nested():\n",
    "\n",
    ">>print(X)\n",
    "\n",
    ">nested()\n",
    "\n",
    "func()\n",
    "\n",
    "X"
   ]
  },
  {
   "cell_type": "markdown",
   "id": "ahead-analyst",
   "metadata": {},
   "source": [
    "The function func() is called which has no print statement but one local variable X which does not share the memory space with global variable X outside the function body. Function nested() is nested inside the func() and has one print statement. The nested function is called and it accesses the variable X value from inside the func() to print 'NI'. Value of X when accessed outside this function returns 'iNeuron' as it is a global variable."
   ]
  },
  {
   "cell_type": "markdown",
   "id": "representative-tennis",
   "metadata": {},
   "source": [
    "## 6. How about this code: what is its output in Python 3, and explain?\n",
    "\n",
    "def func():\n",
    "\n",
    ">X = 'NI'\n",
    "\n",
    ">def nested():\n",
    "\n",
    ">>nonlocal X\n",
    "\n",
    ">>X = 'Spam'\n",
    "\n",
    ">nested()\n",
    "\n",
    ">print(X)\n",
    "\n",
    "func()"
   ]
  },
  {
   "cell_type": "markdown",
   "id": "living-japanese",
   "metadata": {},
   "source": [
    "X is initialized with 'NI' in func(), which has been called. Nested function nested() is called which explicitly sets X as non local and the value of X is subsequently changed to 'Spam'. Print(X) statement prints the last change in X variable. Hence, the result is printed as 'Spam'"
   ]
  }
 ],
 "metadata": {
  "kernelspec": {
   "display_name": "Python 3",
   "language": "python",
   "name": "python3"
  },
  "language_info": {
   "codemirror_mode": {
    "name": "ipython",
    "version": 3
   },
   "file_extension": ".py",
   "mimetype": "text/x-python",
   "name": "python",
   "nbconvert_exporter": "python",
   "pygments_lexer": "ipython3",
   "version": "3.7.10"
  }
 },
 "nbformat": 4,
 "nbformat_minor": 5
}
