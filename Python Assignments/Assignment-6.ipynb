{
 "cells": [
  {
   "cell_type": "markdown",
   "id": "smart-economy",
   "metadata": {},
   "source": [
    "# Assignment-6"
   ]
  },
  {
   "cell_type": "markdown",
   "id": "personal-strike",
   "metadata": {},
   "source": [
    "## 1. What are escape characters, and how do you use them?\n",
    "\n",
    "Escape characters are used to insert characters inside a string when they are not allowed. \n",
    "\n",
    "Suppose we wish to write a string with usage of double qoutes inside of it, we have to use escape characters."
   ]
  },
  {
   "cell_type": "code",
   "execution_count": 3,
   "id": "practical-reliance",
   "metadata": {
    "scrolled": true
   },
   "outputs": [
    {
     "ename": "SyntaxError",
     "evalue": "invalid syntax (<ipython-input-3-2ae916557131>, line 1)",
     "output_type": "error",
     "traceback": [
      "\u001b[1;36m  File \u001b[1;32m\"<ipython-input-3-2ae916557131>\"\u001b[1;36m, line \u001b[1;32m1\u001b[0m\n\u001b[1;33m    \"My name is Prashant \"Sharma\"\"\u001b[0m\n\u001b[1;37m                               ^\u001b[0m\n\u001b[1;31mSyntaxError\u001b[0m\u001b[1;31m:\u001b[0m invalid syntax\n"
     ]
    }
   ],
   "source": [
    "\"My name is Prashant \"Sharma\"\""
   ]
  },
  {
   "cell_type": "code",
   "execution_count": 5,
   "id": "spatial-plaza",
   "metadata": {},
   "outputs": [
    {
     "data": {
      "text/plain": [
       "'My name is Prashant \"Sharma\"'"
      ]
     },
     "execution_count": 5,
     "metadata": {},
     "output_type": "execute_result"
    }
   ],
   "source": [
    "\"My name is Prashant \\\"Sharma\\\"\""
   ]
  },
  {
   "cell_type": "markdown",
   "id": "diagnostic-seven",
   "metadata": {},
   "source": [
    "## 2. What do the escape characters n and t stand for?\n",
    "\n",
    "'\\n' represents new line and '\\t' represents a tab"
   ]
  },
  {
   "cell_type": "markdown",
   "id": "indie-replica",
   "metadata": {},
   "source": [
    "## 3. What is the way to include backslash characters in a string?\n",
    "\n",
    "To include backslash character, we can add a backslash after a backslash. "
   ]
  },
  {
   "cell_type": "markdown",
   "id": "nervous-mistress",
   "metadata": {},
   "source": [
    "## 4. The string \"Howl's Moving Castle\" is a correct value. Why isn't the single quote character in the word Howl's not escaped a problem?\n",
    "\n",
    "This is because the start and the end of the string are syntactically correct in the use of \"\"."
   ]
  },
  {
   "cell_type": "markdown",
   "id": "impressive-spain",
   "metadata": {},
   "source": [
    "## 5. How do you write a string of newlines if you don't want to use the n character?\n",
    "\n",
    "Multi line strings can be easily used."
   ]
  },
  {
   "cell_type": "markdown",
   "id": "engaged-transfer",
   "metadata": {},
   "source": [
    "## 6. What are the values of the given expressions?\n",
    "\n",
    " 1. 'Hello, world!'[1]\n",
    " \n",
    " 'e'\n",
    " \n",
    " 2. 'Hello, world!'[0:5]\n",
    " \n",
    " 'Hello'\n",
    " \n",
    " 3. 'Hello, world!'[:5]\n",
    " \n",
    " 'Hello'\n",
    " \n",
    " 4. 'Hello, world!'[3:]\n",
    " \n",
    " 'lo, world!'"
   ]
  },
  {
   "cell_type": "markdown",
   "id": "dedicated-kuwait",
   "metadata": {},
   "source": [
    "## 7. What are the values of the following expressions?\n",
    "\n",
    " 1. 'Hello'.upper()\n",
    " \n",
    " 'HELLO'\n",
    " \n",
    " 2. 'Hello'.upper().isupper()\n",
    " \n",
    " True\n",
    " \n",
    " 3. 'Hello'.upper().lower()\n",
    " \n",
    " False"
   ]
  },
  {
   "cell_type": "markdown",
   "id": "acknowledged-savings",
   "metadata": {},
   "source": [
    "## 8. What are the values of the following expressions?\n",
    "\n",
    " 1. 'Remember, remember, the fifth of July.'.split()\n",
    " \n",
    " ['Remember,', 'remember,', 'the', 'fifth', 'of', 'November.']\n",
    " \n",
    " 2. '-'.join('There can only one.'.split())\n",
    " \n",
    " 'There-can-be-only-one.'"
   ]
  },
  {
   "cell_type": "markdown",
   "id": "raising-whale",
   "metadata": {},
   "source": [
    "## 9. What are the methods for right-justifying, left-justifying, and centering a string?\n",
    "\n",
    "rjust(), ljust(), center()"
   ]
  },
  {
   "cell_type": "markdown",
   "id": "economic-basketball",
   "metadata": {},
   "source": [
    "## 10. What is the best way to remove whitespace characters from the start or end?\n",
    "\n",
    "If whitespace characters are to be removed from both start and end, we can use the trim(). If only start or only end is concerned, then we can use rstrip() to remove end whitespace and lstrip() to remove start whitespace."
   ]
  }
 ],
 "metadata": {
  "kernelspec": {
   "display_name": "Python 3",
   "language": "python",
   "name": "python3"
  },
  "language_info": {
   "codemirror_mode": {
    "name": "ipython",
    "version": 3
   },
   "file_extension": ".py",
   "mimetype": "text/x-python",
   "name": "python",
   "nbconvert_exporter": "python",
   "pygments_lexer": "ipython3",
   "version": "3.7.10"
  }
 },
 "nbformat": 4,
 "nbformat_minor": 5
}
