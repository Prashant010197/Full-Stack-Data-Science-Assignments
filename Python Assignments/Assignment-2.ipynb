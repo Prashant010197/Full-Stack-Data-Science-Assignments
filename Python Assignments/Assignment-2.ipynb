{
 "cells": [
  {
   "cell_type": "markdown",
   "id": "pharmaceutical-signal",
   "metadata": {},
   "source": [
    "# Assignment-2 Questions"
   ]
  },
  {
   "cell_type": "markdown",
   "id": "promising-premises",
   "metadata": {},
   "source": [
    "1.What are the two values of the Boolean data type? How do you write them?\n",
    "\n",
    "**Answer:**True and False"
   ]
  },
  {
   "cell_type": "markdown",
   "id": "knowing-center",
   "metadata": {},
   "source": [
    "2.What are the three different types of Boolean operators?\n",
    "\n",
    "**Answer:**Three basic types of boolean operators are AND, NOT and OR."
   ]
  },
  {
   "cell_type": "markdown",
   "id": "respective-plaza",
   "metadata": {},
   "source": [
    "3.Make a list of each Boolean operator's truth tables (i.e. every possible combination of Boolean values for the operator and what it evaluate ).\n",
    "\n",
    "**Answer:**"
   ]
  },
  {
   "cell_type": "code",
   "execution_count": 10,
   "id": "gothic-short",
   "metadata": {},
   "outputs": [],
   "source": [
    "import pandas as pd"
   ]
  },
  {
   "cell_type": "code",
   "execution_count": 25,
   "id": "encouraging-hudson",
   "metadata": {},
   "outputs": [
    {
     "name": "stdout",
     "output_type": "stream",
     "text": [
      "    val1   val2    AND     OR    NOT\n",
      "0  False  False  False  False   True\n",
      "1  False   True  False   True   True\n",
      "2   True  False  False   True  False\n",
      "3   True   True   True   True  False\n"
     ]
    }
   ],
   "source": [
    "l1=[False,False,True,True]\n",
    "l2=[False, True, False, True]\n",
    "AND=[False,False,False,True]\n",
    "OR=[False,True,True,True]\n",
    "NOT=[True,True,False,False]\n",
    "df=pd.DataFrame(zip(l1,l2,AND,OR,NOT), columns=['val1','val2','AND','OR','NOT'])\n",
    "print(df)"
   ]
  },
  {
   "cell_type": "markdown",
   "id": "intermediate-exemption",
   "metadata": {},
   "source": [
    "4.What are the values of the following expressions?\n",
    "\n",
    "(5 > 4) and (3 == 5) --> False\n",
    "\n",
    "not (5 > 4) --> False\n",
    "\n",
    "(5 > 4) or (3 == 5) --> True\n",
    "\n",
    "not ((5 > 4) or (3 == 5)) --> False\n",
    "\n",
    "(True and True) and (True == False) --> False\n",
    "\n",
    "(not False) or (not True) --> True"
   ]
  },
  {
   "cell_type": "raw",
   "id": "german-happening",
   "metadata": {},
   "source": [
    "5.What are the six comparison operators?\n",
    "\n",
    ">\n",
    "\n",
    "<\n",
    "\n",
    "==\n",
    "\n",
    ">=\n",
    "\n",
    "<=\n",
    "\n",
    "!=\n"
   ]
  },
  {
   "cell_type": "markdown",
   "id": "introductory-albany",
   "metadata": {},
   "source": [
    "6.How do you tell the difference between the equal to and assignment operators?Describe a condition and when you would use one.\n",
    "\n",
    "**Answer:** An assignment operator needs one '=' symbol and comparison operator requires two '=' symbols to signify equal to operator usage.\n",
    "\n",
    "Assignment operator would be used to assign some value to a variable while equal to operator will be used for comparison"
   ]
  },
  {
   "cell_type": "code",
   "execution_count": 1,
   "id": "regular-humanity",
   "metadata": {},
   "outputs": [
    {
     "name": "stdout",
     "output_type": "stream",
     "text": [
      "True\n"
     ]
    }
   ],
   "source": [
    "a = 5 #Assignment\n",
    "print(a==5) #Equal to operator"
   ]
  },
  {
   "cell_type": "markdown",
   "id": "contained-trader",
   "metadata": {},
   "source": [
    "7.Identify the three blocks in this code:\n",
    "\n",
    "spam = 0\n",
    "if spam == 10:\n",
    "print('eggs')\n",
    "if spam > 5:\n",
    "print('bacon')\n",
    "else:\n",
    "print('ham')\n",
    "print('spam')\n",
    "print('spam')"
   ]
  },
  {
   "cell_type": "code",
   "execution_count": 2,
   "id": "naval-bible",
   "metadata": {},
   "outputs": [
    {
     "name": "stdout",
     "output_type": "stream",
     "text": [
      "spam\n"
     ]
    }
   ],
   "source": [
    "spam = 0\n",
    "if spam == 10: #Block 1\n",
    "    print('eggs')\n",
    "    if spam > 5: #Block 2\n",
    "        print('bacon')\n",
    "    else:\n",
    "        print('ham') #Block 3\n",
    "    print('spam')\n",
    "print('spam')"
   ]
  },
  {
   "cell_type": "markdown",
   "id": "disturbed-gross",
   "metadata": {},
   "source": [
    "8.Write code that prints Hello if 1 is stored in spam, prints Howdy if 2 is stored in spam, and prints Greetings! if anything else is stored in spam."
   ]
  },
  {
   "cell_type": "code",
   "execution_count": 3,
   "id": "italian-geography",
   "metadata": {},
   "outputs": [
    {
     "name": "stdout",
     "output_type": "stream",
     "text": [
      "enter 1 for Hello, 2 for Howdy and anything random for Greetings1\n",
      "Hello\n"
     ]
    }
   ],
   "source": [
    "spam=int(input(\"enter 1 for Hello, 2 for Howdy and anything random for Greetings\"))\n",
    "if spam==1:\n",
    "    print(\"Hello\")\n",
    "elif spam==2:\n",
    "    print(\"Howdy\")\n",
    "else:\n",
    "    print(\"Greetings!\")"
   ]
  },
  {
   "cell_type": "markdown",
   "id": "moderate-quarter",
   "metadata": {},
   "source": [
    "9.If your programme is stuck in an endless loop, what keys you’ll press?\n",
    "\n",
    "**Answer:** Ctrl+C"
   ]
  },
  {
   "cell_type": "markdown",
   "id": "parallel-morrison",
   "metadata": {},
   "source": [
    "10.How can you tell the difference between break and continue?\n",
    "\n",
    "Break forcefully terminates further execution of a loop when conditions are met. Continue merely skips to the next iteration."
   ]
  },
  {
   "cell_type": "markdown",
   "id": "gross-bedroom",
   "metadata": {},
   "source": [
    "11.In a for loop, what is the difference between range(10), range(0, 10), and range(0, 10, 1)?\n",
    "\n",
    "**Answer:** range(10) prints all numbers starting from default value 0 till 9. Range(0,10) is the exact same as range(10), except that now 0 has been specified as the starting point. Range(0,10,1) means that numbers starting from 0 till 9 will be printed with a step of 1."
   ]
  },
  {
   "cell_type": "markdown",
   "id": "psychological-taxation",
   "metadata": {},
   "source": [
    "12.Write a short program that prints the numbers 1 to 10 using a for loop. Then write an equivalent program that prints the numbers 1 to 10 using a while loop."
   ]
  },
  {
   "cell_type": "code",
   "execution_count": 6,
   "id": "agreed-speaker",
   "metadata": {},
   "outputs": [
    {
     "name": "stdout",
     "output_type": "stream",
     "text": [
      "1\n",
      "2\n",
      "3\n",
      "4\n",
      "5\n",
      "6\n",
      "7\n",
      "8\n",
      "9\n",
      "10\n"
     ]
    }
   ],
   "source": [
    "for i in range(1,11):\n",
    "    print(i)"
   ]
  },
  {
   "cell_type": "code",
   "execution_count": 5,
   "id": "genetic-bookmark",
   "metadata": {},
   "outputs": [
    {
     "name": "stdout",
     "output_type": "stream",
     "text": [
      "1\n",
      "2\n",
      "3\n",
      "4\n",
      "5\n",
      "6\n",
      "7\n",
      "8\n",
      "9\n",
      "10\n"
     ]
    }
   ],
   "source": [
    "i=1\n",
    "while i<11:\n",
    "    print(i)\n",
    "    i=i+1"
   ]
  },
  {
   "cell_type": "markdown",
   "id": "homeless-unknown",
   "metadata": {},
   "source": [
    "13.If you had a function named bacon() inside a module named spam, how would you call it after importing spam?\n",
    "\n",
    "**Answer:**spam.bacon()"
   ]
  },
  {
   "cell_type": "code",
   "execution_count": null,
   "id": "crazy-uganda",
   "metadata": {},
   "outputs": [],
   "source": []
  }
 ],
 "metadata": {
  "kernelspec": {
   "display_name": "Python 3",
   "language": "python",
   "name": "python3"
  },
  "language_info": {
   "codemirror_mode": {
    "name": "ipython",
    "version": 3
   },
   "file_extension": ".py",
   "mimetype": "text/x-python",
   "name": "python",
   "nbconvert_exporter": "python",
   "pygments_lexer": "ipython3",
   "version": "3.7.10"
  }
 },
 "nbformat": 4,
 "nbformat_minor": 5
}
