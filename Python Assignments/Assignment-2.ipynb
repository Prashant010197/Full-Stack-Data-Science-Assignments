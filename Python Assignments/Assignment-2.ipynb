{
 "cells": [
  {
   "cell_type": "markdown",
   "id": "pharmaceutical-signal",
   "metadata": {},
   "source": [
    "# Assignment-2 Questions"
   ]
  },
  {
   "cell_type": "markdown",
   "id": "generous-waterproof",
   "metadata": {},
   "source": [
    "1.What are the two values of the Boolean data type? How do you write them?\n",
    "\n",
    "True and False"
   ]
  },
  {
   "cell_type": "markdown",
   "id": "proud-ordinance",
   "metadata": {},
   "source": [
    "2.What are the three different types of Boolean operators?\n",
    "\n",
    "Three basic types of boolean operators are AND, NOT and OR."
   ]
  },
  {
   "cell_type": "markdown",
   "id": "isolated-connection",
   "metadata": {},
   "source": [
    "3.Make a list of each Boolean operator's truth tables (i.e. every possible combination of Boolean values for the operator and what it evaluate )."
   ]
  },
  {
   "cell_type": "markdown",
   "id": "curious-species",
   "metadata": {},
   "source": [
    "4.What are the values of the following expressions?\n",
    "\n",
    "(5 > 4) and (3 == 5) --> False\n",
    "\n",
    "not (5 > 4) --> False\n",
    "\n",
    "(5 > 4) or (3 == 5) --> True\n",
    "\n",
    "not ((5 > 4) or (3 == 5)) --> False\n",
    "\n",
    "(True and True) and (True == False) --> False\n",
    "\n",
    "(not False) or (not True) --> True"
   ]
  },
  {
   "cell_type": "raw",
   "id": "german-happening",
   "metadata": {},
   "source": [
    "5.What are the six comparison operators?\n",
    "\n",
    ">\n",
    "\n",
    "<\n",
    "\n",
    "==\n",
    "\n",
    ">=\n",
    "\n",
    "<=\n",
    "\n",
    "!=\n"
   ]
  },
  {
   "cell_type": "markdown",
   "id": "every-excess",
   "metadata": {},
   "source": [
    "6.How do you tell the difference between the equal to and assignment operators?Describe a condition and when you would use one.\n",
    "\n",
    "An assignment operator needs one '=' symbol and comparison operator requires two '=' symbols to signify equal to operator usage.\n",
    "\n",
    "Assignment operator would be used to assign some value to a variable while equal to operator will be used for comparison"
   ]
  },
  {
   "cell_type": "code",
   "execution_count": 1,
   "id": "regular-humanity",
   "metadata": {},
   "outputs": [
    {
     "name": "stdout",
     "output_type": "stream",
     "text": [
      "True\n"
     ]
    }
   ],
   "source": [
    "a = 5 #Assignment\n",
    "print(a==5) #Equal to operator"
   ]
  },
  {
   "cell_type": "raw",
   "id": "extraordinary-three",
   "metadata": {},
   "source": [
    "7.Identify the three blocks in this code:\n",
    "\n",
    "spam = 0\n",
    "if spam == 10:\n",
    "print('eggs')\n",
    "if spam > 5:\n",
    "print('bacon')\n",
    "else:\n",
    "print('ham')\n",
    "print('spam')\n",
    "print('spam')\n",
    "\n",
    "***\n",
    "\n",
    "Here is some important text!\n",
    "\n",
    "***"
   ]
  },
  {
   "cell_type": "code",
   "execution_count": 2,
   "id": "naval-bible",
   "metadata": {},
   "outputs": [
    {
     "name": "stdout",
     "output_type": "stream",
     "text": [
      "spam\n"
     ]
    }
   ],
   "source": [
    "spam = 0\n",
    "if spam == 10: #Block 1\n",
    "    print('eggs')\n",
    "    if spam > 5: #Block 2\n",
    "        print('bacon')\n",
    "    else:\n",
    "        print('ham') #Block 3\n",
    "    print('spam')\n",
    "print('spam')"
   ]
  },
  {
   "cell_type": "markdown",
   "id": "previous-interpretation",
   "metadata": {},
   "source": [
    "8.Write code that prints Hello if 1 is stored in spam, prints Howdy if 2 is stored in spam, and prints Greetings! if anything else is stored in spam."
   ]
  },
  {
   "cell_type": "code",
   "execution_count": 3,
   "id": "italian-geography",
   "metadata": {},
   "outputs": [
    {
     "name": "stdout",
     "output_type": "stream",
     "text": [
      "enter 1 for Hello, 2 for Howdy and anything random for Greetings1\n",
      "Hello\n"
     ]
    }
   ],
   "source": [
    "spam=int(input(\"enter 1 for Hello, 2 for Howdy and anything random for Greetings\"))\n",
    "if spam==1:\n",
    "    print(\"Hello\")\n",
    "elif spam==2:\n",
    "    print(\"Howdy\")\n",
    "else:\n",
    "    print(\"Greetings!\")"
   ]
  },
  {
   "cell_type": "markdown",
   "id": "moderate-quarter",
   "metadata": {},
   "source": [
    "9.If your programme is stuck in an endless loop, what keys you’ll press?\n",
    "\n",
    "Ctrl+C"
   ]
  },
  {
   "cell_type": "markdown",
   "id": "parallel-morrison",
   "metadata": {},
   "source": [
    "10.How can you tell the difference between break and continue?\n",
    "\n",
    "Break forcefully terminates further execution of a loop when conditions are met. Continue merely skips to the next iteration."
   ]
  },
  {
   "cell_type": "markdown",
   "id": "gross-bedroom",
   "metadata": {},
   "source": [
    "11.In a for loop, what is the difference between range(10), range(0, 10), and range(0, 10, 1)?\n",
    "\n",
    "range(10) prints all numbers starting from default value 0 till 9. Range(0,10) is the exact same as range(10), except that now 0 has been specified as the starting point. Range(0,10,1) means that numbers starting from 0 till 9 will be printed with a step of 1."
   ]
  },
  {
   "cell_type": "markdown",
   "id": "demanding-dutch",
   "metadata": {},
   "source": [
    "12.Write a short program that prints the numbers 1 to 10 using a for loop. Then write an equivalent program that prints the numbers 1 to 10 using a while loop."
   ]
  },
  {
   "cell_type": "code",
   "execution_count": 6,
   "id": "welcome-violin",
   "metadata": {},
   "outputs": [
    {
     "name": "stdout",
     "output_type": "stream",
     "text": [
      "1\n",
      "2\n",
      "3\n",
      "4\n",
      "5\n",
      "6\n",
      "7\n",
      "8\n",
      "9\n",
      "10\n"
     ]
    }
   ],
   "source": [
    "for i in range(1,11):\n",
    "    print(i)"
   ]
  },
  {
   "cell_type": "code",
   "execution_count": 5,
   "id": "hired-canyon",
   "metadata": {},
   "outputs": [
    {
     "name": "stdout",
     "output_type": "stream",
     "text": [
      "1\n",
      "2\n",
      "3\n",
      "4\n",
      "5\n",
      "6\n",
      "7\n",
      "8\n",
      "9\n",
      "10\n"
     ]
    }
   ],
   "source": [
    "i=1\n",
    "while i<11:\n",
    "    print(i)\n",
    "    i=i+1"
   ]
  },
  {
   "cell_type": "markdown",
   "id": "metric-spouse",
   "metadata": {},
   "source": [
    "13.If you had a function named bacon() inside a module named spam, how would you call it after importing spam?\n",
    "\n",
    "spam.bacon()"
   ]
  },
  {
   "cell_type": "code",
   "execution_count": null,
   "id": "comic-emission",
   "metadata": {},
   "outputs": [],
   "source": []
  }
 ],
 "metadata": {
  "kernelspec": {
   "display_name": "Python 3",
   "language": "python",
   "name": "python3"
  },
  "language_info": {
   "codemirror_mode": {
    "name": "ipython",
    "version": 3
   },
   "file_extension": ".py",
   "mimetype": "text/x-python",
   "name": "python",
   "nbconvert_exporter": "python",
   "pygments_lexer": "ipython3",
   "version": "3.7.10"
  }
 },
 "nbformat": 4,
 "nbformat_minor": 5
}
