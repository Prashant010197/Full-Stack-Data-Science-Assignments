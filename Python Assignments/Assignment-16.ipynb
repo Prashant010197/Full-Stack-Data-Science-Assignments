{
 "cells": [
  {
   "cell_type": "markdown",
   "id": "substantial-deployment",
   "metadata": {},
   "source": [
    "# Assignment-16"
   ]
  },
  {
   "cell_type": "markdown",
   "id": "statistical-february",
   "metadata": {},
   "source": [
    "## 1. Create a list called years_list, starting with the year of your birth, and each year thereafter until the year of your fifth birthday. For example, if you were born in 1980. the list would be years_list = [1980, 1981, 1982, 1983, 1984, 1985]."
   ]
  },
  {
   "cell_type": "code",
   "execution_count": 1,
   "id": "dangerous-trace",
   "metadata": {},
   "outputs": [
    {
     "data": {
      "text/plain": [
       "[1980, 1981, 1982, 1983, 1984, 1985]"
      ]
     },
     "execution_count": 1,
     "metadata": {},
     "output_type": "execute_result"
    }
   ],
   "source": [
    "a=1980\n",
    "years_list=[x for x in range(a,a+6)]\n",
    "years_list"
   ]
  },
  {
   "cell_type": "markdown",
   "id": "preliminary-nature",
   "metadata": {},
   "source": [
    "## 2. In which year in years_list was your third birthday? Remember, you were 0 years of age for your first year."
   ]
  },
  {
   "cell_type": "code",
   "execution_count": 2,
   "id": "owned-professional",
   "metadata": {},
   "outputs": [
    {
     "data": {
      "text/plain": [
       "1983"
      ]
     },
     "execution_count": 2,
     "metadata": {},
     "output_type": "execute_result"
    }
   ],
   "source": [
    "years_list[3]"
   ]
  },
  {
   "cell_type": "markdown",
   "id": "oriental-purpose",
   "metadata": {},
   "source": [
    "## 3.In the years list, which year were you the oldest?"
   ]
  },
  {
   "cell_type": "code",
   "execution_count": 3,
   "id": "quarterly-extraction",
   "metadata": {},
   "outputs": [
    {
     "data": {
      "text/plain": [
       "1985"
      ]
     },
     "execution_count": 3,
     "metadata": {},
     "output_type": "execute_result"
    }
   ],
   "source": [
    "max(years_list)"
   ]
  },
  {
   "cell_type": "markdown",
   "id": "union-omega",
   "metadata": {},
   "source": [
    "## 4. Make a list called things with these three strings as elements: \"mozzarella\", \"cinderella\", \"salmonella\"."
   ]
  },
  {
   "cell_type": "code",
   "execution_count": 4,
   "id": "subtle-saturday",
   "metadata": {},
   "outputs": [],
   "source": [
    "things=['mozzarella','cinderella','salmonella']"
   ]
  },
  {
   "cell_type": "markdown",
   "id": "respective-exhibit",
   "metadata": {},
   "source": [
    "## 5. Capitalize the element in things that refers to a person and then print the list. Did it change the element in the list?"
   ]
  },
  {
   "cell_type": "code",
   "execution_count": 6,
   "id": "absent-length",
   "metadata": {},
   "outputs": [
    {
     "data": {
      "text/plain": [
       "['mozzarella', 'Cinderella', 'salmonella']"
      ]
     },
     "execution_count": 6,
     "metadata": {},
     "output_type": "execute_result"
    }
   ],
   "source": [
    "things[1]=things[1].capitalize()\n",
    "things"
   ]
  },
  {
   "cell_type": "markdown",
   "id": "northern-mentor",
   "metadata": {},
   "source": [
    "## 6. Make a surprise list with the elements \"Groucho,\" \"Chico,\" and \"Harpo.\""
   ]
  },
  {
   "cell_type": "code",
   "execution_count": 7,
   "id": "confirmed-monte",
   "metadata": {},
   "outputs": [],
   "source": [
    "surprise=[\"Groucho\",\"Chico\",\"Harpo\"]"
   ]
  },
  {
   "cell_type": "markdown",
   "id": "normal-spoke",
   "metadata": {},
   "source": [
    "## 7. Lowercase the last element of the surprise list, reverse it, and then capitalize it."
   ]
  },
  {
   "cell_type": "code",
   "execution_count": 8,
   "id": "chronic-luxury",
   "metadata": {},
   "outputs": [
    {
     "data": {
      "text/plain": [
       "'Harpo'"
      ]
     },
     "execution_count": 8,
     "metadata": {},
     "output_type": "execute_result"
    }
   ],
   "source": [
    "s=surprise[-1].lower()\n",
    "s[::-1]\n",
    "s.capitalize()"
   ]
  },
  {
   "cell_type": "markdown",
   "id": "proud-health",
   "metadata": {},
   "source": [
    "## 8. Make an English-to-French dictionary called e2f and print it. Here are your starter words: dog is chien, cat is chat, and walrus is morse."
   ]
  },
  {
   "cell_type": "code",
   "execution_count": 10,
   "id": "coated-manchester",
   "metadata": {},
   "outputs": [
    {
     "name": "stdout",
     "output_type": "stream",
     "text": [
      "{'dog': 'chien', 'cat': 'chat', 'walrus': 'morse'}\n"
     ]
    }
   ],
   "source": [
    "e2f={'dog':'chien','cat':'chat','walrus':'morse'}\n",
    "print(e2f)"
   ]
  },
  {
   "cell_type": "markdown",
   "id": "gentle-fleet",
   "metadata": {},
   "source": [
    "## 9. Write the French word for walrus in your three-word dictionary e2f."
   ]
  },
  {
   "cell_type": "code",
   "execution_count": 11,
   "id": "standing-maldives",
   "metadata": {},
   "outputs": [
    {
     "data": {
      "text/plain": [
       "'morse'"
      ]
     },
     "execution_count": 11,
     "metadata": {},
     "output_type": "execute_result"
    }
   ],
   "source": [
    "e2f['walrus']"
   ]
  },
  {
   "cell_type": "markdown",
   "id": "sorted-constitutional",
   "metadata": {},
   "source": [
    "## 10. Make a French-to-English dictionary called f2e from e2f. Use the items method."
   ]
  },
  {
   "cell_type": "code",
   "execution_count": 16,
   "id": "focused-emperor",
   "metadata": {},
   "outputs": [],
   "source": [
    "f2e=dict((i,j) for j,i in e2f.items())"
   ]
  },
  {
   "cell_type": "markdown",
   "id": "sweet-farming",
   "metadata": {},
   "source": [
    "## 11. Print the English version of the French word chien using f2e."
   ]
  },
  {
   "cell_type": "code",
   "execution_count": 17,
   "id": "attempted-magic",
   "metadata": {},
   "outputs": [
    {
     "data": {
      "text/plain": [
       "'dog'"
      ]
     },
     "execution_count": 17,
     "metadata": {},
     "output_type": "execute_result"
    }
   ],
   "source": [
    "f2e['chien']"
   ]
  },
  {
   "cell_type": "markdown",
   "id": "atmospheric-vault",
   "metadata": {},
   "source": [
    "## 12. Make and print a set of English words from the keys in e2f."
   ]
  },
  {
   "cell_type": "code",
   "execution_count": 20,
   "id": "sufficient-uncle",
   "metadata": {},
   "outputs": [
    {
     "data": {
      "text/plain": [
       "{'cat', 'dog', 'walrus'}"
      ]
     },
     "execution_count": 20,
     "metadata": {},
     "output_type": "execute_result"
    }
   ],
   "source": [
    "set(e2f.keys())"
   ]
  },
  {
   "cell_type": "markdown",
   "id": "elder-headquarters",
   "metadata": {},
   "source": [
    "## 13. Make a multilevel dictionary called life. Use these strings for the topmost keys: 'animals', 'plants', and 'other'. Make the 'animals' key refer to another dictionary with the keys 'cats', 'octopi', and 'emus'. Make the 'cats' key refer to a list of strings with the values 'Henri', 'Grumpy', and 'Lucy'. Make all the other keys refer to empty dictionaries."
   ]
  },
  {
   "cell_type": "code",
   "execution_count": 22,
   "id": "scheduled-spain",
   "metadata": {},
   "outputs": [],
   "source": [
    "animal ={'cats':['Henri','Grumpy','Lucy'],'octopi':'','emus':''}\n",
    "\n",
    "life ={'animals':animal,'plants':'','other':''}"
   ]
  },
  {
   "cell_type": "markdown",
   "id": "vital-moses",
   "metadata": {},
   "source": [
    "## 14. Print the top-level keys of life."
   ]
  },
  {
   "cell_type": "code",
   "execution_count": 26,
   "id": "dress-baptist",
   "metadata": {},
   "outputs": [
    {
     "name": "stdout",
     "output_type": "stream",
     "text": [
      "dict_keys(['animals', 'plants', 'other'])\n"
     ]
    }
   ],
   "source": [
    "print(life.keys())"
   ]
  },
  {
   "cell_type": "markdown",
   "id": "monetary-mayor",
   "metadata": {},
   "source": [
    "## 15. Print the keys for life['animals']."
   ]
  },
  {
   "cell_type": "code",
   "execution_count": 28,
   "id": "color-investment",
   "metadata": {},
   "outputs": [
    {
     "name": "stdout",
     "output_type": "stream",
     "text": [
      "dict_keys(['cats', 'octopi', 'emus'])\n"
     ]
    }
   ],
   "source": [
    "print(life['animals'].keys())"
   ]
  },
  {
   "cell_type": "markdown",
   "id": "psychological-module",
   "metadata": {},
   "source": [
    "## 16. Print the values for life['animals']['cats']"
   ]
  },
  {
   "cell_type": "code",
   "execution_count": 29,
   "id": "specified-forest",
   "metadata": {},
   "outputs": [
    {
     "name": "stdout",
     "output_type": "stream",
     "text": [
      "['Henri', 'Grumpy', 'Lucy']\n"
     ]
    }
   ],
   "source": [
    "print(life['animals']['cats'])"
   ]
  }
 ],
 "metadata": {
  "kernelspec": {
   "display_name": "Python 3",
   "language": "python",
   "name": "python3"
  },
  "language_info": {
   "codemirror_mode": {
    "name": "ipython",
    "version": 3
   },
   "file_extension": ".py",
   "mimetype": "text/x-python",
   "name": "python",
   "nbconvert_exporter": "python",
   "pygments_lexer": "ipython3",
   "version": "3.7.10"
  }
 },
 "nbformat": 4,
 "nbformat_minor": 5
}
