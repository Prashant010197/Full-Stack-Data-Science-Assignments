{
 "cells": [
  {
   "cell_type": "markdown",
   "id": "frank-saturday",
   "metadata": {},
   "source": [
    "# Assignment-5"
   ]
  },
  {
   "cell_type": "markdown",
   "id": "streaming-rehabilitation",
   "metadata": {},
   "source": [
    "## 1. What does an empty dictionary's code look like?"
   ]
  },
  {
   "cell_type": "code",
   "execution_count": null,
   "id": "aware-aberdeen",
   "metadata": {},
   "outputs": [],
   "source": [
    "d = {}"
   ]
  },
  {
   "cell_type": "markdown",
   "id": "shared-donor",
   "metadata": {},
   "source": [
    "## 2. What is the value of a dictionary value with the key 'foo' and the value 42?"
   ]
  },
  {
   "cell_type": "code",
   "execution_count": 1,
   "id": "polish-crest",
   "metadata": {},
   "outputs": [],
   "source": [
    "d = {'foo':42}"
   ]
  },
  {
   "cell_type": "markdown",
   "id": "located-ivory",
   "metadata": {},
   "source": [
    "## 3. What is the most significant distinction between a dictionary and a list?\n",
    "\n",
    "Data inside a dictionary exists in an unordered key value pair. Using keys, its paired value can be retrieved.\n",
    "\n",
    "In list, data exists like a simple ordered collection which can only be retrieved using its position."
   ]
  },
  {
   "cell_type": "markdown",
   "id": "searching-sword",
   "metadata": {},
   "source": [
    "## 4. What happens if you try to access spam['foo'] if spam is {'bar': 100}?\n",
    "\n",
    "A key error is generated."
   ]
  },
  {
   "cell_type": "markdown",
   "id": "working-leave",
   "metadata": {},
   "source": [
    "## 5. If a dictionary is stored in spam, what is the difference between the expressions 'cat' in spam and 'cat' in spam.keys()?\n",
    "\n",
    "'cat' in spam: it will use the 'in' operator to check if 'cat' string exists as a key in spamdictionary.\n",
    "\n",
    "Similarly, 'cat' would be searched for in keys of dictionary spam."
   ]
  },
  {
   "cell_type": "markdown",
   "id": "accurate-operation",
   "metadata": {},
   "source": [
    "## 6. If a dictionary is stored in spam, what is the difference between the expressions 'cat' in spam and 'cat' in spam.values()?\n",
    "\n",
    "'cat' in spam: it will use the 'in' operator to check if 'cat' string exists as a key in spamdictionary.\n",
    "\n",
    "Similarly, 'cat' would be searched for in values of dictionary spam."
   ]
  },
  {
   "cell_type": "markdown",
   "id": "remarkable-seafood",
   "metadata": {},
   "source": [
    "## 7. What is a shortcut for the following code?"
   ]
  },
  {
   "cell_type": "code",
   "execution_count": null,
   "id": "champion-pizza",
   "metadata": {},
   "outputs": [],
   "source": [
    "if 'color' not in spam:\n",
    "spam['color'] = 'black"
   ]
  },
  {
   "cell_type": "code",
   "execution_count": null,
   "id": "introductory-adolescent",
   "metadata": {},
   "outputs": [],
   "source": [
    "spam.setdefault('color', 'black')"
   ]
  },
  {
   "cell_type": "markdown",
   "id": "british-scenario",
   "metadata": {},
   "source": [
    "## 8. How do you \"pretty print\" dictionary values using which module and function?\n",
    "\n",
    "We need to import the pprint library and after that, access the function pprint.pprint()"
   ]
  }
 ],
 "metadata": {
  "kernelspec": {
   "display_name": "Python 3",
   "language": "python",
   "name": "python3"
  },
  "language_info": {
   "codemirror_mode": {
    "name": "ipython",
    "version": 3
   },
   "file_extension": ".py",
   "mimetype": "text/x-python",
   "name": "python",
   "nbconvert_exporter": "python",
   "pygments_lexer": "ipython3",
   "version": "3.7.10"
  }
 },
 "nbformat": 4,
 "nbformat_minor": 5
}
