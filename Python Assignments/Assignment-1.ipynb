{
 "cells": [
  {
   "cell_type": "markdown",
   "id": "reported-education",
   "metadata": {},
   "source": [
    "# Python Assignment-1"
   ]
  },
  {
   "cell_type": "markdown",
   "id": "still-disclosure",
   "metadata": {},
   "source": [
    "1.What are the differences between operators and values in the following?\n",
    "*\n",
    "'hello'\n",
    "-87.8\n",
    "-\n",
    "/\n",
    "+\n",
    "6\n",
    "\n",
    "Ans: Operators are placeholders that can initiate a specific operation. For instance, * or Asterisk initiates the multiplication operation on values or Operands given to it. Operators in the question are * - / and +. Operands are 'hello', -87.8 and 6. Based on the values entered, an operand can also work in operator overloading."
   ]
  },
  {
   "cell_type": "markdown",
   "id": "handled-passport",
   "metadata": {},
   "source": [
    "2.What is the difference between string and variable?\n",
    "spam\n",
    "'spam'\n",
    "\n",
    "Ans: A string is a datatype for Python Programming language that can be used as operand in various operations. A variable is a name to which memory is allocated for storing data(integer, float, string etc) temporarily. The name for a variable cannot be a number, should not be a built-in function and should not have any special characters."
   ]
  },
  {
   "cell_type": "markdown",
   "id": "secondary-guess",
   "metadata": {},
   "source": [
    "3. Describe three different data forms.\n",
    "\n",
    "Ans: Number-Numeric data form is about storing and processing integer and float values. Example: 1, 1.5\n",
    "\n",
    "String- set of characters inside qoutes is string data form. Example \"Prashant\". String data form allows slicing.\n",
    "\n",
    "List- Items of same or different data type inside square bracket is list data form. Example [1,\"Prashant\",3.5]. Like String, List also allow slicing."
   ]
  },
  {
   "cell_type": "markdown",
   "id": "simplified-evening",
   "metadata": {},
   "source": [
    "4. What makes up an expression? What are the functions of all expressions?\n",
    "\n",
    "Ans: Operands and Operators, and variables to store the results make up an expression. \n",
    "Functions of expressions:\n",
    "Relational expression: Produces result in the form of True or False after evaluating or comparing the operands which are constant values or values stored inside variables. Example: x>y\n",
    "Logical expression: Produces result in the form of True or False after evaluating the combination of two or more relational expressions. Example (x>y and x>=100)\n",
    "Bitwise expressions: Used to manipulate or shift bit level data. y >> 2 would shift 2 bits to the right. \n",
    "Integral and Float expressions: Produce results after performing operations in the form of float or int datatype. (x+y)/5\n",
    "Pointer expressions: Produce memory address related results. Example: &y"
   ]
  },
  {
   "cell_type": "markdown",
   "id": "vital-remove",
   "metadata": {},
   "source": [
    "5. In this chapter, assignment statements such as spam = 10 were added. What's the difference between a declaration and an expression?\n",
    "\n",
    "Ans: An expression stores or at least stores a result due to a combination of operations being done on operands. By declaring, any value, whether string, or integer or float is stored inside a variable. This stored value is called or invoked only when called."
   ]
  },
  {
   "cell_type": "markdown",
   "id": "distinct-boost",
   "metadata": {},
   "source": [
    "6. After running the following code, what does the variable bacon contain?\n",
    "\n",
    "bacon = 22\n",
    "\n",
    "bacon + 1\n",
    "\n",
    "Ans: 23"
   ]
  },
  {
   "cell_type": "markdown",
   "id": "proprietary-daniel",
   "metadata": {},
   "source": [
    "7. What should the values of the following two terms be?\n",
    "\n",
    "'spam' + 'spamspam'\n",
    "\n",
    "'spam' * 3\n",
    "\n",
    "Ans: spamspamspam\n",
    "     spamspamspam"
   ]
  },
  {
   "cell_type": "markdown",
   "id": "guided-vitamin",
   "metadata": {},
   "source": [
    "8. Why is it that eggs is a true variable name but 100 is not?\n",
    "\n",
    "Ans: Numbers cannot be variables. Alphabetical letters are acceptible as variable names. Numbers are only acceptible in a variable name if the variable name starts with an underscore or alphabetical letter followed by a number."
   ]
  },
  {
   "cell_type": "markdown",
   "id": "confidential-creativity",
   "metadata": {},
   "source": [
    "9. Which of the following three functions may be used to convert a value to an integer, a floating-point number, or a string?\n",
    "\n",
    "Ans: float(), int() and str() can be used to change the type of a value."
   ]
  },
  {
   "cell_type": "markdown",
   "id": "controversial-anatomy",
   "metadata": {},
   "source": [
    "10. What is the error caused by this expression? What would you do about it?\n",
    "\n",
    "'I have eaten ' + 99 + ' burritos.'\n",
    "\n",
    "Ans: Operator overloading only works if an operator is dealing with only string or only integer values. Mixing both and trying to get result by operator overloading will produce error."
   ]
  }
 ],
 "metadata": {
  "kernelspec": {
   "display_name": "Python 3",
   "language": "python",
   "name": "python3"
  },
  "language_info": {
   "codemirror_mode": {
    "name": "ipython",
    "version": 3
   },
   "file_extension": ".py",
   "mimetype": "text/x-python",
   "name": "python",
   "nbconvert_exporter": "python",
   "pygments_lexer": "ipython3",
   "version": "3.7.10"
  }
 },
 "nbformat": 4,
 "nbformat_minor": 5
}
