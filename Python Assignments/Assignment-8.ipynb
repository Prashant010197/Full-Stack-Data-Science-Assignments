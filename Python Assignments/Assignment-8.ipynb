{
 "cells": [
  {
   "cell_type": "markdown",
   "id": "united-shuttle",
   "metadata": {},
   "source": [
    "# Assignment-8"
   ]
  },
  {
   "cell_type": "markdown",
   "id": "derived-stake",
   "metadata": {},
   "source": [
    "## 1. Is the Python Standard Library included with PyInputPlus?\n",
    "\n",
    "Python Standard Library does not have PyInputPlus."
   ]
  },
  {
   "cell_type": "markdown",
   "id": "absent-thought",
   "metadata": {},
   "source": [
    "## 2. Why is PyInputPlus commonly imported with import pyinputplus as pypi?\n",
    "\n",
    "It can be imported as any other name. We use pypi for ease of using the functions within that library and for better code readability."
   ]
  },
  {
   "cell_type": "markdown",
   "id": "clinical-martin",
   "metadata": {},
   "source": [
    "## 3. How do you distinguish between inputInt() and inputFloat()?\n",
    "\n",
    "inputInt() keeps asking the user for an entry which is an integer while inputFloat() keeps asking the user for an entry which is an decimal."
   ]
  },
  {
   "cell_type": "markdown",
   "id": "neither-minnesota",
   "metadata": {},
   "source": [
    "## 4. Using PyInputPlus, how do you ensure that the user enters a whole number between 0 and 99?"
   ]
  },
  {
   "cell_type": "code",
   "execution_count": null,
   "id": "noticed-restoration",
   "metadata": {},
   "outputs": [],
   "source": [
    "pyip.inputint(min=0, lessThan=100)"
   ]
  },
  {
   "cell_type": "markdown",
   "id": "passive-battery",
   "metadata": {},
   "source": [
    "## 5. What is transferred to the keyword arguments allowRegexes and blockRegexes?\n",
    "\n",
    "Sequences of regex strings are transferred to the keyword arguments allowRegexes and blockRegexes."
   ]
  },
  {
   "cell_type": "markdown",
   "id": "unauthorized-check",
   "metadata": {},
   "source": [
    "## 6. If a blank input is entered three times, what does inputStr(limit=3) do?\n",
    "\n",
    "None as a value will be returned as default value None is used."
   ]
  },
  {
   "cell_type": "markdown",
   "id": "elder-values",
   "metadata": {},
   "source": [
    "## 7. If blank input is entered three times, what does inputStr(limit=3, default='hello') do?\n",
    "\n",
    "hello as a default value will be returned."
   ]
  }
 ],
 "metadata": {
  "kernelspec": {
   "display_name": "Python 3",
   "language": "python",
   "name": "python3"
  },
  "language_info": {
   "codemirror_mode": {
    "name": "ipython",
    "version": 3
   },
   "file_extension": ".py",
   "mimetype": "text/x-python",
   "name": "python",
   "nbconvert_exporter": "python",
   "pygments_lexer": "ipython3",
   "version": "3.7.10"
  }
 },
 "nbformat": 4,
 "nbformat_minor": 5
}
