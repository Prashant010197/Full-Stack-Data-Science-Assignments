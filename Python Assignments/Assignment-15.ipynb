{
 "cells": [
  {
   "cell_type": "markdown",
   "id": "unauthorized-hungary",
   "metadata": {},
   "source": [
    "# Assignment-15"
   ]
  },
  {
   "cell_type": "markdown",
   "id": "burning-invention",
   "metadata": {},
   "source": [
    "## 1.How many seconds are in an hour? Use the interactive interpreter as a calculator and multiply the number of seconds in a minute (60) by the number of minutes in an hour (also 60)."
   ]
  },
  {
   "cell_type": "code",
   "execution_count": 5,
   "id": "adolescent-maple",
   "metadata": {},
   "outputs": [
    {
     "data": {
      "text/plain": [
       "3600"
      ]
     },
     "execution_count": 5,
     "metadata": {},
     "output_type": "execute_result"
    }
   ],
   "source": [
    "hour=60*60\n",
    "hour"
   ]
  },
  {
   "cell_type": "markdown",
   "id": "charming-colonial",
   "metadata": {},
   "source": [
    "## 2. Assign the result from the previous task (seconds in an hour) to a variable called seconds_per_hour."
   ]
  },
  {
   "cell_type": "code",
   "execution_count": 6,
   "id": "intensive-assets",
   "metadata": {},
   "outputs": [],
   "source": [
    "seconds_per_hour=hour"
   ]
  },
  {
   "cell_type": "markdown",
   "id": "genetic-channels",
   "metadata": {},
   "source": [
    "## 3. How many seconds do you think there are in a day? Make use of the variables seconds per hour and minutes per hour."
   ]
  },
  {
   "cell_type": "code",
   "execution_count": 10,
   "id": "complimentary-restoration",
   "metadata": {},
   "outputs": [
    {
     "data": {
      "text/plain": [
       "86400"
      ]
     },
     "execution_count": 10,
     "metadata": {},
     "output_type": "execute_result"
    }
   ],
   "source": [
    "seconds_per_hour*24"
   ]
  },
  {
   "cell_type": "markdown",
   "id": "later-nebraska",
   "metadata": {},
   "source": [
    "## 4. Calculate seconds per day again, but this time save the result in a variable called seconds_per_day"
   ]
  },
  {
   "cell_type": "code",
   "execution_count": 12,
   "id": "agreed-vertex",
   "metadata": {},
   "outputs": [],
   "source": [
    "seconds_per_day=seconds_per_hour*24"
   ]
  },
  {
   "cell_type": "markdown",
   "id": "every-affairs",
   "metadata": {},
   "source": [
    "## 5. Divide seconds_per_day by seconds_per_hour. Use floating-point (/) division."
   ]
  },
  {
   "cell_type": "code",
   "execution_count": 13,
   "id": "social-graph",
   "metadata": {},
   "outputs": [
    {
     "data": {
      "text/plain": [
       "24.0"
      ]
     },
     "execution_count": 13,
     "metadata": {},
     "output_type": "execute_result"
    }
   ],
   "source": [
    "seconds_per_day/seconds_per_hour"
   ]
  },
  {
   "cell_type": "markdown",
   "id": "under-sheet",
   "metadata": {},
   "source": [
    "## 6. Divide seconds_per_day by seconds_per_hour, using integer (//) division. Did this number agree with the floating-point value from the previous question, aside from the final .0?"
   ]
  },
  {
   "cell_type": "code",
   "execution_count": 14,
   "id": "martial-coating",
   "metadata": {},
   "outputs": [
    {
     "data": {
      "text/plain": [
       "24"
      ]
     },
     "execution_count": 14,
     "metadata": {},
     "output_type": "execute_result"
    }
   ],
   "source": [
    "seconds_per_day//seconds_per_hour"
   ]
  },
  {
   "cell_type": "markdown",
   "id": "intensive-oxford",
   "metadata": {},
   "source": [
    "## 7. Write a generator, genPrimes, that returns the sequence of prime numbers on successive calls to its next() method: 2, 3, 5, 7, 11, ..."
   ]
  },
  {
   "cell_type": "code",
   "execution_count": 17,
   "id": "eight-banking",
   "metadata": {},
   "outputs": [],
   "source": [
    "def genPrimes():\n",
    "    m=1\n",
    "    l=[]\n",
    "    while True:\n",
    "        m+=1\n",
    "        for i in l:\n",
    "            if m%i==0:\n",
    "                break\n",
    "        else:\n",
    "            l.append(m)\n",
    "            yield m"
   ]
  }
 ],
 "metadata": {
  "kernelspec": {
   "display_name": "Python 3",
   "language": "python",
   "name": "python3"
  },
  "language_info": {
   "codemirror_mode": {
    "name": "ipython",
    "version": 3
   },
   "file_extension": ".py",
   "mimetype": "text/x-python",
   "name": "python",
   "nbconvert_exporter": "python",
   "pygments_lexer": "ipython3",
   "version": "3.7.10"
  }
 },
 "nbformat": 4,
 "nbformat_minor": 5
}
