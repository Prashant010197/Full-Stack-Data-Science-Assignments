{
 "cells": [
  {
   "cell_type": "markdown",
   "id": "alpine-andorra",
   "metadata": {},
   "source": [
    "## Assignment-3"
   ]
  },
  {
   "cell_type": "markdown",
   "id": "extra-alloy",
   "metadata": {},
   "source": [
    "## 1. Why are functions advantageous to have in your programs?\n",
    "\n",
    "Functions can be repeatedly called and used with different variables. In addition to that, it improves readability of code as using functions breaks code into smaller, manageable chunks. Modification of a part of code only requires making changes to specific functions and not the whole code."
   ]
  },
  {
   "cell_type": "markdown",
   "id": "designed-festival",
   "metadata": {},
   "source": [
    "## 2. When does the code in a function run: when it's specified or when it's called?\n",
    "\n",
    "Code inside a function runs only when it is called."
   ]
  },
  {
   "cell_type": "markdown",
   "id": "lesser-panel",
   "metadata": {},
   "source": [
    "## 3. What statement creates a function?\n",
    "\n",
    "def statement creates function."
   ]
  },
  {
   "cell_type": "markdown",
   "id": "minus-links",
   "metadata": {},
   "source": [
    "## 4. What is the difference between a function and a function call?\n",
    "\n",
    "Function is a block of code which requires control transferred to it temporarily to run the code within it and produce the result. \n",
    "Function call is the invoking code run to transfer control to the invoked function and flow of control gets through function."
   ]
  },
  {
   "cell_type": "markdown",
   "id": "prescription-czech",
   "metadata": {},
   "source": [
    "## 5. How many global scopes are there in a Python program? How many local scopes?\n",
    "\n",
    "There is only one global scope in Python program. There can be as many local scopes as we want. Each block of code and each function can have its own local scopes"
   ]
  },
  {
   "cell_type": "markdown",
   "id": "social-oxide",
   "metadata": {},
   "source": [
    "## 6. What happens to variables in a local scope when the function call returns?\n",
    "\n",
    "As soon as the control is transferred out of the block, the local variables inside the function invoked will lose their data after producing result."
   ]
  },
  {
   "cell_type": "markdown",
   "id": "exclusive-condition",
   "metadata": {},
   "source": [
    "## 7. What is the concept of a return value? Is it possible to have a return value in an expression?\n",
    "\n",
    "When a function is called, the code inside that block runs and operations are completed after which result is produced. This result can be directly passed to the code that is calling the function or to a different function from which function call was made. Yes, it is possible to have a return value in an expression"
   ]
  },
  {
   "cell_type": "markdown",
   "id": "alive-bhutan",
   "metadata": {},
   "source": [
    "## 8. If a function does not have a return statement, what is the return value of a call to that function?\n",
    "\n",
    "If there is no return statement, then the return value would be None."
   ]
  },
  {
   "cell_type": "markdown",
   "id": "legal-audio",
   "metadata": {},
   "source": [
    "## 9. How do you make a function variable refer to the global variable?\n",
    "\n",
    "If a global variable has to be used inside a function, 'global' keyword can be used along with variable name to refer to global variable."
   ]
  },
  {
   "cell_type": "markdown",
   "id": "acceptable-shopper",
   "metadata": {},
   "source": [
    "## 10. What is the data type of None?\n",
    "\n",
    "None is itself a datatype. Only a None value can be of None datatype."
   ]
  },
  {
   "cell_type": "markdown",
   "id": "exposed-caribbean",
   "metadata": {},
   "source": [
    "## 11. What does the sentence import areallyourpetsnamederic do?\n",
    "\n",
    "The import statement simply imports a library installed separately or built inside python."
   ]
  },
  {
   "cell_type": "markdown",
   "id": "union-protection",
   "metadata": {},
   "source": [
    "## 12. If you had a bacon() feature in a spam module, what would you call it after importing spam?\n",
    "\n",
    "After importing spam, it would be called using spam.bacon()."
   ]
  },
  {
   "cell_type": "markdown",
   "id": "scientific-alfred",
   "metadata": {},
   "source": [
    "## 13. What can you do to save a programme from crashing if it encounters an error?\n",
    "\n",
    "Exception handling can be used to save a programme from crashing. Catching errors using Try and Except would be the best way to keep progrm running even if it encounters error."
   ]
  },
  {
   "cell_type": "markdown",
   "id": "amazing-reading",
   "metadata": {},
   "source": [
    "## 14. What is the purpose of the try clause? What is the purpose of the except clause?\n",
    "\n",
    "Purpose of try clause is to add code which could produce errors inside the indent of try. Code inside the indented block of except gets executed if the code in try produces errors"
   ]
  },
  {
   "cell_type": "code",
   "execution_count": null,
   "id": "inappropriate-frontier",
   "metadata": {},
   "outputs": [],
   "source": []
  }
 ],
 "metadata": {
  "kernelspec": {
   "display_name": "Python 3",
   "language": "python",
   "name": "python3"
  },
  "language_info": {
   "codemirror_mode": {
    "name": "ipython",
    "version": 3
   },
   "file_extension": ".py",
   "mimetype": "text/x-python",
   "name": "python",
   "nbconvert_exporter": "python",
   "pygments_lexer": "ipython3",
   "version": "3.7.10"
  }
 },
 "nbformat": 4,
 "nbformat_minor": 5
}
