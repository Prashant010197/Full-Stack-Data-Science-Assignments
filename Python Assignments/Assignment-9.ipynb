{
 "cells": [
  {
   "cell_type": "markdown",
   "id": "bearing-simulation",
   "metadata": {},
   "source": [
    "## Assignment-9"
   ]
  },
  {
   "cell_type": "markdown",
   "id": "downtown-yemen",
   "metadata": {},
   "source": [
    "## 1. To what does a relative path refer?\n",
    "\n",
    "It refers to the location relative to the current working directory."
   ]
  },
  {
   "cell_type": "markdown",
   "id": "expressed-fossil",
   "metadata": {},
   "source": [
    "## 2. What does an absolute path start with your operating system?\n",
    "\n",
    "Absolute paths start with the root directory. "
   ]
  },
  {
   "cell_type": "markdown",
   "id": "aerial-birmingham",
   "metadata": {},
   "source": [
    "## 3. What do the functions os.getcwd() and os.chdir() do?\n",
    "\n",
    "os.getcwd() gives current working directory and os.chdir() can be used to change current working directory."
   ]
  },
  {
   "cell_type": "markdown",
   "id": "fundamental-cannon",
   "metadata": {},
   "source": [
    "## 4. What are the . and .. folders?\n",
    "\n",
    ". folder is the current directory and .. folder is the parent directory."
   ]
  },
  {
   "cell_type": "markdown",
   "id": "attempted-interference",
   "metadata": {},
   "source": [
    "## 5. In C:\\bacon\\eggs\\spam.txt, which part is the dir name, and which part is the base name?\n",
    "\n",
    "spam.txt is base name and C:\\bacon\\eggs is dir name"
   ]
  },
  {
   "cell_type": "markdown",
   "id": "dirty-wales",
   "metadata": {},
   "source": [
    "## 6. What are the three “mode” arguments that can be passed to the open() function?\n",
    "\n",
    "r, w and a can be passed for read, write and append respectively."
   ]
  },
  {
   "cell_type": "markdown",
   "id": "committed-partition",
   "metadata": {},
   "source": [
    "## 7. What happens if an existing file is opened in write mode?\n",
    "\n",
    "The data inside the file will be erased."
   ]
  },
  {
   "cell_type": "markdown",
   "id": "focused-apache",
   "metadata": {},
   "source": [
    "## 8. How do you tell the difference between read() and readlines()?\n",
    "\n",
    "read() returns entire text document as a single string while readlines() returns lists where each list will have the next line in it."
   ]
  },
  {
   "cell_type": "markdown",
   "id": "literary-terrain",
   "metadata": {},
   "source": [
    "## 9. What data structure does a shelf value resemble?\n",
    "\n",
    "Dictionary"
   ]
  },
  {
   "cell_type": "code",
   "execution_count": null,
   "id": "dated-concept",
   "metadata": {},
   "outputs": [],
   "source": []
  }
 ],
 "metadata": {
  "kernelspec": {
   "display_name": "Python 3",
   "language": "python",
   "name": "python3"
  },
  "language_info": {
   "codemirror_mode": {
    "name": "ipython",
    "version": 3
   },
   "file_extension": ".py",
   "mimetype": "text/x-python",
   "name": "python",
   "nbconvert_exporter": "python",
   "pygments_lexer": "ipython3",
   "version": "3.7.10"
  }
 },
 "nbformat": 4,
 "nbformat_minor": 5
}
