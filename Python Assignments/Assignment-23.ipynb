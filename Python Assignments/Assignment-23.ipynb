{
 "cells": [
  {
   "cell_type": "markdown",
   "id": "tight-society",
   "metadata": {},
   "source": [
    "# Assignment-23"
   ]
  },
  {
   "cell_type": "markdown",
   "id": "neural-participation",
   "metadata": {},
   "source": [
    "## 1. What is the result of the code, and why?\n",
    "\n",
    "def func(a, b=6, c=8):\n",
    "\n",
    ">print(a, b, c)\n",
    "\n",
    "func(1,2)"
   ]
  },
  {
   "cell_type": "markdown",
   "id": "better-arabic",
   "metadata": {},
   "source": [
    "Variables b and c have default arguments as b=6 and c=8. Since func(1,2) is run, value of a is set to 1 while the default in case of variable b is overriden by actual value 2. Default value for c is used as 8. All three are printed from inside the function func() and we get result: 1 2 8"
   ]
  },
  {
   "cell_type": "markdown",
   "id": "original-framework",
   "metadata": {},
   "source": [
    "## 2. What is the result of this code, and why?\n",
    "\n",
    "def func(a, b, c=5):\n",
    "\n",
    ">print(a, b, c)\n",
    "\n",
    "func(1, c=3, b=2)\n"
   ]
  },
  {
   "cell_type": "markdown",
   "id": "swiss-hammer",
   "metadata": {},
   "source": [
    "Variable c has default argument as c=5. Since func(1, c=3, b=2) is run, value of a is set to 1 while the default in case of variable c is overriden by actual value 3. value of b is set to 2. All three are printed from inside the function func() and we get result: 1 2 3"
   ]
  },
  {
   "cell_type": "markdown",
   "id": "packed-cricket",
   "metadata": {},
   "source": [
    "## 3. How about this code: what is its result, and why?\n",
    "\n",
    "def func(a, *pargs):\n",
    "\n",
    ">print(a, pargs)\n",
    "\n",
    "func(1, 2, 3)"
   ]
  },
  {
   "cell_type": "markdown",
   "id": "talented-prompt",
   "metadata": {},
   "source": [
    "Inside func(), one variable and one non keyword arguments are initialized. Besides the first argument value passed during calling function func(), all additional values are sent to function as non keyword arguments and are printed. The end result is: 1 (2,3)"
   ]
  },
  {
   "cell_type": "markdown",
   "id": "tender-haiti",
   "metadata": {},
   "source": [
    "## 4. What does this code print, and why?\n",
    "\n",
    "def func(a, **kargs):\n",
    "\n",
    ">print(a, kargs)\n",
    "\n",
    "func(a=1, c=3, b=2)"
   ]
  },
  {
   "cell_type": "markdown",
   "id": "partial-morocco",
   "metadata": {},
   "source": [
    "Inside func(), one variable and one keyword arguments are initialized. Besides the first argument value passed during calling function func(), all additional values are sent to function as keyword arguments and are printed. The end result is: 1 {'c': 3, 'b': 2}"
   ]
  },
  {
   "cell_type": "markdown",
   "id": "reliable-theta",
   "metadata": {},
   "source": [
    "## 5. What gets printed by this, and explain?\n",
    "\n",
    "def func(a, b, c=8, d=5):\n",
    "\n",
    ">print(a, b, c, d)\n",
    "\n",
    "func(1, *(5, 6))"
   ]
  },
  {
   "cell_type": "markdown",
   "id": "legal-queens",
   "metadata": {},
   "source": [
    "After calling the function and passing the values inside *(5, 6), it is not treated as a second argument as a whole. Instead the values are taken into arguments assigning each with a single value. Hence we get the result 1 5 6 5"
   ]
  },
  {
   "cell_type": "markdown",
   "id": "royal-french",
   "metadata": {},
   "source": [
    "## 6. what is the result of this, and explain?\n",
    "\n",
    "def func(a, b, c): \n",
    ">a = 2; \n",
    "\n",
    ">b[0] = 'x'; \n",
    "\n",
    ">c['a'] = 'y'\n",
    "\n",
    "l=1 \n",
    "\n",
    "m=[1]\n",
    "\n",
    "n={'a':0}\n",
    "\n",
    "func(l, m, n)"
   ]
  },
  {
   "cell_type": "markdown",
   "id": "violent-grocery",
   "metadata": {},
   "source": [
    "Passing value of global scope variable and then setting it to 2 inside func does not take place as the value is being changed for the local variable. But in case of list and dictionary variables, values are changed inside the func through slicing and key calling. Result is (1, ['x'], {'a': 'y'})"
   ]
  }
 ],
 "metadata": {
  "kernelspec": {
   "display_name": "Python 3",
   "language": "python",
   "name": "python3"
  },
  "language_info": {
   "codemirror_mode": {
    "name": "ipython",
    "version": 3
   },
   "file_extension": ".py",
   "mimetype": "text/x-python",
   "name": "python",
   "nbconvert_exporter": "python",
   "pygments_lexer": "ipython3",
   "version": "3.7.10"
  }
 },
 "nbformat": 4,
 "nbformat_minor": 5
}
