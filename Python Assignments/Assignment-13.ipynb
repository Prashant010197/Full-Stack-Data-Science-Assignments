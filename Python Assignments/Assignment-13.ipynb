{
 "cells": [
  {
   "cell_type": "markdown",
   "id": "familiar-semiconductor",
   "metadata": {},
   "source": [
    "# Assignment-13"
   ]
  },
  {
   "cell_type": "markdown",
   "id": "reasonable-sweden",
   "metadata": {},
   "source": [
    "## 1. What advantages do Excel spreadsheets have over CSV spreadsheets?"
   ]
  },
  {
   "cell_type": "markdown",
   "id": "posted-folder",
   "metadata": {},
   "source": [
    "CSV spreadsheets cannot use embedded charts. Different data types cannot be used. Aesthetic features like fonting and font sizing is unavailable.\n",
    "All of above missing features in CSV are available in Excel spreadsheets."
   ]
  },
  {
   "cell_type": "markdown",
   "id": "heard-dictionary",
   "metadata": {},
   "source": [
    "## 2.What do you pass to csv.reader() and csv.writer() to create reader and writer objects?"
   ]
  },
  {
   "cell_type": "markdown",
   "id": "devoted-sculpture",
   "metadata": {},
   "source": [
    "File object"
   ]
  },
  {
   "cell_type": "markdown",
   "id": "paperback-christianity",
   "metadata": {},
   "source": [
    "## 3. What modes do File objects for reader and writer objects need to be opened in?"
   ]
  },
  {
   "cell_type": "markdown",
   "id": "compliant-incentive",
   "metadata": {},
   "source": [
    "For reader objects, File objects are opened in 'rb' and in 'wb' for writer objects."
   ]
  },
  {
   "cell_type": "markdown",
   "id": "alien-glass",
   "metadata": {},
   "source": [
    "## 4. What method takes a list argument and writes it to a CSV file?"
   ]
  },
  {
   "cell_type": "markdown",
   "id": "signed-turkey",
   "metadata": {},
   "source": [
    "writerows()"
   ]
  },
  {
   "cell_type": "markdown",
   "id": "preceding-fighter",
   "metadata": {},
   "source": [
    "## 5. What do the keyword arguments delimiter and line terminator do?"
   ]
  },
  {
   "cell_type": "markdown",
   "id": "billion-offer",
   "metadata": {},
   "source": [
    "The delimiter separates the string to fill cells. Line terminator separates the string to fill rows."
   ]
  },
  {
   "cell_type": "markdown",
   "id": "intellectual-davis",
   "metadata": {},
   "source": [
    "## 6. What function takes a string of JSON data and returns a Python data structure?"
   ]
  },
  {
   "cell_type": "markdown",
   "id": "tropical-reducing",
   "metadata": {},
   "source": [
    "json.load()"
   ]
  },
  {
   "cell_type": "markdown",
   "id": "capable-modeling",
   "metadata": {},
   "source": [
    "## 7. What function takes a Python data structure and returns a string of JSON data?"
   ]
  },
  {
   "cell_type": "markdown",
   "id": "contemporary-supply",
   "metadata": {},
   "source": [
    "json.dumps()"
   ]
  }
 ],
 "metadata": {
  "kernelspec": {
   "display_name": "Python 3",
   "language": "python",
   "name": "python3"
  },
  "language_info": {
   "codemirror_mode": {
    "name": "ipython",
    "version": 3
   },
   "file_extension": ".py",
   "mimetype": "text/x-python",
   "name": "python",
   "nbconvert_exporter": "python",
   "pygments_lexer": "ipython3",
   "version": "3.7.10"
  }
 },
 "nbformat": 4,
 "nbformat_minor": 5
}
