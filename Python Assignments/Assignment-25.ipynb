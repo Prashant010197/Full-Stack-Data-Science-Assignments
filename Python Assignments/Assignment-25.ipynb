{
 "cells": [
  {
   "cell_type": "markdown",
   "id": "fossil-conversation",
   "metadata": {},
   "source": [
    "# Assignment-25"
   ]
  },
  {
   "cell_type": "markdown",
   "id": "reflected-brain",
   "metadata": {},
   "source": [
    "## 1) . What is the difference between enclosing a list comprehension in square brackets and parentheses?"
   ]
  },
  {
   "cell_type": "markdown",
   "id": "acute-montgomery",
   "metadata": {},
   "source": [
    "Enclosing a list comprehension in square brackets gives a list while list comprehension enclosed in parenthesis gives tuple. Tuples are immutable but operations for tuples are fast. List are mutable but operations for list are slow"
   ]
  },
  {
   "cell_type": "markdown",
   "id": "dominant-papua",
   "metadata": {},
   "source": [
    "## 2) What is the relationship between generators and iterators?"
   ]
  },
  {
   "cell_type": "markdown",
   "id": "annoying-panama",
   "metadata": {},
   "source": [
    "Both are used to produce a sequence of values. Iterators do that using the next() while generators do that using the yield method."
   ]
  },
  {
   "cell_type": "markdown",
   "id": "studied-tomorrow",
   "metadata": {},
   "source": [
    "## 3) What are the signs that a function is a generator function?"
   ]
  },
  {
   "cell_type": "markdown",
   "id": "incorporate-metallic",
   "metadata": {},
   "source": [
    "Usage of at least one yield method in a function would mean that it is a generator function."
   ]
  },
  {
   "cell_type": "markdown",
   "id": "controlling-saskatchewan",
   "metadata": {},
   "source": [
    "## 4) What is the purpose of a yield statement?"
   ]
  },
  {
   "cell_type": "markdown",
   "id": "featured-secondary",
   "metadata": {},
   "source": [
    "Yield provides the value as result at the end of each loop while pausing the execution of the generator function."
   ]
  },
  {
   "cell_type": "markdown",
   "id": "handed-example",
   "metadata": {},
   "source": [
    "## 5) What is the relationship between map calls and list comprehensions? Make a comparison and contrast between the two."
   ]
  },
  {
   "cell_type": "markdown",
   "id": "upset-toddler",
   "metadata": {},
   "source": [
    "Map calls and list comprehensions both offer the possibility of applying functions or operations to items of iterables.\n",
    "\n",
    "List comprehensions are easier to read, allow for filtering and are faster than map calls when evaluating a long expression. Map calls are faster for application of already define functions."
   ]
  }
 ],
 "metadata": {
  "kernelspec": {
   "display_name": "Python 3",
   "language": "python",
   "name": "python3"
  },
  "language_info": {
   "codemirror_mode": {
    "name": "ipython",
    "version": 3
   },
   "file_extension": ".py",
   "mimetype": "text/x-python",
   "name": "python",
   "nbconvert_exporter": "python",
   "pygments_lexer": "ipython3",
   "version": "3.7.10"
  }
 },
 "nbformat": 4,
 "nbformat_minor": 5
}
