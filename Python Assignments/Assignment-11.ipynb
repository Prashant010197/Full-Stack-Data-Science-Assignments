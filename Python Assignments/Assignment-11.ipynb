{
 "cells": [
  {
   "cell_type": "markdown",
   "id": "objective-custom",
   "metadata": {},
   "source": [
    "# Assignment-11"
   ]
  },
  {
   "cell_type": "markdown",
   "id": "together-strand",
   "metadata": {},
   "source": [
    "## 1. Create an assert statement that throws an AssertionError if the variable spam is a negative integer."
   ]
  },
  {
   "cell_type": "code",
   "execution_count": null,
   "id": "buried-filing",
   "metadata": {},
   "outputs": [],
   "source": [
    "assert spam >= 0, 'Variable is negative.'"
   ]
  },
  {
   "cell_type": "markdown",
   "id": "fourth-press",
   "metadata": {},
   "source": [
    "## 2. Write an assert statement that triggers an AssertionError if the variables eggs and bacon contain strings that are the same as each other, even if their cases are different (that is, 'hello' and 'hello' are considered the same, and 'goodbye' and 'GOODbye' are also considered the same)."
   ]
  },
  {
   "cell_type": "code",
   "execution_count": null,
   "id": "bright-frame",
   "metadata": {},
   "outputs": [],
   "source": [
    "assert eggs.lower() != bacon.lower(), 'Variables eggs and bacon contain strings that are the same as each other'"
   ]
  },
  {
   "cell_type": "markdown",
   "id": "appreciated-jonathan",
   "metadata": {},
   "source": [
    "## 3. Create an assert statement that throws an AssertionError every time."
   ]
  },
  {
   "cell_type": "code",
   "execution_count": null,
   "id": "wireless-mechanics",
   "metadata": {},
   "outputs": [],
   "source": [
    "assert False, 'Assertion triggered'"
   ]
  },
  {
   "cell_type": "markdown",
   "id": "latest-hollow",
   "metadata": {},
   "source": [
    "## 4. What are the two lines that must be present in your software in order to call logging.debug()?"
   ]
  },
  {
   "cell_type": "code",
   "execution_count": 1,
   "id": "killing-indication",
   "metadata": {},
   "outputs": [],
   "source": [
    "import logging\n",
    "logging.basicConfig(level=logging.DEBUG, format=' %(asctime)s -%(levelname)s - %(message)s')"
   ]
  },
  {
   "cell_type": "markdown",
   "id": "early-forwarding",
   "metadata": {},
   "source": [
    "## 5. What are the two lines that your program must have in order to have logging.debug() send a logging message to a file named programLog.txt?"
   ]
  },
  {
   "cell_type": "code",
   "execution_count": 2,
   "id": "removable-fight",
   "metadata": {},
   "outputs": [],
   "source": [
    "import logging\n",
    "logging.basicConfig(filename='programLog.txt', level=logging.DEBUG,format=' %(asctime)s - %(levelname)s - %(message)s')"
   ]
  },
  {
   "cell_type": "markdown",
   "id": "minimal-championship",
   "metadata": {},
   "source": [
    "## 6. What are the five levels of logging?\n",
    "\n",
    " 1. Debug \n",
    " 2. Warning\n",
    " 3. Critical\n",
    " 4. Error\n",
    " 5. Info"
   ]
  },
  {
   "cell_type": "markdown",
   "id": "affected-caribbean",
   "metadata": {},
   "source": [
    "## 7. What line of code would you add to your software to disable all logging messages?"
   ]
  },
  {
   "cell_type": "code",
   "execution_count": 3,
   "id": "hired-ireland",
   "metadata": {},
   "outputs": [],
   "source": [
    "logging.disable(logging.CRITICAL)"
   ]
  },
  {
   "cell_type": "markdown",
   "id": "sealed-smart",
   "metadata": {},
   "source": [
    "## 8.Why is using logging messages better than using print() to display the same message?\n",
    "\n",
    "Logging messages come along with the time of logging. Logging messages of low priority or low level can be simply turned off."
   ]
  },
  {
   "cell_type": "markdown",
   "id": "accessible-bryan",
   "metadata": {},
   "source": [
    "## 9. What are the differences between the Step Over, Step In, and Step Out buttons in the debugger?\n",
    "\n",
    "Step Over button simply skips over a line of code. Step In is used to do line by line debugging of a function. Step Out is used to return to the line where function is called."
   ]
  },
  {
   "cell_type": "markdown",
   "id": "fancy-anger",
   "metadata": {},
   "source": [
    "## 10.After you click Continue, when will the debugger stop ?\n",
    "\n",
    "The debugger will only stop when a breakpoint has been encountered."
   ]
  },
  {
   "cell_type": "markdown",
   "id": "turned-scientist",
   "metadata": {},
   "source": [
    "## 11. What is the concept of a breakpoint?\n",
    "\n",
    "When the breakpoint is encountered by the executing program, then debugger stops the execution at that line of code having breakpoint."
   ]
  }
 ],
 "metadata": {
  "kernelspec": {
   "display_name": "Python 3",
   "language": "python",
   "name": "python3"
  },
  "language_info": {
   "codemirror_mode": {
    "name": "ipython",
    "version": 3
   },
   "file_extension": ".py",
   "mimetype": "text/x-python",
   "name": "python",
   "nbconvert_exporter": "python",
   "pygments_lexer": "ipython3",
   "version": "3.7.10"
  }
 },
 "nbformat": 4,
 "nbformat_minor": 5
}
