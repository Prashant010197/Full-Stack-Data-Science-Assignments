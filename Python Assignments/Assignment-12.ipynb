{
 "cells": [
  {
   "cell_type": "markdown",
   "id": "interesting-arcade",
   "metadata": {},
   "source": [
    "# Assignment-12"
   ]
  },
  {
   "cell_type": "markdown",
   "id": "regulated-rebel",
   "metadata": {},
   "source": [
    "## 1. In what modes should the PdfFileReader() and PdfFileWriter() File objects will be opened?"
   ]
  },
  {
   "cell_type": "markdown",
   "id": "addressed-earthquake",
   "metadata": {},
   "source": [
    "PdfFileWriter() objects should be opened using 'wb' and PdfFileReader() objects should be opened using 'rb'"
   ]
  },
  {
   "cell_type": "markdown",
   "id": "adopted-password",
   "metadata": {},
   "source": [
    "## 2. From a PdfFileReader object, how do you get a Page object for page 5?"
   ]
  },
  {
   "cell_type": "markdown",
   "id": "later-capital",
   "metadata": {},
   "source": [
    "getPage(4) assuming first page is 0"
   ]
  },
  {
   "cell_type": "markdown",
   "id": "annual-brown",
   "metadata": {},
   "source": [
    "## 3. What PdfFileReader variable stores the number of pages in the PDF document?"
   ]
  },
  {
   "cell_type": "markdown",
   "id": "expensive-breach",
   "metadata": {},
   "source": [
    "numPages variable"
   ]
  },
  {
   "cell_type": "markdown",
   "id": "skilled-placement",
   "metadata": {},
   "source": [
    "## 4. If a PdfFileReader object’s PDF is encrypted with the password swordfish, what must you do before you can obtain Page objects from it?"
   ]
  },
  {
   "cell_type": "markdown",
   "id": "light-tolerance",
   "metadata": {},
   "source": [
    "decrypt('swordfish')"
   ]
  },
  {
   "cell_type": "markdown",
   "id": "stone-profit",
   "metadata": {},
   "source": [
    "## 5. What methods do you use to rotate a page?"
   ]
  },
  {
   "cell_type": "markdown",
   "id": "hungry-dictionary",
   "metadata": {},
   "source": [
    "rotateClockwise() with a number as argument for degrees of rotation"
   ]
  },
  {
   "cell_type": "markdown",
   "id": "exceptional-montana",
   "metadata": {},
   "source": [
    "## 6. What is the difference between a Run object and a Paragraph object?"
   ]
  },
  {
   "cell_type": "markdown",
   "id": "desirable-meaning",
   "metadata": {},
   "source": [
    "Run objects exist within a photograph. Paragraph objects contain multiple run objects. It can be said that Paragraph objects are made up of Run objects"
   ]
  },
  {
   "cell_type": "markdown",
   "id": "treated-fence",
   "metadata": {},
   "source": [
    "## 7. How do you obtain a list of Paragraph objects for a Document object that’s stored in a variable named doc?"
   ]
  },
  {
   "cell_type": "markdown",
   "id": "empirical-student",
   "metadata": {},
   "source": [
    "doc.Paragraph"
   ]
  },
  {
   "cell_type": "markdown",
   "id": "miniature-window",
   "metadata": {},
   "source": [
    "## 8. What type of object has bold, underline, italic, strike, and outline variables?"
   ]
  },
  {
   "cell_type": "markdown",
   "id": "weird-packing",
   "metadata": {},
   "source": [
    "Run object"
   ]
  },
  {
   "cell_type": "markdown",
   "id": "italian-longitude",
   "metadata": {},
   "source": [
    "## 9. What is the difference between False, True, and None for the bold variable?"
   ]
  },
  {
   "cell_type": "markdown",
   "id": "lightweight-williams",
   "metadata": {},
   "source": [
    "False will make bold variables non-bold, True will make all non bold and bold variables bold. None will do nothing to the variables, whether bold or non bold"
   ]
  },
  {
   "cell_type": "markdown",
   "id": "sudden-dealer",
   "metadata": {},
   "source": [
    "## 10. How do you create a Document object for a new Word document?"
   ]
  },
  {
   "cell_type": "markdown",
   "id": "tender-supply",
   "metadata": {},
   "source": [
    "docx.Document()"
   ]
  },
  {
   "cell_type": "markdown",
   "id": "unusual-david",
   "metadata": {},
   "source": [
    "## 11. How do you add a paragraph with the text 'Hello, there!' to a Document object stored in a variable named doc?"
   ]
  },
  {
   "cell_type": "markdown",
   "id": "classical-marketplace",
   "metadata": {},
   "source": [
    "doc.add_paragraph('Hello, there!') #starwars"
   ]
  },
  {
   "cell_type": "markdown",
   "id": "hungry-rhythm",
   "metadata": {},
   "source": [
    "## 12. What integers represent the levels of headings available in Word documents?"
   ]
  },
  {
   "cell_type": "markdown",
   "id": "listed-transcription",
   "metadata": {},
   "source": [
    "0 to 4"
   ]
  }
 ],
 "metadata": {
  "kernelspec": {
   "display_name": "Python 3",
   "language": "python",
   "name": "python3"
  },
  "language_info": {
   "codemirror_mode": {
    "name": "ipython",
    "version": 3
   },
   "file_extension": ".py",
   "mimetype": "text/x-python",
   "name": "python",
   "nbconvert_exporter": "python",
   "pygments_lexer": "ipython3",
   "version": "3.7.10"
  }
 },
 "nbformat": 4,
 "nbformat_minor": 5
}
