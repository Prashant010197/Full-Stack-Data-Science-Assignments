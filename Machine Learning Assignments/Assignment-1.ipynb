{
 "cells": [
  {
   "cell_type": "markdown",
   "id": "appropriate-birmingham",
   "metadata": {},
   "source": [
    "# Assignment-1"
   ]
  },
  {
   "cell_type": "markdown",
   "id": "velvet-manhattan",
   "metadata": {},
   "source": [
    "## 1. What does one mean by the term \"machine learning\"?\n",
    "\n",
    "Machine Learning is a subset of Artificial Intelligence which allows usage of mathematical tools and algorithms for doing Exploratory Data Analysis, making predictive models and much more."
   ]
  },
  {
   "cell_type": "markdown",
   "id": "moderate-particular",
   "metadata": {},
   "source": [
    "## 2. Can you think of 4 distinct types of issues where it shines?\n",
    "\n",
    " 1. Classification of data points into class labels of the target variable of the training data based on values of independent variables using labeled data.\n",
    "  \n",
    " 2. Prediction of value of a continuous target variable value based on values of independent variables\n",
    "  \n",
    " 3. Classification of data points into class labels based on non-labeled data (having no information regarding the class labels of training data).\n",
    "  \n",
    " 4. Both classification and regression by an agent that acts in an environment where the actions of the agent are governed by penalties using data as and when it is generated to learn on the fly."
   ]
  },
  {
   "cell_type": "markdown",
   "id": "deluxe-manual",
   "metadata": {},
   "source": [
    "## 3. What is a labeled training set, and how does it work?\n",
    "\n",
    "A labeled training set is one that has the actual, correct values of the target variable for all data points. Using the labeled training set, the machine learning models form a complex algorithmic model by training on the data that stands true and learns to make classifications, predictions or clusters within the confines of the training set’s actual target variable values."
   ]
  },
  {
   "cell_type": "markdown",
   "id": "raised-gnome",
   "metadata": {},
   "source": [
    "## 4. What are the two most important tasks that are supervised?\n",
    "\n",
    "Classification and Regression are two most important tasks that are supervised. In most cases, a labeled data is required for correct predictions."
   ]
  },
  {
   "cell_type": "markdown",
   "id": "committed-settlement",
   "metadata": {},
   "source": [
    "## 5. Can you think of four examples of unsupervised tasks?\n",
    "\n",
    " 1. Detection of objects during a proctored exam/online exam\n",
    "  \n",
    " 2. Automated labeling of documents or corpus for Sentiment Analysis.\n",
    "  \n",
    " 3. Recommendation of movies belonging to the clusters from which you have watched most movies.\n",
    "  \n",
    " 4. Clustering similar genetic material for identification and/or classification of creatures into species."
   ]
  },
  {
   "cell_type": "markdown",
   "id": "genuine-little",
   "metadata": {},
   "source": [
    "## 6. State the machine learning model that would be best to make a robot walk through various unfamiliar terrains?\n",
    "\n",
    "Reinforcement or deep neural network machine learning models would be the best bet for either recursive learning over a period of time or for a single time learning from large dump of data."
   ]
  },
  {
   "cell_type": "markdown",
   "id": "apart-spring",
   "metadata": {},
   "source": [
    "## 7. Which algorithm will you use to divide your customers into different groups?\n",
    "\n",
    "The K-means algorithm should work well if the clusters that need to be formed are not of non-globular shapes and of different densities and sizes. Covering above stated limitations would require the DBSCAN algorithm."
   ]
  },
  {
   "cell_type": "markdown",
   "id": "essential-witness",
   "metadata": {},
   "source": [
    "## 8. Will you consider the problem of spam detection to be a supervised or unsupervised learning problem?\n",
    "\n",
    "Spam detection has been done using labeled data, but unsupervised learning can also be used for the same problem with similar performance and efficacy."
   ]
  },
  {
   "cell_type": "markdown",
   "id": "timely-pattern",
   "metadata": {},
   "source": [
    "## 9. What is the concept of an online learning system?\n",
    "\n",
    "A system in which a machine continuously learns using data being continuously fed or streamed is an online learning system."
   ]
  },
  {
   "cell_type": "markdown",
   "id": "genuine-visitor",
   "metadata": {},
   "source": [
    "## 10. What is out-of-core learning, and how does it differ from core learning?\n",
    "\n",
    "System in which a machine learns using data that cannot fit inside the machine’s on board memory is out of core learning. Core learning relies on data stored temporarily or permanently on the machine memory."
   ]
  },
  {
   "cell_type": "markdown",
   "id": "compatible-timeline",
   "metadata": {},
   "source": [
    "## 11. What kind of learning algorithm makes predictions using a similarity measure?\n",
    "\n",
    "Instance based algorithm and clustering algorithms"
   ]
  },
  {
   "cell_type": "markdown",
   "id": "hollywood-palmer",
   "metadata": {},
   "source": [
    "## 12. What's the difference between a model parameter and a hyperparameter in a learning algorithm?\n",
    "\n",
    "Model parameter affects the predictions made by the model while hyperparameters affect the learning curve, which needs to be tuned or optimised using optimisation techniques."
   ]
  },
  {
   "cell_type": "markdown",
   "id": "impaired-bangkok",
   "metadata": {},
   "source": [
    "## 13. What are the criteria that model-based learning algorithms look for? What is the most popular method they use to achieve success? What method do they use to make predictions?\n",
    "\n",
    "Best value of hyper parameters and parameters are looked out for, to get best performance. A loss function is incorporated to get success. Previously unseen data points and parameter values are used for making predictions."
   ]
  },
  {
   "cell_type": "markdown",
   "id": "compatible-doubt",
   "metadata": {},
   "source": [
    "## 14. Can you name four of the most important Machine Learning challenges?\n",
    "\n",
    " 1. Under representation of one class label due to it being a minority class,*\n",
    "  \n",
    " 2. Small dataset to train model on\n",
    "  \n",
    " 3. High variance model\n",
    "  \n",
    " 4. And High bias model training."
   ]
  },
  {
   "cell_type": "markdown",
   "id": "continental-discretion",
   "metadata": {},
   "source": [
    "## 15.What happens if the model performs well on the training data but fails to generalize the results to new situations? Can you think of three different options?\n",
    "\n",
    "If the model fails to perform well on new situations, we may have trained a high variance(overfit) model. To remedy this,\n",
    "  \n",
    " 1. Upsampling can be done to bring the number of minority class label data points up to the majority class.\n",
    "  \n",
    " 2. Downsampling to reduce the majority class to the number of minority class label data points.\n",
    "  \n",
    " 3. Removing outliers present in the data\n",
    "  \n",
    " 4. Adding class weights if the model parameters allow it."
   ]
  },
  {
   "cell_type": "markdown",
   "id": "third-brazilian",
   "metadata": {},
   "source": [
    "## 16. What exactly is a test set, and why would you need one?\n",
    "\n",
    "Before deploying or using a machine learning model, it needs to be evaluated for its performance and efficacy against data points that were not a part of the training data. This unseen data is called test data."
   ]
  },
  {
   "cell_type": "markdown",
   "id": "important-grove",
   "metadata": {},
   "source": [
    "## 17. What is a validation set's purpose?\n",
    "\n",
    "Comparing of different models requires a validation set so that the best model can be chosen out of ranked base learners, that will be optimised later."
   ]
  },
  {
   "cell_type": "markdown",
   "id": "sunrise-participation",
   "metadata": {},
   "source": [
    "## 18. What precisely is the train-dev kit, when will you need it, how do you put it to use?\n",
    "\n",
    "Train-Dev kit is used to find the split of data for training data and dev data. Dev set is used to find the best performing model and for choosing it out of many base learners and ultimately optimise the chosen model."
   ]
  },
  {
   "cell_type": "markdown",
   "id": "finite-medium",
   "metadata": {},
   "source": [
    "## 19.What could go wrong if you use the test set to tune hyperparameters?\n",
    "\n",
    "Test sets are generally much smaller than the training data. If test data is used to tune hyperparameters then the values gained after optimisation for hyperparameters would be for that small dataset. Using these values during actual usage will lead to wrong results"
   ]
  }
 ],
 "metadata": {
  "kernelspec": {
   "display_name": "Python 3",
   "language": "python",
   "name": "python3"
  },
  "language_info": {
   "codemirror_mode": {
    "name": "ipython",
    "version": 3
   },
   "file_extension": ".py",
   "mimetype": "text/x-python",
   "name": "python",
   "nbconvert_exporter": "python",
   "pygments_lexer": "ipython3",
   "version": "3.7.10"
  }
 },
 "nbformat": 4,
 "nbformat_minor": 5
}
