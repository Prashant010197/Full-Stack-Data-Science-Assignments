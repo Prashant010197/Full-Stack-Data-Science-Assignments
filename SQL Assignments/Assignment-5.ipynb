{
 "cells": [
  {
   "cell_type": "markdown",
   "id": "scenic-exposure",
   "metadata": {},
   "source": [
    "# Assignment-5"
   ]
  },
  {
   "cell_type": "markdown",
   "id": "proud-tactics",
   "metadata": {},
   "source": [
    "## Q-1. Write an SQL query to print details of workers excluding first names, “Vipul” and “Satish” from Worker table."
   ]
  },
  {
   "cell_type": "markdown",
   "id": "phantom-professional",
   "metadata": {},
   "source": [
    "select * from WORKER where FIRST_NAME not in (\"Vipul\",\"Satish\");"
   ]
  },
  {
   "cell_type": "markdown",
   "id": "final-drove",
   "metadata": {},
   "source": [
    "## Q-2. Write an SQL query to print details of the Workers whose FIRST_NAME ends with ‘h’ and contains six alphabets."
   ]
  },
  {
   "cell_type": "markdown",
   "id": "joint-meeting",
   "metadata": {},
   "source": [
    "select * from WORKER where FIRST_NAME like '%h' and len(FIRST_NAME)=6;"
   ]
  },
  {
   "cell_type": "markdown",
   "id": "heard-attitude",
   "metadata": {},
   "source": [
    "## Q-3. Write a query to validate Email of Employee."
   ]
  },
  {
   "cell_type": "markdown",
   "id": "unlikely-model",
   "metadata": {},
   "source": [
    "select EMAIL from TABLE where EMAIL like '%_@____%.com';"
   ]
  }
 ],
 "metadata": {
  "kernelspec": {
   "display_name": "Python 3",
   "language": "python",
   "name": "python3"
  },
  "language_info": {
   "codemirror_mode": {
    "name": "ipython",
    "version": 3
   },
   "file_extension": ".py",
   "mimetype": "text/x-python",
   "name": "python",
   "nbconvert_exporter": "python",
   "pygments_lexer": "ipython3",
   "version": "3.7.10"
  }
 },
 "nbformat": 4,
 "nbformat_minor": 5
}
