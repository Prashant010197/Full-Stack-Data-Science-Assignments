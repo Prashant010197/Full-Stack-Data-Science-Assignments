{
 "cells": [
  {
   "cell_type": "markdown",
   "id": "second-month",
   "metadata": {},
   "source": [
    "# Assignment-7"
   ]
  },
  {
   "cell_type": "markdown",
   "id": "olympic-conversion",
   "metadata": {},
   "source": [
    "## Q-1. Write an SQL query to show only odd rows from a table."
   ]
  },
  {
   "cell_type": "markdown",
   "id": "continuing-veteran",
   "metadata": {},
   "source": [
    "select * from TABLE where mod(ID,2)=0; #Assuming IDs are continous"
   ]
  },
  {
   "cell_type": "markdown",
   "id": "oriented-pantyhose",
   "metadata": {},
   "source": [
    "## Q-14. Write an SQL query to clone a new table from another table."
   ]
  },
  {
   "cell_type": "markdown",
   "id": "spanish-resistance",
   "metadata": {},
   "source": [
    "create table TABLE like TABLE1;"
   ]
  }
 ],
 "metadata": {
  "kernelspec": {
   "display_name": "Python 3",
   "language": "python",
   "name": "python3"
  },
  "language_info": {
   "codemirror_mode": {
    "name": "ipython",
    "version": 3
   },
   "file_extension": ".py",
   "mimetype": "text/x-python",
   "name": "python",
   "nbconvert_exporter": "python",
   "pygments_lexer": "ipython3",
   "version": "3.7.10"
  }
 },
 "nbformat": 4,
 "nbformat_minor": 5
}
