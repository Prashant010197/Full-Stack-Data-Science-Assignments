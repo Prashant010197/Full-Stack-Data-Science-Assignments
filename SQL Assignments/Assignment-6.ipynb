{
 "cells": [
  {
   "cell_type": "markdown",
   "id": "occupational-mouse",
   "metadata": {},
   "source": [
    "# Assignment-6"
   ]
  },
  {
   "cell_type": "markdown",
   "id": "warming-liberal",
   "metadata": {},
   "source": [
    "## Q-1. Write an SQL query to print details of the Workers who have joined in Feb’2014."
   ]
  },
  {
   "cell_type": "markdown",
   "id": "ultimate-basin",
   "metadata": {},
   "source": [
    "select * from WORKER where month(JOIN)=2 and year(JOIN)=2014;"
   ]
  },
  {
   "cell_type": "markdown",
   "id": "cutting-smoke",
   "metadata": {},
   "source": [
    "## Q-2. Write an SQL query to fetch duplicate records having matching data in some fields of a table."
   ]
  },
  {
   "cell_type": "markdown",
   "id": "christian-optics",
   "metadata": {},
   "source": [
    "select count(*),NAME,ID from TABLE group by NAME,ID having count(*)>1;"
   ]
  },
  {
   "cell_type": "markdown",
   "id": "rental-drove",
   "metadata": {},
   "source": [
    "## Q-3. How to remove duplicate rows from Employees table."
   ]
  },
  {
   "cell_type": "markdown",
   "id": "tropical-dominant",
   "metadata": {},
   "source": [
    "delete from EMPLOYEES\n",
    "where ID in (select count(ID)\n",
    "                 from EMPLOYEES \n",
    "                 group by ID having count(*)>1);"
   ]
  }
 ],
 "metadata": {
  "kernelspec": {
   "display_name": "Python 3",
   "language": "python",
   "name": "python3"
  },
  "language_info": {
   "codemirror_mode": {
    "name": "ipython",
    "version": 3
   },
   "file_extension": ".py",
   "mimetype": "text/x-python",
   "name": "python",
   "nbconvert_exporter": "python",
   "pygments_lexer": "ipython3",
   "version": "3.7.10"
  }
 },
 "nbformat": 4,
 "nbformat_minor": 5
}
