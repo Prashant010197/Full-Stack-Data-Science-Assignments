{
 "cells": [
  {
   "cell_type": "markdown",
   "id": "nervous-ancient",
   "metadata": {},
   "source": [
    "# Assignment-4"
   ]
  },
  {
   "cell_type": "markdown",
   "id": "popular-placement",
   "metadata": {},
   "source": [
    "## Q-1. Write an SQL query to print the FIRST_NAME from Worker table after replacing ‘a’ with ‘A’."
   ]
  },
  {
   "cell_type": "markdown",
   "id": "compatible-horse",
   "metadata": {},
   "source": [
    "Select replace(FIRST_NAME,'a','A') from WORKER;"
   ]
  },
  {
   "cell_type": "markdown",
   "id": "arbitrary-relationship",
   "metadata": {},
   "source": [
    "## Q-2. Write an SQL query to print all Worker details from the Worker table order by FIRST_NAME Ascending and DEPARTMENT Descending."
   ]
  },
  {
   "cell_type": "markdown",
   "id": "stretch-integration",
   "metadata": {},
   "source": [
    "select * from WORKER order by FIRST_NAME asc, DEPARTMENT desc;"
   ]
  },
  {
   "cell_type": "markdown",
   "id": "eight-administration",
   "metadata": {},
   "source": [
    "## Q-3. Write an SQL query to fetch the names of workers who earn the highest salary."
   ]
  },
  {
   "cell_type": "markdown",
   "id": "minus-proposal",
   "metadata": {},
   "source": [
    "select FIRST_NAME from WORKER where SALARY=(select max(SALARY) from WORKER;"
   ]
  }
 ],
 "metadata": {
  "kernelspec": {
   "display_name": "Python 3",
   "language": "python",
   "name": "python3"
  },
  "language_info": {
   "codemirror_mode": {
    "name": "ipython",
    "version": 3
   },
   "file_extension": ".py",
   "mimetype": "text/x-python",
   "name": "python",
   "nbconvert_exporter": "python",
   "pygments_lexer": "ipython3",
   "version": "3.7.10"
  }
 },
 "nbformat": 4,
 "nbformat_minor": 5
}
