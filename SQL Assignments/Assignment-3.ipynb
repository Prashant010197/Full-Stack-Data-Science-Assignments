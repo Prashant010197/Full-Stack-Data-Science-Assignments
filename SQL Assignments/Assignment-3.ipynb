{
 "cells": [
  {
   "cell_type": "markdown",
   "id": "fallen-passion",
   "metadata": {},
   "source": [
    "# Assignment-3"
   ]
  },
  {
   "cell_type": "markdown",
   "id": "endless-blond",
   "metadata": {},
   "source": [
    "## Q-1. Write an SQL query to print the FIRST_NAME from Worker table after removing white spaces from the right side."
   ]
  },
  {
   "cell_type": "markdown",
   "id": "unusual-houston",
   "metadata": {},
   "source": [
    "select rtrim(FIRST_NAME) from WORKER;"
   ]
  },
  {
   "cell_type": "markdown",
   "id": "superior-thirty",
   "metadata": {},
   "source": [
    "## Q-2. Write an SQL query that fetches the unique values of DEPARTMENT from Worker table and prints its length."
   ]
  },
  {
   "cell_type": "markdown",
   "id": "intelligent-safety",
   "metadata": {},
   "source": [
    "select distinct(DEPARTMENT), len(DEPARTMENT) from WORKER;"
   ]
  },
  {
   "cell_type": "markdown",
   "id": "synthetic-missile",
   "metadata": {},
   "source": [
    "## Q-3. Write an SQL query to fetch nth max salaries from a table."
   ]
  },
  {
   "cell_type": "markdown",
   "id": "canadian-literacy",
   "metadata": {},
   "source": [
    "select SALARY from TABLE order by SALARY limit nth;"
   ]
  }
 ],
 "metadata": {
  "kernelspec": {
   "display_name": "Python 3",
   "language": "python",
   "name": "python3"
  },
  "language_info": {
   "codemirror_mode": {
    "name": "ipython",
    "version": 3
   },
   "file_extension": ".py",
   "mimetype": "text/x-python",
   "name": "python",
   "nbconvert_exporter": "python",
   "pygments_lexer": "ipython3",
   "version": "3.7.10"
  }
 },
 "nbformat": 4,
 "nbformat_minor": 5
}
