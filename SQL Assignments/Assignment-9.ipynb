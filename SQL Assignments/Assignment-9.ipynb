{
 "cells": [
  {
   "cell_type": "markdown",
   "id": "assured-possible",
   "metadata": {},
   "source": [
    "# Assignment-9"
   ]
  },
  {
   "cell_type": "markdown",
   "id": "emerging-mathematics",
   "metadata": {},
   "source": [
    "## Q-1.  Write an SQL query to show the top n (say 10) records of a table."
   ]
  },
  {
   "cell_type": "markdown",
   "id": "meaningful-fundamental",
   "metadata": {},
   "source": [
    "select * from TABLE order by ID asc limit 10;"
   ]
  },
  {
   "cell_type": "markdown",
   "id": "raising-validation",
   "metadata": {},
   "source": [
    "## Q-2. Write an SQL query to determine the nth (say n=5) highest salary from a table."
   ]
  },
  {
   "cell_type": "markdown",
   "id": "prerequisite-intranet",
   "metadata": {},
   "source": [
    "select top(1,SALARY)\n",
    "from \n",
    "\n",
    "(select top(distinct(5,SALARY))\n",
    "from TABLE\n",
    "order by SALARY desc)\n",
    " \n",
    "order by SALARY asc;"
   ]
  }
 ],
 "metadata": {
  "kernelspec": {
   "display_name": "Python 3",
   "language": "python",
   "name": "python3"
  },
  "language_info": {
   "codemirror_mode": {
    "name": "ipython",
    "version": 3
   },
   "file_extension": ".py",
   "mimetype": "text/x-python",
   "name": "python",
   "nbconvert_exporter": "python",
   "pygments_lexer": "ipython3",
   "version": "3.7.10"
  }
 },
 "nbformat": 4,
 "nbformat_minor": 5
}
