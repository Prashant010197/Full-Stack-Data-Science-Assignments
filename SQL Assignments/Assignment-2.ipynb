{
 "cells": [
  {
   "cell_type": "markdown",
   "id": "peaceful-assembly",
   "metadata": {},
   "source": [
    "# Assignment-2"
   ]
  },
  {
   "cell_type": "markdown",
   "id": "auburn-rapid",
   "metadata": {},
   "source": [
    "## Q-1. Write an SQL query to print the first three characters of  FIRST_NAME from Worker table."
   ]
  },
  {
   "cell_type": "markdown",
   "id": "thrown-identification",
   "metadata": {},
   "source": [
    "select substring(FIRST_NAME,1,3) from WORKER;"
   ]
  },
  {
   "cell_type": "markdown",
   "id": "constitutional-disability",
   "metadata": {},
   "source": [
    "##  Q-2. Write an SQL query to find the position of the alphabet (‘a’) in the first name column ‘Amitabh’ from Worker table."
   ]
  },
  {
   "cell_type": "markdown",
   "id": "hearing-blanket",
   "metadata": {},
   "source": [
    "select position('a' in FIRST_NAME) from WORKER;"
   ]
  },
  {
   "cell_type": "markdown",
   "id": "spatial-algeria",
   "metadata": {},
   "source": [
    "## Q-3. Write an SQL query to print the name of employees having the highest salary in each department."
   ]
  },
  {
   "cell_type": "markdown",
   "id": "annoying-subcommittee",
   "metadata": {},
   "source": [
    "select NAME, max(SALARY), DEPARTMENT from TABLENAME group by DEPARTMENT;"
   ]
  }
 ],
 "metadata": {
  "kernelspec": {
   "display_name": "Python 3",
   "language": "python",
   "name": "python3"
  },
  "language_info": {
   "codemirror_mode": {
    "name": "ipython",
    "version": 3
   },
   "file_extension": ".py",
   "mimetype": "text/x-python",
   "name": "python",
   "nbconvert_exporter": "python",
   "pygments_lexer": "ipython3",
   "version": "3.7.10"
  }
 },
 "nbformat": 4,
 "nbformat_minor": 5
}
