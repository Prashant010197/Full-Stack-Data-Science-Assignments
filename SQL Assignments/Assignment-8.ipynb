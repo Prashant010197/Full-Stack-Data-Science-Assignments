{
 "cells": [
  {
   "cell_type": "markdown",
   "id": "announced-bunny",
   "metadata": {},
   "source": [
    "# Assignment-8"
   ]
  },
  {
   "cell_type": "markdown",
   "id": "major-venture",
   "metadata": {},
   "source": [
    "## Q-1. Write an SQL query to fetch intersecting records of two tables."
   ]
  },
  {
   "cell_type": "markdown",
   "id": "pending-worth",
   "metadata": {},
   "source": [
    "(select * from TABLE1) \n",
    "\n",
    "intersect\n",
    "\n",
    "(select * from TABLE2);"
   ]
  },
  {
   "cell_type": "markdown",
   "id": "virgin-recall",
   "metadata": {},
   "source": [
    "## Q-2. Write an SQL query to show records from one table that another table does not have."
   ]
  },
  {
   "cell_type": "markdown",
   "id": "controversial-grammar",
   "metadata": {},
   "source": [
    "select * from TABLE1 where (select * from TABLE2) not in (select * from TABLE1);"
   ]
  }
 ],
 "metadata": {
  "kernelspec": {
   "display_name": "Python 3",
   "language": "python",
   "name": "python3"
  },
  "language_info": {
   "codemirror_mode": {
    "name": "ipython",
    "version": 3
   },
   "file_extension": ".py",
   "mimetype": "text/x-python",
   "name": "python",
   "nbconvert_exporter": "python",
   "pygments_lexer": "ipython3",
   "version": "3.7.10"
  }
 },
 "nbformat": 4,
 "nbformat_minor": 5
}
