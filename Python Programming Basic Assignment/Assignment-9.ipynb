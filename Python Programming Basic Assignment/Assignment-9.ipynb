{
 "cells": [
  {
   "cell_type": "markdown",
   "id": "coral-browser",
   "metadata": {},
   "source": [
    "# Assignment-9"
   ]
  },
  {
   "cell_type": "markdown",
   "id": "informational-texture",
   "metadata": {},
   "source": [
    "## 1. Write a Python program to check if the given number is a Disarium Number?"
   ]
  },
  {
   "cell_type": "code",
   "execution_count": 15,
   "id": "expressed-australian",
   "metadata": {},
   "outputs": [
    {
     "name": "stdout",
     "output_type": "stream",
     "text": [
      "it is a disarium number\n"
     ]
    }
   ],
   "source": [
    "num=175\n",
    "sum=0\n",
    "check=str(num)\n",
    "for i in range(1,len(check)+1):\n",
    "    num1=int(check[i-1])\n",
    "    sum+=num1**i\n",
    "if sum==num:\n",
    "    print('it is a disarium number')\n",
    "else:\n",
    "    print('it is not a disarium number')"
   ]
  },
  {
   "cell_type": "markdown",
   "id": "sixth-doctor",
   "metadata": {},
   "source": [
    "## 2. Write a Python program to print all disarium numbers between 1 to 100?"
   ]
  },
  {
   "cell_type": "code",
   "execution_count": 23,
   "id": "nervous-victor",
   "metadata": {},
   "outputs": [
    {
     "name": "stdout",
     "output_type": "stream",
     "text": [
      "0\n",
      "1\n",
      "2\n",
      "3\n",
      "4\n",
      "5\n",
      "6\n",
      "7\n",
      "8\n",
      "9\n",
      "89\n"
     ]
    }
   ],
   "source": [
    "limit=100\n",
    "for i in range(0,100+1):\n",
    "    sum=0\n",
    "    check=str(i)\n",
    "    for j in range(1,len(check)+1):\n",
    "        num1=int(check[j-1])\n",
    "        sum+=num1**j\n",
    "        if sum==i:\n",
    "            print(i)"
   ]
  },
  {
   "cell_type": "markdown",
   "id": "excellent-functionality",
   "metadata": {},
   "source": [
    "## 3. Write a Python program to check if the given number is Happy Number?"
   ]
  },
  {
   "cell_type": "code",
   "execution_count": 15,
   "id": "external-dynamics",
   "metadata": {},
   "outputs": [
    {
     "name": "stdout",
     "output_type": "stream",
     "text": [
      "enter the number86\n",
      "it is happy number\n"
     ]
    }
   ],
   "source": [
    "num=int(input('enter the number'))\n",
    "def remainder(num):\n",
    "    remainder,sum_val=0,0\n",
    "    while(num>0):\n",
    "        remainder=num%10\n",
    "        sum_val+=remainder*remainder\n",
    "        num=num//10\n",
    "    return sum_val\n",
    "result=num\n",
    "while result!=1 and result!=4:\n",
    "    result=remainder(result)\n",
    "if result==1:\n",
    "    print(\"it is happy number\")\n",
    "else:\n",
    "    print(\"not happy number\")"
   ]
  },
  {
   "cell_type": "markdown",
   "id": "essential-induction",
   "metadata": {},
   "source": [
    "## 4. Write a Python program to print all happy numbers between 1 and 100?"
   ]
  },
  {
   "cell_type": "code",
   "execution_count": 20,
   "id": "logical-discipline",
   "metadata": {},
   "outputs": [
    {
     "name": "stdout",
     "output_type": "stream",
     "text": [
      "enter the limit100\n",
      "7\n",
      "10\n",
      "13\n",
      "19\n",
      "23\n",
      "28\n",
      "31\n",
      "32\n",
      "44\n",
      "49\n",
      "68\n",
      "70\n",
      "79\n",
      "82\n",
      "86\n",
      "91\n",
      "94\n",
      "97\n",
      "100\n"
     ]
    }
   ],
   "source": [
    "limit=int(input('enter the limit'))\n",
    "def remainder(i):\n",
    "    remainder,sum_val=0,0\n",
    "    while(i>0):\n",
    "        remainder=i%10\n",
    "        sum_val+=remainder*remainder\n",
    "        i=i//10\n",
    "    return sum_val\n",
    "for i in range(1,limit+1):\n",
    "    result=i\n",
    "    while result!=1 and result!=4:\n",
    "        result=remainder(result)\n",
    "        if result==1:\n",
    "            print(i)"
   ]
  },
  {
   "cell_type": "markdown",
   "id": "smooth-mailing",
   "metadata": {},
   "source": [
    "## 5. Write a Python program to determine whether the given number is a Harshad Number?"
   ]
  },
  {
   "cell_type": "code",
   "execution_count": 32,
   "id": "integrated-tokyo",
   "metadata": {},
   "outputs": [
    {
     "name": "stdout",
     "output_type": "stream",
     "text": [
      "1\n",
      "1\n",
      "it is not Harshad number\n"
     ]
    }
   ],
   "source": [
    "n=11\n",
    "string=str(n)\n",
    "sum_=0\n",
    "for i in string:\n",
    "    sum_+=int(i)\n",
    "if n%sum_==0:\n",
    "    print(\"it is Harshad number\")\n",
    "elif n%sum_!=0:\n",
    "    print(\"it is not Harshad number\")"
   ]
  },
  {
   "cell_type": "markdown",
   "id": "elect-share",
   "metadata": {},
   "source": [
    "## 6. Write a Python program to print all pronic numbers between 1 and 100?"
   ]
  },
  {
   "cell_type": "code",
   "execution_count": 35,
   "id": "actual-wesley",
   "metadata": {},
   "outputs": [
    {
     "name": "stdout",
     "output_type": "stream",
     "text": [
      "2\n",
      "6\n",
      "12\n",
      "20\n",
      "30\n",
      "42\n",
      "56\n",
      "72\n",
      "90\n",
      "110\n",
      "132\n",
      "156\n",
      "182\n",
      "210\n",
      "240\n",
      "272\n",
      "306\n",
      "342\n",
      "380\n",
      "420\n",
      "462\n",
      "506\n",
      "552\n",
      "600\n",
      "650\n",
      "702\n",
      "756\n",
      "812\n",
      "870\n",
      "930\n",
      "992\n",
      "1056\n",
      "1122\n",
      "1190\n",
      "1260\n",
      "1332\n",
      "1406\n",
      "1482\n",
      "1560\n",
      "1640\n",
      "1722\n",
      "1806\n",
      "1892\n",
      "1980\n",
      "2070\n",
      "2162\n",
      "2256\n",
      "2352\n",
      "2450\n",
      "2550\n",
      "2652\n",
      "2756\n",
      "2862\n",
      "2970\n",
      "3080\n",
      "3192\n",
      "3306\n",
      "3422\n",
      "3540\n",
      "3660\n",
      "3782\n",
      "3906\n",
      "4032\n",
      "4160\n",
      "4290\n",
      "4422\n",
      "4556\n",
      "4692\n",
      "4830\n",
      "4970\n",
      "5112\n",
      "5256\n",
      "5402\n",
      "5550\n",
      "5700\n",
      "5852\n",
      "6006\n",
      "6162\n",
      "6320\n",
      "6480\n",
      "6642\n",
      "6806\n",
      "6972\n",
      "7140\n",
      "7310\n",
      "7482\n",
      "7656\n",
      "7832\n",
      "8010\n",
      "8190\n",
      "8372\n",
      "8556\n",
      "8742\n",
      "8930\n",
      "9120\n",
      "9312\n",
      "9506\n",
      "9702\n",
      "9900\n",
      "10100\n"
     ]
    }
   ],
   "source": [
    "limit=100\n",
    "result=0\n",
    "for i in range(1,limit+1):\n",
    "    result=i*(i+1)\n",
    "    print(result)"
   ]
  }
 ],
 "metadata": {
  "kernelspec": {
   "display_name": "Python 3",
   "language": "python",
   "name": "python3"
  },
  "language_info": {
   "codemirror_mode": {
    "name": "ipython",
    "version": 3
   },
   "file_extension": ".py",
   "mimetype": "text/x-python",
   "name": "python",
   "nbconvert_exporter": "python",
   "pygments_lexer": "ipython3",
   "version": "3.7.10"
  }
 },
 "nbformat": 4,
 "nbformat_minor": 5
}
