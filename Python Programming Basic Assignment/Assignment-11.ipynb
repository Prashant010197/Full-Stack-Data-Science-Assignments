{
 "cells": [
  {
   "cell_type": "markdown",
   "id": "eastern-algeria",
   "metadata": {},
   "source": [
    "# Assignment-11"
   ]
  },
  {
   "cell_type": "markdown",
   "id": "cloudy-benefit",
   "metadata": {},
   "source": [
    "## 1. Write a Python program to find words which are greater than given length k?"
   ]
  },
  {
   "cell_type": "code",
   "execution_count": 2,
   "id": "alive-shaft",
   "metadata": {},
   "outputs": [
    {
     "data": {
      "text/plain": [
       "['quick', 'brown', 'jumps']"
      ]
     },
     "execution_count": 2,
     "metadata": {},
     "output_type": "execute_result"
    }
   ],
   "source": [
    "words=['quick','brown','fox','jumps','over','the','lazy','dog']\n",
    "k=4\n",
    "[i for i in words if k<len(i)]"
   ]
  },
  {
   "cell_type": "markdown",
   "id": "internal-powder",
   "metadata": {},
   "source": [
    "## 2. Write a Python program for removing i-th character from a string?"
   ]
  },
  {
   "cell_type": "code",
   "execution_count": 11,
   "id": "functional-netherlands",
   "metadata": {},
   "outputs": [
    {
     "data": {
      "text/plain": [
       "'Prasant'"
      ]
     },
     "execution_count": 11,
     "metadata": {},
     "output_type": "execute_result"
    }
   ],
   "source": [
    "words='Prashant'\n",
    "i=4\n",
    "words[:i]+words[i+1:]"
   ]
  },
  {
   "cell_type": "markdown",
   "id": "conceptual-explosion",
   "metadata": {},
   "source": [
    "## 3. Write a Python program to split and join a string?"
   ]
  },
  {
   "cell_type": "code",
   "execution_count": 15,
   "id": "dependent-bernard",
   "metadata": {},
   "outputs": [
    {
     "name": "stdout",
     "output_type": "stream",
     "text": [
      "Pras hant\n",
      "Prashant\n"
     ]
    }
   ],
   "source": [
    "words='Prashant'\n",
    "s1=words[:i]\n",
    "s2=words[i:]\n",
    "print(s1,s2)\n",
    "print(s1+s2)"
   ]
  },
  {
   "cell_type": "markdown",
   "id": "synthetic-reggae",
   "metadata": {},
   "source": [
    "## 4. Write a Python program to check if a given string is binary string or not?"
   ]
  },
  {
   "cell_type": "code",
   "execution_count": 21,
   "id": "distributed-rehabilitation",
   "metadata": {},
   "outputs": [
    {
     "name": "stdout",
     "output_type": "stream",
     "text": [
      "it is binary\n"
     ]
    }
   ],
   "source": [
    "string='0101010101'\n",
    "check=set(string)\n",
    "set_={'0','1'}\n",
    "if check==set_:\n",
    "    print('it is binary')\n",
    "else:\n",
    "    print('non-binary')"
   ]
  },
  {
   "cell_type": "markdown",
   "id": "defined-basket",
   "metadata": {},
   "source": [
    "## 5. Write a Python program to find uncommon words from two Strings?"
   ]
  },
  {
   "cell_type": "code",
   "execution_count": 27,
   "id": "early-genealogy",
   "metadata": {},
   "outputs": [
    {
     "data": {
      "text/plain": [
       "['like', 'and', 'cakes', 'hate']"
      ]
     },
     "execution_count": 27,
     "metadata": {},
     "output_type": "execute_result"
    }
   ],
   "source": [
    "str1='i like apples and cakes'\n",
    "str2='i hate apples'\n",
    "l1=list(str1.split(' '))\n",
    "l2=list(str2.split(' '))\n",
    "[i for i in l1 if i not in l2]+[j for j in l2 if j not in l1]"
   ]
  },
  {
   "cell_type": "markdown",
   "id": "opened-consolidation",
   "metadata": {},
   "source": [
    "## 6. Write a Python to find all duplicate characters in string?"
   ]
  },
  {
   "cell_type": "code",
   "execution_count": 32,
   "id": "suffering-strip",
   "metadata": {},
   "outputs": [
    {
     "name": "stdout",
     "output_type": "stream",
     "text": [
      "['i', ' ', 'l', 'k', 'e', 'a', 'p', 's']\n"
     ]
    }
   ],
   "source": [
    "str1='i like apples and cakes'\n",
    "l=[]\n",
    "for i in str1:\n",
    "    if str1.count(i)>1 and i not in l:\n",
    "        l.append(i)\n",
    "print(l)"
   ]
  },
  {
   "cell_type": "markdown",
   "id": "adjustable-integration",
   "metadata": {},
   "source": [
    "## 7. Write a Python Program to check if a string contains any special character?"
   ]
  },
  {
   "cell_type": "code",
   "execution_count": 37,
   "id": "extraordinary-peripheral",
   "metadata": {},
   "outputs": [
    {
     "name": "stdout",
     "output_type": "stream",
     "text": [
      "contains special characters\n"
     ]
    }
   ],
   "source": [
    "from string import punctuation\n",
    "s=set(punctuation)\n",
    "ct=0\n",
    "string='My name $s Prashant $%arma'\n",
    "for i in string:\n",
    "    if i in s:\n",
    "        ct=1\n",
    "if ct==1:\n",
    "    print('contains special characters')"
   ]
  }
 ],
 "metadata": {
  "kernelspec": {
   "display_name": "Python 3",
   "language": "python",
   "name": "python3"
  },
  "language_info": {
   "codemirror_mode": {
    "name": "ipython",
    "version": 3
   },
   "file_extension": ".py",
   "mimetype": "text/x-python",
   "name": "python",
   "nbconvert_exporter": "python",
   "pygments_lexer": "ipython3",
   "version": "3.7.10"
  }
 },
 "nbformat": 4,
 "nbformat_minor": 5
}
