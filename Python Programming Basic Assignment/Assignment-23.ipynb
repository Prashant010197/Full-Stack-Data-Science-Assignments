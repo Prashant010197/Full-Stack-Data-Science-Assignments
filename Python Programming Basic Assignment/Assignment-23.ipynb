{
 "cells": [
  {
   "cell_type": "markdown",
   "id": "illegal-knock",
   "metadata": {},
   "source": [
    "# Assignment-23"
   ]
  },
  {
   "cell_type": "markdown",
   "id": "bacterial-substance",
   "metadata": {},
   "source": [
    "## Question 1\n",
    "\n",
    "Create a function that takes a number as an argument and returns True or False depending on whether the number is symmetrical or not. A number is symmetrical when it is the same as its reverse.\n",
    "\n",
    "Examples\n",
    "\n",
    "is_symmetrical(7227) ➞ True\n",
    "\n",
    "is_symmetrical(12567) ➞ False\n",
    "\n",
    "is_symmetrical(44444444) ➞ True\n",
    "\n",
    "is_symmetrical(9939) ➞ False\n",
    "\n",
    "is_symmetrical(1112111) ➞ True"
   ]
  },
  {
   "cell_type": "code",
   "execution_count": 7,
   "id": "lesbian-consultation",
   "metadata": {},
   "outputs": [
    {
     "data": {
      "text/plain": [
       "True"
      ]
     },
     "execution_count": 7,
     "metadata": {},
     "output_type": "execute_result"
    }
   ],
   "source": [
    "def is_symmetrical(n):\n",
    "    if str(n)==str(n)[::-1]:\n",
    "        return True\n",
    "    else:\n",
    "        return False\n",
    "    \n",
    "n=1112111\n",
    "is_symmetrical(n)"
   ]
  },
  {
   "cell_type": "markdown",
   "id": "matched-magnet",
   "metadata": {},
   "source": [
    "## Question 2\n",
    "\n",
    "Given a string of numbers separated by a comma and space, return the product of the numbers.\n",
    "\n",
    "Examples\n",
    "\n",
    "multiply_nums(\"2, 3\") ➞ 6\n",
    "\n",
    "multiply_nums(\"1, 2, 3, 4\") ➞ 24\n",
    "\n",
    "multiply_nums(\"54, 75, 453, 0\") ➞ 0\n",
    "\n",
    "multiply_nums(\"10, -2\") ➞ -20"
   ]
  },
  {
   "cell_type": "code",
   "execution_count": 15,
   "id": "metric-detroit",
   "metadata": {},
   "outputs": [
    {
     "name": "stdout",
     "output_type": "stream",
     "text": [
      "-20\n"
     ]
    }
   ],
   "source": [
    "def multiply_nums(string):\n",
    "    multip=1\n",
    "    string=string.split(',')\n",
    "    for i in string:\n",
    "        multip=multip*int(i)\n",
    "    print(multip)\n",
    "string=\"10, -2\"\n",
    "multiply_nums(string)    "
   ]
  },
  {
   "cell_type": "markdown",
   "id": "forty-cream",
   "metadata": {},
   "source": [
    "## Question 3\n",
    "\n",
    "Create a function that squares every digit of a number.\n",
    "\n",
    "Examples\n",
    "\n",
    "square_digits(9119) ➞ 811181\n",
    "\n",
    "square_digits(2483) ➞ 416649\n",
    "\n",
    "square_digits(3212) ➞ 9414\n",
    "\n",
    "Notes\n",
    "The function receives an integer and must return an integer."
   ]
  },
  {
   "cell_type": "code",
   "execution_count": 20,
   "id": "quick-national",
   "metadata": {},
   "outputs": [
    {
     "name": "stdout",
     "output_type": "stream",
     "text": [
      "416649\n",
      "9414\n"
     ]
    }
   ],
   "source": [
    "def square_digits(n):\n",
    "    l=[]\n",
    "    s=str(n)\n",
    "    for i in s:\n",
    "        res=int(i)**2\n",
    "        l.append(str(res))\n",
    "    l=''.join(l)\n",
    "    print(l)\n",
    "n=2483\n",
    "square_digits(n)\n",
    "square_digits(3212)"
   ]
  },
  {
   "cell_type": "markdown",
   "id": "entitled-bradley",
   "metadata": {},
   "source": [
    "## Question 4\n",
    "\n",
    "Create a function that sorts a list and removes all duplicate items from it.\n",
    "\n",
    "Examples\n",
    "\n",
    "setify([1, 3, 3, 5, 5]) ➞ [1, 3, 5]\n",
    "\n",
    "setify([4, 4, 4, 4]) ➞ [4]\n",
    "\n",
    "setify([5, 7, 8, 9, 10, 15]) ➞ [5, 7, 8, 9, 10, 15]\n",
    "\n",
    "setify([3, 3, 3, 2, 1]) ➞ [1, 2, 3]"
   ]
  },
  {
   "cell_type": "code",
   "execution_count": 24,
   "id": "portable-terrorist",
   "metadata": {},
   "outputs": [
    {
     "name": "stdout",
     "output_type": "stream",
     "text": [
      "[1, 2, 3]\n"
     ]
    }
   ],
   "source": [
    "def setify(l):\n",
    "    l=set(l)\n",
    "    l=list(l)\n",
    "    print(l)\n",
    "l=[3, 3, 3, 2, 1]\n",
    "setify(l)"
   ]
  },
  {
   "cell_type": "markdown",
   "id": "distributed-opera",
   "metadata": {},
   "source": [
    "## Question 5\n",
    "\n",
    "Create a function that returns the mean of all digits.\n",
    "\n",
    "Examples\n",
    "\n",
    "mean(42) ➞ 3\n",
    "\n",
    "mean(12345) ➞ 3\n",
    "\n",
    "mean(666) ➞ 6\n",
    "\n",
    "Notes\n",
    "The mean of all digits is the sum of digits / how many digits there are (e.g. mean of digits in 512 is (5+1+2)/3(number of digits) = 8/3=2).\n",
    "The mean will always be an integer."
   ]
  },
  {
   "cell_type": "code",
   "execution_count": 26,
   "id": "balanced-bermuda",
   "metadata": {},
   "outputs": [
    {
     "name": "stdout",
     "output_type": "stream",
     "text": [
      "3\n"
     ]
    }
   ],
   "source": [
    "def mean(n):\n",
    "    ls=str(n)\n",
    "    sum_=0\n",
    "    for i in ls:\n",
    "        sum_=sum_+int(i)\n",
    "    res=sum_//len(ls)\n",
    "    print(res)\n",
    "n=12345\n",
    "mean(n)"
   ]
  }
 ],
 "metadata": {
  "kernelspec": {
   "display_name": "Python 3",
   "language": "python",
   "name": "python3"
  },
  "language_info": {
   "codemirror_mode": {
    "name": "ipython",
    "version": 3
   },
   "file_extension": ".py",
   "mimetype": "text/x-python",
   "name": "python",
   "nbconvert_exporter": "python",
   "pygments_lexer": "ipython3",
   "version": "3.7.10"
  }
 },
 "nbformat": 4,
 "nbformat_minor": 5
}
