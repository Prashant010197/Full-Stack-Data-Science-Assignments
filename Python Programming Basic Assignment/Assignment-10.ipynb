{
 "cells": [
  {
   "cell_type": "markdown",
   "id": "rubber-arbitration",
   "metadata": {},
   "source": [
    "# Assignment-10"
   ]
  },
  {
   "cell_type": "markdown",
   "id": "sustained-trouble",
   "metadata": {},
   "source": [
    "## 1. Write a Python program to find sum of elements in list?"
   ]
  },
  {
   "cell_type": "code",
   "execution_count": 14,
   "id": "prostate-collaboration",
   "metadata": {},
   "outputs": [
    {
     "name": "stdout",
     "output_type": "stream",
     "text": [
      "15\n"
     ]
    }
   ],
   "source": [
    "n=[1,2,3,4,5]\n",
    "sum_=0\n",
    "for i in n:\n",
    "    sum_+=i\n",
    "print(sum_)"
   ]
  },
  {
   "cell_type": "markdown",
   "id": "external-failing",
   "metadata": {},
   "source": [
    "## 2. Write a Python program to  Multiply all numbers in the list?"
   ]
  },
  {
   "cell_type": "code",
   "execution_count": 22,
   "id": "aware-festival",
   "metadata": {},
   "outputs": [
    {
     "name": "stdout",
     "output_type": "stream",
     "text": [
      "120\n"
     ]
    }
   ],
   "source": [
    "n=[1,2,3,4,5]\n",
    "res=1\n",
    "for i in n:\n",
    "    res=res*i\n",
    "print(res)"
   ]
  },
  {
   "cell_type": "markdown",
   "id": "dependent-stewart",
   "metadata": {},
   "source": [
    "## 3. Write a Python program to find smallest number in a list?"
   ]
  },
  {
   "cell_type": "code",
   "execution_count": 23,
   "id": "blind-lambda",
   "metadata": {},
   "outputs": [
    {
     "data": {
      "text/plain": [
       "1"
      ]
     },
     "execution_count": 23,
     "metadata": {},
     "output_type": "execute_result"
    }
   ],
   "source": [
    "n=[1,2,3,4,5]\n",
    "min(n)"
   ]
  },
  {
   "cell_type": "markdown",
   "id": "military-vulnerability",
   "metadata": {},
   "source": [
    "## 4. Write a Python program to find largest number in a list?"
   ]
  },
  {
   "cell_type": "code",
   "execution_count": 24,
   "id": "cloudy-parallel",
   "metadata": {},
   "outputs": [
    {
     "data": {
      "text/plain": [
       "5"
      ]
     },
     "execution_count": 24,
     "metadata": {},
     "output_type": "execute_result"
    }
   ],
   "source": [
    "n=[1,2,3,4,5]\n",
    "max(n)"
   ]
  },
  {
   "cell_type": "markdown",
   "id": "pretty-breeding",
   "metadata": {},
   "source": [
    "## 5. Write a Python program to find second largest number in a list?"
   ]
  },
  {
   "cell_type": "code",
   "execution_count": 28,
   "id": "needed-filter",
   "metadata": {},
   "outputs": [
    {
     "name": "stdout",
     "output_type": "stream",
     "text": [
      "4\n"
     ]
    }
   ],
   "source": [
    "n=[1,3,2,5,4]\n",
    "n.sort()\n",
    "print(n[-2])"
   ]
  },
  {
   "cell_type": "markdown",
   "id": "hairy-spencer",
   "metadata": {},
   "source": [
    "## 6. Write a Python program to find N largest elements from a list?"
   ]
  },
  {
   "cell_type": "code",
   "execution_count": 32,
   "id": "rural-thread",
   "metadata": {},
   "outputs": [
    {
     "name": "stdout",
     "output_type": "stream",
     "text": [
      "7\n",
      "6\n",
      "5\n"
     ]
    }
   ],
   "source": [
    "limit=3\n",
    "n=[1,2,3,4,6,5,7]\n",
    "n.sort()\n",
    "for i in range(1,limit+1):\n",
    "    print(n[-i])"
   ]
  },
  {
   "cell_type": "markdown",
   "id": "olive-ranking",
   "metadata": {},
   "source": [
    "## 7. Write a Python program to print even numbers in a list?"
   ]
  },
  {
   "cell_type": "code",
   "execution_count": 34,
   "id": "authorized-basis",
   "metadata": {},
   "outputs": [
    {
     "data": {
      "text/plain": [
       "[2, 4, 6, 8, 10]"
      ]
     },
     "execution_count": 34,
     "metadata": {},
     "output_type": "execute_result"
    }
   ],
   "source": [
    "n=[1,2,3,4,5,6,7,8,9,10]\n",
    "[i for i in n if i%2==0]"
   ]
  },
  {
   "cell_type": "markdown",
   "id": "bright-detective",
   "metadata": {},
   "source": [
    "## 8. Write a Python program to print odd numbers in a List?"
   ]
  },
  {
   "cell_type": "code",
   "execution_count": 35,
   "id": "pharmaceutical-gather",
   "metadata": {},
   "outputs": [
    {
     "data": {
      "text/plain": [
       "[1, 3, 5, 7, 9]"
      ]
     },
     "execution_count": 35,
     "metadata": {},
     "output_type": "execute_result"
    }
   ],
   "source": [
    "n=[1,2,3,4,5,6,7,8,9,10]\n",
    "[i for i in n if i%2!=0]"
   ]
  },
  {
   "cell_type": "markdown",
   "id": "infectious-classification",
   "metadata": {},
   "source": [
    "## 9. Write a Python program to Remove empty List from List?"
   ]
  },
  {
   "cell_type": "code",
   "execution_count": 43,
   "id": "discrete-leone",
   "metadata": {},
   "outputs": [
    {
     "name": "stdout",
     "output_type": "stream",
     "text": [
      "[[1, 2], [3, 4]]\n"
     ]
    }
   ],
   "source": [
    "n=[[1,2],[3,4],[]]\n",
    "[n.pop(i) for i in range(0,len(n)) if n[i]==[]]\n",
    "print(n)"
   ]
  },
  {
   "cell_type": "markdown",
   "id": "static-nurse",
   "metadata": {},
   "source": [
    "## 10. Write a Python program to Cloning or Copying a list?"
   ]
  },
  {
   "cell_type": "code",
   "execution_count": 44,
   "id": "statistical-special",
   "metadata": {},
   "outputs": [
    {
     "name": "stdout",
     "output_type": "stream",
     "text": [
      "[1, 2, 3, 4, 5]\n"
     ]
    }
   ],
   "source": [
    "n=[1,2,3,4,5]\n",
    "l=n.copy()\n",
    "print(l)"
   ]
  },
  {
   "cell_type": "markdown",
   "id": "dietary-tracy",
   "metadata": {},
   "source": [
    "## 11. Write a Python program to Count occurrences of an element in a list?"
   ]
  },
  {
   "cell_type": "code",
   "execution_count": 45,
   "id": "perceived-adelaide",
   "metadata": {},
   "outputs": [
    {
     "data": {
      "text/plain": [
       "2"
      ]
     },
     "execution_count": 45,
     "metadata": {},
     "output_type": "execute_result"
    }
   ],
   "source": [
    "n=[1,1,3,4,5]\n",
    "n.count(1)"
   ]
  }
 ],
 "metadata": {
  "kernelspec": {
   "display_name": "Python 3",
   "language": "python",
   "name": "python3"
  },
  "language_info": {
   "codemirror_mode": {
    "name": "ipython",
    "version": 3
   },
   "file_extension": ".py",
   "mimetype": "text/x-python",
   "name": "python",
   "nbconvert_exporter": "python",
   "pygments_lexer": "ipython3",
   "version": "3.7.10"
  }
 },
 "nbformat": 4,
 "nbformat_minor": 5
}
