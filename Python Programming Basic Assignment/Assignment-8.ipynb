{
 "cells": [
  {
   "cell_type": "markdown",
   "id": "composite-worker",
   "metadata": {},
   "source": [
    "# Assignment-8"
   ]
  },
  {
   "cell_type": "markdown",
   "id": "meaning-daily",
   "metadata": {},
   "source": [
    "## 1. Write a Python Program to Add Two Matrices?"
   ]
  },
  {
   "cell_type": "code",
   "execution_count": 5,
   "id": "wireless-bulgaria",
   "metadata": {},
   "outputs": [
    {
     "name": "stdout",
     "output_type": "stream",
     "text": [
      "[[3, 5], [3, 5]]\n"
     ]
    }
   ],
   "source": [
    "mat1=[[1,2],[2,3]]\n",
    "mat2=[[2,3],[1,2]]\n",
    "result=[[0,0],[0,0]]\n",
    "for i in range(len(mat1)):\n",
    "    for j in range(len(mat2)):\n",
    "        result[i][j]=mat1[i][j]+mat2[i][j]\n",
    "print(result)"
   ]
  },
  {
   "cell_type": "markdown",
   "id": "hidden-cooling",
   "metadata": {},
   "source": [
    "## 2. Write a Python Program to Multiply Two Matrices?"
   ]
  },
  {
   "cell_type": "code",
   "execution_count": 12,
   "id": "remarkable-variety",
   "metadata": {},
   "outputs": [
    {
     "name": "stdout",
     "output_type": "stream",
     "text": [
      "[[4, 7], [7, 12]]\n"
     ]
    }
   ],
   "source": [
    "mat1=[[1,2],[2,3]]\n",
    "mat2=[[2,3],[1,2]]\n",
    "result=[[0,0],[0,0]]\n",
    "for i in range(len(mat1)):\n",
    "    for j in range(len(mat2)):\n",
    "        for k in range(len(mat2)):\n",
    "            result[i][j]+=mat1[i][k]*mat2[k][j]\n",
    "print(result)"
   ]
  },
  {
   "cell_type": "markdown",
   "id": "invalid-relations",
   "metadata": {},
   "source": [
    "## 3. Write a Python Program to Transpose a Matrix?"
   ]
  },
  {
   "cell_type": "code",
   "execution_count": 13,
   "id": "adult-adjustment",
   "metadata": {},
   "outputs": [
    {
     "name": "stdout",
     "output_type": "stream",
     "text": [
      "[[1, 4], [2, 5]]\n"
     ]
    }
   ],
   "source": [
    "mat1=[[1,2],[4,5]]\n",
    "for i in range(0, len(mat1)):\n",
    "    for j in range(0, len(mat1)):\n",
    "        result[j][i]=mat1[i][j]\n",
    "print(result)"
   ]
  },
  {
   "cell_type": "markdown",
   "id": "funny-shark",
   "metadata": {},
   "source": [
    "## 4. Write a Python Program to Sort Words in Alphabetic Order?"
   ]
  },
  {
   "cell_type": "code",
   "execution_count": 15,
   "id": "realistic-guinea",
   "metadata": {},
   "outputs": [
    {
     "name": "stdout",
     "output_type": "stream",
     "text": [
      "['a', 'b', 'c', 'd']\n"
     ]
    }
   ],
   "source": [
    "arr=['a','c','b','d']\n",
    "arr.sort()\n",
    "print(arr)"
   ]
  },
  {
   "cell_type": "markdown",
   "id": "mechanical-saudi",
   "metadata": {},
   "source": [
    "## 5. Write a Python Program to Remove Punctuation From a String?"
   ]
  },
  {
   "cell_type": "code",
   "execution_count": 33,
   "id": "above-yukon",
   "metadata": {},
   "outputs": [
    {
     "name": "stdout",
     "output_type": "stream",
     "text": [
      "This is assignment 7\n"
     ]
    }
   ],
   "source": [
    "string=\"This is, assignment 7\"\n",
    "no_punc=\"\"\n",
    "stop_word=[\",\"]\n",
    "for i in string:\n",
    "    if i not in stop:\n",
    "        no_punc+=i\n",
    "print(no_punc)"
   ]
  }
 ],
 "metadata": {
  "kernelspec": {
   "display_name": "Python 3",
   "language": "python",
   "name": "python3"
  },
  "language_info": {
   "codemirror_mode": {
    "name": "ipython",
    "version": 3
   },
   "file_extension": ".py",
   "mimetype": "text/x-python",
   "name": "python",
   "nbconvert_exporter": "python",
   "pygments_lexer": "ipython3",
   "version": "3.7.10"
  }
 },
 "nbformat": 4,
 "nbformat_minor": 5
}
