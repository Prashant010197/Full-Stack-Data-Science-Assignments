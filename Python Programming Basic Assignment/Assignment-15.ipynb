{
 "cells": [
  {
   "cell_type": "markdown",
   "id": "digital-albuquerque",
   "metadata": {},
   "source": [
    "# Assignment-15"
   ]
  },
  {
   "cell_type": "markdown",
   "id": "unusual-identity",
   "metadata": {},
   "source": [
    "## Question 1:\n",
    "Please write a program using generator to print the numbers which can be divisible by 5 and 7 between 0 and n in comma separated form while n is input by console.\n",
    "\n",
    "Example:\n",
    "\n",
    "If the following n is given as input to the program:\n",
    "\n",
    "100\n",
    "\n",
    "Then, the output of the program should be:\n",
    "\n",
    "0,35,70"
   ]
  },
  {
   "cell_type": "code",
   "execution_count": 1,
   "id": "planned-engineer",
   "metadata": {},
   "outputs": [
    {
     "name": "stdout",
     "output_type": "stream",
     "text": [
      "enter the limit100\n",
      "0,35,70\n"
     ]
    }
   ],
   "source": [
    "def gen(n):\n",
    "    for i in range(0, n+1):\n",
    "        yield i\n",
    "\n",
    "n=int(input('enter the limit'))\n",
    "l=[]\n",
    "for j in gen(n):\n",
    "    if j%5==0 and j%7==0:\n",
    "        l.append(str(j))\n",
    "print(','.join(l))"
   ]
  },
  {
   "cell_type": "markdown",
   "id": "fuzzy-associate",
   "metadata": {},
   "source": [
    "## Question 2:\n",
    "\n",
    "Please write a program using generator to print the even numbers between 0 and n in comma separated form while n is input by console.\n",
    "\n",
    "Example:\n",
    "\n",
    "If the following n is given as input to the program:\n",
    "\n",
    "10\n",
    "\n",
    "Then, the output of the program should be:\n",
    "\n",
    "0,2,4,6,8,10"
   ]
  },
  {
   "cell_type": "code",
   "execution_count": 2,
   "id": "obvious-furniture",
   "metadata": {},
   "outputs": [
    {
     "name": "stdout",
     "output_type": "stream",
     "text": [
      "enter the limit10\n",
      "0,2,4,6,8,10\n"
     ]
    }
   ],
   "source": [
    "def gen(n):\n",
    "    for i in range(0, n+1):\n",
    "        yield i\n",
    "        \n",
    "n=int(input('enter the limit'))\n",
    "l=[]\n",
    "for j in gen(n):\n",
    "    if j%2==0:\n",
    "        l.append(str(j))\n",
    "print(','.join(l))"
   ]
  },
  {
   "cell_type": "markdown",
   "id": "lovely-thickness",
   "metadata": {},
   "source": [
    "## Question 3:\n",
    "\n",
    "The Fibonacci Sequence is computed based on the following formula:\n",
    "\n",
    "f(n)=0 if n=0\n",
    "\n",
    "f(n)=1 if n=1\n",
    "\n",
    "f(n)=f(n-1)+f(n-2) if n>1\n",
    "\n",
    "Please write a program using list comprehension to print the Fibonacci Sequence in comma separated form with a given n input by console.\n",
    "\n",
    "Example:\n",
    "\n",
    "If the following n is given as input to the program:\n",
    "\n",
    "7\n",
    "\n",
    "Then, the output of the program should be:\n",
    "\n",
    "0,1,1,2,3,5,8,13"
   ]
  },
  {
   "cell_type": "code",
   "execution_count": 3,
   "id": "unavailable-intervention",
   "metadata": {},
   "outputs": [
    {
     "name": "stdout",
     "output_type": "stream",
     "text": [
      "enter the limit7\n",
      "[0, 1, 1, 2, 3, 5, 8, 13]\n"
     ]
    }
   ],
   "source": [
    "num=int(input('enter the limit'))\n",
    "num1,num2=0,1\n",
    "c=0\n",
    "l=[]\n",
    "if num==1:\n",
    "    l.append(num1)\n",
    "else:\n",
    "    while c<num+1:\n",
    "        l.append(num1)\n",
    "        nth=num1+num2\n",
    "        num1=num2\n",
    "        num2=nth\n",
    "        c+=1\n",
    "print(l)"
   ]
  },
  {
   "cell_type": "code",
   "execution_count": 4,
   "id": "continued-opening",
   "metadata": {},
   "outputs": [
    {
     "name": "stdout",
     "output_type": "stream",
     "text": [
      "[0]\n"
     ]
    }
   ],
   "source": [
    "l=[]\n",
    "l.append(0,)\n",
    "print(l)"
   ]
  },
  {
   "cell_type": "markdown",
   "id": "external-prophet",
   "metadata": {},
   "source": [
    "## Question 4:\n",
    "\n",
    "Assuming that we have some email addresses in the \"username@companyname.com\" format, please write program to print the user name of a given email address. Both user names and company names are composed of letters only.\n",
    "\n",
    "Example:\n",
    "\n",
    "If the following email address is given as input to the program:\n",
    "\n",
    "john@google.com\n",
    "\n",
    "Then, the output of the program should be:\n",
    "\n",
    "john"
   ]
  },
  {
   "cell_type": "code",
   "execution_count": 5,
   "id": "beneficial-peeing",
   "metadata": {},
   "outputs": [
    {
     "name": "stdout",
     "output_type": "stream",
     "text": [
      "enter the emailjohn@google.com\n"
     ]
    },
    {
     "data": {
      "text/plain": [
       "'john'"
      ]
     },
     "execution_count": 5,
     "metadata": {},
     "output_type": "execute_result"
    }
   ],
   "source": [
    "email=input('enter the email')\n",
    "email.split(\"@\")[0]"
   ]
  },
  {
   "cell_type": "markdown",
   "id": "prescribed-business",
   "metadata": {},
   "source": [
    "## Question 5:\n",
    "\n",
    "Define a class named Shape and its subclass Square. The Square class has an init function which takes a length as argument. Both classes have a area function which can print the area of the shape where Shape's area is 0 by default."
   ]
  },
  {
   "cell_type": "code",
   "execution_count": 7,
   "id": "stunning-curtis",
   "metadata": {},
   "outputs": [
    {
     "name": "stdout",
     "output_type": "stream",
     "text": [
      "100\n",
      "0\n"
     ]
    }
   ],
   "source": [
    "class Shape():\n",
    "    def __init__(self):\n",
    "        pass\n",
    "    def area(self):\n",
    "        return 0\n",
    "class Square(Shape):\n",
    "    def __init__(self,l=0):\n",
    "        Shape.__init__(self)\n",
    "        self.l=l\n",
    "    def area(self):\n",
    "        return self.l**2\n",
    "\n",
    "query=Square(10)\n",
    "print(query.area())\n",
    "print(Square().area())"
   ]
  },
  {
   "cell_type": "code",
   "execution_count": null,
   "id": "helpful-generation",
   "metadata": {},
   "outputs": [],
   "source": []
  }
 ],
 "metadata": {
  "kernelspec": {
   "display_name": "Python 3",
   "language": "python",
   "name": "python3"
  },
  "language_info": {
   "codemirror_mode": {
    "name": "ipython",
    "version": 3
   },
   "file_extension": ".py",
   "mimetype": "text/x-python",
   "name": "python",
   "nbconvert_exporter": "python",
   "pygments_lexer": "ipython3",
   "version": "3.7.10"
  }
 },
 "nbformat": 4,
 "nbformat_minor": 5
}
