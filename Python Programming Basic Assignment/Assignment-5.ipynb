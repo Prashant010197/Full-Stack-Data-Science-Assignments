{
 "cells": [
  {
   "cell_type": "markdown",
   "id": "heavy-priest",
   "metadata": {},
   "source": [
    "# Assignment-5"
   ]
  },
  {
   "cell_type": "markdown",
   "id": "gorgeous-tucson",
   "metadata": {},
   "source": [
    "## 1. Write a Python Program to Find LCM?"
   ]
  },
  {
   "cell_type": "code",
   "execution_count": 1,
   "id": "violent-visibility",
   "metadata": {},
   "outputs": [
    {
     "name": "stdout",
     "output_type": "stream",
     "text": [
      "enter the first number12\n",
      "enter the second number10\n",
      "60\n"
     ]
    }
   ],
   "source": [
    "num1=int(input(\"enter the first number\"))\n",
    "num2=int(input(\"enter the second number\"))\n",
    "\n",
    "if num1>num2:\n",
    "    test=num1\n",
    "elif num2>num1:\n",
    "    test=num2\n",
    "\n",
    "while test>0:\n",
    "    if test%num1==0 and test%num2==0:\n",
    "        lcm=test\n",
    "        break\n",
    "    else:\n",
    "        test=test+1\n",
    "print(lcm)"
   ]
  },
  {
   "cell_type": "markdown",
   "id": "billion-clone",
   "metadata": {},
   "source": [
    "## 2. Write a Python Program to Find HCF?"
   ]
  },
  {
   "cell_type": "code",
   "execution_count": 4,
   "id": "injured-industry",
   "metadata": {},
   "outputs": [
    {
     "name": "stdout",
     "output_type": "stream",
     "text": [
      "enter the first number12\n",
      "enter the second number10\n",
      "2\n"
     ]
    }
   ],
   "source": [
    "num1=int(input(\"enter the first number\"))\n",
    "num2=int(input(\"enter the second number\"))\n",
    "\n",
    "if num1>num2:\n",
    "    test=num2\n",
    "elif num2>num1:\n",
    "    test=num1\n",
    "    \n",
    "for i in range(1,test+1):\n",
    "    if num1%i==0 and num2%i==0:\n",
    "        hcf=i\n",
    "print(hcf)"
   ]
  },
  {
   "cell_type": "markdown",
   "id": "gross-october",
   "metadata": {},
   "source": [
    "## 3. Write a Python Program to Convert Decimal to Binary, Octal and Hexadecimal?"
   ]
  },
  {
   "cell_type": "code",
   "execution_count": 9,
   "id": "unique-ceiling",
   "metadata": {},
   "outputs": [
    {
     "name": "stdout",
     "output_type": "stream",
     "text": [
      "enter the number23\n",
      "010111"
     ]
    }
   ],
   "source": [
    "num1=int(input(\"enter the number\"))\n",
    "\n",
    "def convert(num1):\n",
    "    if num1>=1:\n",
    "        convert(num1//2)\n",
    "    print(num1%2,end='')\n",
    "convert(num1)"
   ]
  },
  {
   "cell_type": "markdown",
   "id": "printable-spouse",
   "metadata": {},
   "source": [
    "## 4. Write a Python Program To Find ASCII value of a character?"
   ]
  },
  {
   "cell_type": "code",
   "execution_count": 11,
   "id": "moved-merchandise",
   "metadata": {},
   "outputs": [
    {
     "data": {
      "text/plain": [
       "65"
      ]
     },
     "execution_count": 11,
     "metadata": {},
     "output_type": "execute_result"
    }
   ],
   "source": [
    "ord('A')"
   ]
  },
  {
   "cell_type": "markdown",
   "id": "widespread-technique",
   "metadata": {},
   "source": [
    "## 5. Write a Python Program to Make a Simple Calculator with 4 basic mathematical operations?"
   ]
  },
  {
   "cell_type": "code",
   "execution_count": 18,
   "id": "separated-brave",
   "metadata": {},
   "outputs": [
    {
     "name": "stdout",
     "output_type": "stream",
     "text": [
      "enter your choice1\n",
      "enter the number1\n",
      "enter the number2\n",
      "3\n",
      "wish to continue?: Y/NN\n"
     ]
    }
   ],
   "source": [
    "\"Choose an operation by entering only the serial number\"\n",
    "\"1. Addition\"\n",
    "\"2. Multiplication\"\n",
    "\"3. Subtraction\"\n",
    "\"4. Division\"\n",
    "cont='Y'\n",
    "while cont=='Y':\n",
    "    choice=int(input('enter your choice'))\n",
    "    if choice==1:\n",
    "        num1=int(input(\"enter the number\"))\n",
    "        num2=int(input(\"enter the number\"))\n",
    "        print(num1+num2)\n",
    "        pass\n",
    "    elif choice==2:\n",
    "        num1=int(input(\"enter the number\"))\n",
    "        num2=int(input(\"enter the number\"))\n",
    "        print(num1*num2)\n",
    "        pass\n",
    "    elif choice==3:\n",
    "        num1=int(input(\"enter the number\"))\n",
    "        num2=int(input(\"enter the number\"))\n",
    "        print(num1-num2)\n",
    "        pass\n",
    "    elif choice==4:\n",
    "        num1=int(input(\"enter the number\"))\n",
    "        num2=int(input(\"enter the number\"))\n",
    "        print(num1/num2)\n",
    "        pass\n",
    "    cont=input('wish to continue?: Y/N')"
   ]
  }
 ],
 "metadata": {
  "kernelspec": {
   "display_name": "Python 3",
   "language": "python",
   "name": "python3"
  },
  "language_info": {
   "codemirror_mode": {
    "name": "ipython",
    "version": 3
   },
   "file_extension": ".py",
   "mimetype": "text/x-python",
   "name": "python",
   "nbconvert_exporter": "python",
   "pygments_lexer": "ipython3",
   "version": "3.7.10"
  }
 },
 "nbformat": 4,
 "nbformat_minor": 5
}
