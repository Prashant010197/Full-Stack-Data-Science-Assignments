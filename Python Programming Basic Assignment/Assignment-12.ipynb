{
 "cells": [
  {
   "cell_type": "markdown",
   "id": "hindu-dynamics",
   "metadata": {},
   "source": [
    "# Assignment-12"
   ]
  },
  {
   "cell_type": "markdown",
   "id": "right-logistics",
   "metadata": {},
   "source": [
    "## 1. Write a Python program to Extract Unique values dictionary values?"
   ]
  },
  {
   "cell_type": "code",
   "execution_count": 1,
   "id": "dangerous-advice",
   "metadata": {},
   "outputs": [
    {
     "data": {
      "text/plain": [
       "{'ananas', 'apple', 'orange'}"
      ]
     },
     "execution_count": 1,
     "metadata": {},
     "output_type": "execute_result"
    }
   ],
   "source": [
    "d={1:'apple',2:'apple',3:'ananas',4:'orange'}\n",
    "set([i for i in d.values()])"
   ]
  },
  {
   "cell_type": "markdown",
   "id": "severe-punishment",
   "metadata": {},
   "source": [
    "## 2. Write a Python program to find the sum of all items in a dictionary?"
   ]
  },
  {
   "cell_type": "code",
   "execution_count": 10,
   "id": "pretty-destiny",
   "metadata": {},
   "outputs": [
    {
     "data": {
      "text/plain": [
       "'appleappleananasorange'"
      ]
     },
     "execution_count": 10,
     "metadata": {},
     "output_type": "execute_result"
    }
   ],
   "source": [
    "d={1:'apple',2:'apple',3:'ananas',4:'orange'}\n",
    "sum_=''\n",
    "for i in d.values():\n",
    "    sum_=sum_+i\n",
    "sum_"
   ]
  },
  {
   "cell_type": "markdown",
   "id": "dated-stanford",
   "metadata": {},
   "source": [
    "## 3. Write a Python program to Merging two Dictionaries?"
   ]
  },
  {
   "cell_type": "code",
   "execution_count": 16,
   "id": "plastic-divorce",
   "metadata": {},
   "outputs": [
    {
     "name": "stdout",
     "output_type": "stream",
     "text": [
      "{1: 'apple', 2: 'apple', 3: 'ananas', 4: 'orange', 5: 'mango'}\n"
     ]
    }
   ],
   "source": [
    "d1={1:'apple',2:'apple',3:'ananas',4:'orange'}\n",
    "d2={5:'mango'}\n",
    "d1.update(d2)\n",
    "print(d1)"
   ]
  },
  {
   "cell_type": "markdown",
   "id": "seventh-philippines",
   "metadata": {},
   "source": [
    "## 4. Write a Python program to convert key-values list to flat dictionary?"
   ]
  },
  {
   "cell_type": "code",
   "execution_count": 19,
   "id": "magnetic-windows",
   "metadata": {},
   "outputs": [
    {
     "name": "stdout",
     "output_type": "stream",
     "text": [
      "{'Mohan': '42', 'Sohan': '92', 'Koyal': '78'}\n"
     ]
    }
   ],
   "source": [
    "d1=['Mohan','Sohan','Koyal']#Key\n",
    "d2=['42','92','78']#Value\n",
    "z=dict(zip(d1,d2))\n",
    "print(z)"
   ]
  },
  {
   "cell_type": "markdown",
   "id": "raising-lotus",
   "metadata": {},
   "source": [
    "## 5. Write a Python program to insertion at the beginning in OrderedDict?"
   ]
  },
  {
   "cell_type": "code",
   "execution_count": 24,
   "id": "suited-sweden",
   "metadata": {},
   "outputs": [
    {
     "data": {
      "text/plain": [
       "OrderedDict([('mango', 4), ('apple', 1), ('ananas', 2), ('orange', 3)])"
      ]
     },
     "execution_count": 24,
     "metadata": {},
     "output_type": "execute_result"
    }
   ],
   "source": [
    "from collections import OrderedDict\n",
    "d1=OrderedDict([('apple',1),('ananas',2),('orange',3)])\n",
    "\n",
    "d1.update({'mango':4})\n",
    "d1.move_to_end('mango',last=False)\n",
    "d1"
   ]
  },
  {
   "cell_type": "markdown",
   "id": "southeast-hierarchy",
   "metadata": {},
   "source": [
    "## 6. Write a Python program to check order of character in string using OrderedDict()?"
   ]
  },
  {
   "cell_type": "markdown",
   "id": "outstanding-beauty",
   "metadata": {},
   "source": [
    "## 7. Write a Python program to sort Python Dictionaries by Key or Value?"
   ]
  },
  {
   "cell_type": "code",
   "execution_count": 50,
   "id": "blond-assignment",
   "metadata": {},
   "outputs": [
    {
     "name": "stdout",
     "output_type": "stream",
     "text": [
      "Mohan:42\n",
      "Koyal:78\n",
      "Sohan:92\n"
     ]
    }
   ],
   "source": [
    "d1={'Mohan': '42', 'Sohan': '92', 'Koyal': '78'}\n",
    "key_list = list(d1.keys())\n",
    "val_list = list(d1.values())\n",
    "for i in sorted(d1.values()):\n",
    "    position = val_list.index(i)\n",
    "    print(key_list[position]+\":\"+i)"
   ]
  },
  {
   "cell_type": "code",
   "execution_count": 41,
   "id": "bright-difficulty",
   "metadata": {},
   "outputs": [
    {
     "data": {
      "text/plain": [
       "[('Koyal', '78'), ('Mohan', '42'), ('Sohan', '92')]"
      ]
     },
     "execution_count": 41,
     "metadata": {},
     "output_type": "execute_result"
    }
   ],
   "source": [
    "d1={'Mohan': '42', 'Sohan': '92', 'Koyal': '78'}\n",
    "sorted(d1.items())"
   ]
  }
 ],
 "metadata": {
  "kernelspec": {
   "display_name": "Python 3",
   "language": "python",
   "name": "python3"
  },
  "language_info": {
   "codemirror_mode": {
    "name": "ipython",
    "version": 3
   },
   "file_extension": ".py",
   "mimetype": "text/x-python",
   "name": "python",
   "nbconvert_exporter": "python",
   "pygments_lexer": "ipython3",
   "version": "3.7.10"
  }
 },
 "nbformat": 4,
 "nbformat_minor": 5
}
