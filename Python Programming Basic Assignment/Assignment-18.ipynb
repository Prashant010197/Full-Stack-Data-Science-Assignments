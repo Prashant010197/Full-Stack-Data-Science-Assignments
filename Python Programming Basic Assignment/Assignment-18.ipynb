{
 "cells": [
  {
   "cell_type": "markdown",
   "id": "dynamic-hormone",
   "metadata": {},
   "source": [
    "# Assignment-18"
   ]
  },
  {
   "cell_type": "markdown",
   "id": "incorporate-volunteer",
   "metadata": {},
   "source": [
    "## Question 1\n",
    "\n",
    "Create a function that takes a list of non-negative integers and strings and return a new list without the strings.\n",
    "Examples\n",
    "\n",
    "filter_list([1, 2, \"a\", \"b\"]) ➞ [1, 2]\n",
    "\n",
    "filter_list([1, \"a\", \"b\", 0, 15]) ➞ [1, 0, 15]\n",
    "\n",
    "filter_list([1, 2, \"aasf\", \"1\", \"123\", 123]) ➞ [1, 2, 123]"
   ]
  },
  {
   "cell_type": "code",
   "execution_count": 7,
   "id": "greek-ordering",
   "metadata": {},
   "outputs": [
    {
     "name": "stdout",
     "output_type": "stream",
     "text": [
      "[1, 2, 123]\n"
     ]
    }
   ],
   "source": [
    "def filter_list(l):\n",
    "    ls=[]\n",
    "    for i in l:\n",
    "        if type(i)==int:\n",
    "            ls.append(i)\n",
    "    print(ls)\n",
    "\n",
    "l=[1, 2, \"aasf\", \"1\", \"123\", 123]\n",
    "filter_list(l)"
   ]
  },
  {
   "cell_type": "markdown",
   "id": "described-opening",
   "metadata": {},
   "source": [
    "## Question 2\n",
    "\n",
    "The \"Reverser\" takes a string as input and returns that string in reverse order, with the opposite case.\n",
    "Examples\n",
    "\n",
    "reverse(\"Hello World\") ➞ \"DLROw OLLEh\"\n",
    "\n",
    "reverse(\"ReVeRsE\") ➞ \"eSrEvEr\"\n",
    "\n",
    "reverse(\"Radar\") ➞ \"RADAr\""
   ]
  },
  {
   "cell_type": "code",
   "execution_count": 27,
   "id": "cellular-westminster",
   "metadata": {},
   "outputs": [
    {
     "name": "stdout",
     "output_type": "stream",
     "text": [
      "eSrEvEr\n"
     ]
    }
   ],
   "source": [
    "def reverse(string):\n",
    "    l=string[::-1]\n",
    "    l=list(l)\n",
    "    ls=[]\n",
    "    for i in range(len(l)):\n",
    "        if l[i].isupper()==True:\n",
    "            ls.append(l[i].lower())\n",
    "        elif l[i].islower()==True:\n",
    "            ls.append(l[i].upper())\n",
    "    ls=''.join(ls)\n",
    "    print(ls)\n",
    "string=\"ReVeRsE\"\n",
    "reverse(string)"
   ]
  },
  {
   "cell_type": "markdown",
   "id": "fundamental-plymouth",
   "metadata": {},
   "source": [
    "## Question 3\n",
    "\n",
    "You can assign variables from lists like this:\n",
    "\n",
    "lst = [1, 2, 3, 4, 5, 6]\n",
    "\n",
    "first = lst[0]\n",
    "\n",
    "middle = lst[1:-1]\n",
    "\n",
    "last = lst[-1]\n",
    "\n",
    "print(first) ➞ outputs 1\n",
    "\n",
    "print(middle) ➞ outputs [2, 3, 4, 5]\n",
    "\n",
    "print(last) ➞ outputs 6\n",
    "\n",
    "Your task is to unpack the list writeyourcodehere into three variables, being first, middle, and last, with middle being everything in between the first and last element. Then print all three variables."
   ]
  },
  {
   "cell_type": "code",
   "execution_count": 35,
   "id": "cooked-absence",
   "metadata": {},
   "outputs": [
    {
     "name": "stdout",
     "output_type": "stream",
     "text": [
      "10 [20, 30, 40, 50, 60] 70\n"
     ]
    }
   ],
   "source": [
    "lst=[10,20,30,40,50,60,70]\n",
    "first,middle,last=lst[0],lst[1:-1],lst[-1]\n",
    "print(first,middle,last)"
   ]
  },
  {
   "cell_type": "markdown",
   "id": "moderate-restriction",
   "metadata": {},
   "source": [
    "## Question 4\n",
    "\n",
    "Write a function that calculates the factorial of a number recursively.\n",
    "\n",
    "Examples\n",
    "\n",
    "factorial(5) ➞ 120\n",
    "\n",
    "factorial(3) ➞ 6\n",
    "\n",
    "factorial(1) ➞ 1\n",
    "\n",
    "factorial(0) ➞ 1"
   ]
  },
  {
   "cell_type": "code",
   "execution_count": 28,
   "id": "subjective-uncertainty",
   "metadata": {},
   "outputs": [
    {
     "data": {
      "text/plain": [
       "120"
      ]
     },
     "execution_count": 28,
     "metadata": {},
     "output_type": "execute_result"
    }
   ],
   "source": [
    "def factorial(n):\n",
    "    if n==1:\n",
    "        return n\n",
    "    else:\n",
    "        return n*factorial(n-1)\n",
    "n=5\n",
    "factorial(n)"
   ]
  },
  {
   "cell_type": "markdown",
   "id": "welcome-venice",
   "metadata": {},
   "source": [
    "## Question 5\n",
    "\n",
    "Write a function that moves all elements of one type to the end of the list.\n",
    "\n",
    "Examples\n",
    "\n",
    "move_to_end([1, 3, 2, 4, 4, 1], 1) ➞ [3, 2, 4, 4, 1, 1]\n",
    "\n",
    "Move all the 1s to the end of the array.\n",
    "\n",
    "move_to_end([7, 8, 9, 1, 2, 3, 4], 9) ➞ [7, 8, 1, 2, 3, 4, 9]\n",
    "\n",
    "move_to_end([\"a\", \"a\", \"a\", \"b\"], \"a\") ➞ [\"b\", \"a\", \"a\", \"a\"]"
   ]
  },
  {
   "cell_type": "code",
   "execution_count": 36,
   "id": "guilty-review",
   "metadata": {},
   "outputs": [
    {
     "name": "stdout",
     "output_type": "stream",
     "text": [
      "[7, 8, 1, 2, 3, 4, 9]\n"
     ]
    }
   ],
   "source": [
    "def move_to_end(l,elem):\n",
    "    l.append(l.pop(l.index(elem)))\n",
    "    print(l)\n",
    "l,elem=[7, 8, 9, 1, 2, 3, 4], 9\n",
    "move_to_end(l,elem)"
   ]
  }
 ],
 "metadata": {
  "kernelspec": {
   "display_name": "Python 3",
   "language": "python",
   "name": "python3"
  },
  "language_info": {
   "codemirror_mode": {
    "name": "ipython",
    "version": 3
   },
   "file_extension": ".py",
   "mimetype": "text/x-python",
   "name": "python",
   "nbconvert_exporter": "python",
   "pygments_lexer": "ipython3",
   "version": "3.7.10"
  }
 },
 "nbformat": 4,
 "nbformat_minor": 5
}
