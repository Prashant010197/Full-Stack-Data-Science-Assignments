{
 "cells": [
  {
   "cell_type": "markdown",
   "id": "toxic-omega",
   "metadata": {},
   "source": [
    "# Assignment-14"
   ]
  },
  {
   "cell_type": "markdown",
   "id": "innocent-pulse",
   "metadata": {},
   "source": [
    "## Question 1:\n",
    "\n",
    "Define a class with a generator which can iterate the numbers, which are divisible by 7, between a given range 0 and n."
   ]
  },
  {
   "cell_type": "code",
   "execution_count": 2,
   "id": "functional-architecture",
   "metadata": {},
   "outputs": [
    {
     "name": "stdout",
     "output_type": "stream",
     "text": [
      "enter limit70\n",
      "7\n",
      "14\n",
      "21\n",
      "28\n",
      "35\n",
      "42\n",
      "49\n",
      "56\n",
      "63\n",
      "70\n"
     ]
    }
   ],
   "source": [
    "def gen(n):\n",
    "    for j in range(1, n+1):\n",
    "        if j%7==0:\n",
    "            yield j\n",
    "\n",
    "n=int(input('enter limit'))\n",
    "for i in gen(n):\n",
    "    print(i)"
   ]
  },
  {
   "cell_type": "markdown",
   "id": "rising-robin",
   "metadata": {},
   "source": [
    "## Question 2: Write a program to compute the frequency of the words from the input. The output should output after sorting the key alphanumerically. \n",
    "\n",
    "Suppose the following input is supplied to the program:\n",
    "\n",
    "New to Python or choosing between Python 2 and Python 3? Read Python 2 or Python 3.\n",
    "\n",
    "Then, the output should be:\n",
    "\n",
    "2:2\n",
    "\n",
    "3.:1\n",
    "\n",
    "3?:1\n",
    "\n",
    "New:1\n",
    "\n",
    "Python:5\n",
    "\n",
    "Read:1\n",
    "\n",
    "and:1\n",
    "\n",
    "between:1\n",
    "\n",
    "choosing:1\n",
    "\n",
    "or:2\n",
    "\n",
    "to:1"
   ]
  },
  {
   "cell_type": "code",
   "execution_count": 11,
   "id": "casual-serbia",
   "metadata": {},
   "outputs": [
    {
     "name": "stdout",
     "output_type": "stream",
     "text": [
      "enter the string to be checked-->New to Python or choosing between Python 2 and Python 3? Read Python 2 or Python 3\n",
      "2:2\n",
      "3:1\n",
      "3?:1\n",
      "New:1\n",
      "Python:5\n",
      "Read:1\n",
      "and:1\n",
      "between:1\n",
      "choosing:1\n",
      "or:2\n",
      "to:1\n"
     ]
    }
   ],
   "source": [
    "def check(string):\n",
    "    s=string.split(' ')\n",
    "    d={}\n",
    "    for i in s:\n",
    "        if i not in d:\n",
    "            d[i]=1\n",
    "        else:\n",
    "            val=d.get(i)\n",
    "            d[i]=val+1\n",
    "    for key in sorted(d):\n",
    "        print(\"{}:{}\".format(key, d[key]))\n",
    "string=input('enter the string to be checked-->')\n",
    "check(string)"
   ]
  },
  {
   "cell_type": "markdown",
   "id": "headed-laugh",
   "metadata": {},
   "source": [
    "## Question 3:\n",
    "\n",
    "Define a class Person and its two child classes: Male and Female. All classes have a method \"getGender\" which can print \"Male\" for Male class and \"Female\" for Female class."
   ]
  },
  {
   "cell_type": "code",
   "execution_count": 14,
   "id": "institutional-budget",
   "metadata": {
    "scrolled": true
   },
   "outputs": [
    {
     "name": "stdout",
     "output_type": "stream",
     "text": [
      "Male\n",
      "None\n",
      "Female\n",
      "None\n"
     ]
    }
   ],
   "source": [
    "class person(object):\n",
    "    def get_gender(self):\n",
    "        pass\n",
    "class male(person):\n",
    "    def get_gender(self):\n",
    "        print('Male')\n",
    "class female(person):\n",
    "    def get_gender(self):\n",
    "        print('Female')\n",
    "m=male()\n",
    "f=female()\n",
    "print(m.get_gender())\n",
    "print(f.get_gender())"
   ]
  },
  {
   "cell_type": "markdown",
   "id": "indie-metabolism",
   "metadata": {},
   "source": [
    "## Question 4:\n",
    "\n",
    "Please write a program to generate all sentences where subject is in [\"I\", \"You\"] and verb is in [\"Play\", \"Love\"] and the object is in [\"Hockey\",\"Football\"]."
   ]
  },
  {
   "cell_type": "code",
   "execution_count": 17,
   "id": "developmental-maker",
   "metadata": {},
   "outputs": [
    {
     "name": "stdout",
     "output_type": "stream",
     "text": [
      "I Play Hockey\n",
      "I Play Football\n",
      "I Love Hockey\n",
      "I Love Football\n",
      "You Play Hockey\n",
      "You Play Football\n",
      "You Love Hockey\n",
      "You Love Football\n"
     ]
    }
   ],
   "source": [
    "objects=[\"Hockey\",\"Football\"]\n",
    "subject=[\"I\", \"You\"]\n",
    "verb=[\"Play\", \"Love\"]\n",
    "for i in subject:\n",
    "    for j in verb:\n",
    "        for k in objects:\n",
    "            print(\"{} {} {}\".format(i,j,k))"
   ]
  },
  {
   "cell_type": "markdown",
   "id": "handed-burke",
   "metadata": {},
   "source": [
    "## Question 5:\n",
    "\n",
    "Please write a program to compress and decompress the string \"hello world!hello world!hello world!hello world!\"."
   ]
  },
  {
   "cell_type": "code",
   "execution_count": 25,
   "id": "expressed-granny",
   "metadata": {},
   "outputs": [
    {
     "name": "stdout",
     "output_type": "stream",
     "text": [
      "b'x\\x9c\\xcbH\\xcd\\xc9\\xc9W(\\xcf/\\xcaIQ\\xcc \\x82\\r\\x00\\xbd[\\x11\\xf5'\n",
      "b'hello world!hello world!hello world!hello world!'\n"
     ]
    }
   ],
   "source": [
    "import zlib\n",
    "\n",
    "string='hello world!hello world!hello world!hello world!'\n",
    "string=bytes(string, 'utf-8')\n",
    "c=zlib.compress(string)\n",
    "d=zlib.decompress(c)\n",
    "print(c)\n",
    "print(d)"
   ]
  },
  {
   "cell_type": "markdown",
   "id": "incredible-party",
   "metadata": {},
   "source": [
    "## Question 6:\n",
    "\n",
    "Please write a binary search function which searches an item in a sorted list. The function should return the index of element to be searched in the list."
   ]
  },
  {
   "cell_type": "code",
   "execution_count": 49,
   "id": "dense-looking",
   "metadata": {},
   "outputs": [
    {
     "name": "stdout",
     "output_type": "stream",
     "text": [
      "element found at index 10\n"
     ]
    }
   ],
   "source": [
    "def search(array, query):\n",
    "    mid=(len(array)//2)-1\n",
    "    while True:\n",
    "        if array[mid]==query:\n",
    "            print('element found at index {}'.format(mid))\n",
    "            break\n",
    "        elif array[mid]>query:\n",
    "            mid=mid-1\n",
    "            continue\n",
    "        elif array[mid]<query:\n",
    "            mid=mid+1\n",
    "            continue\n",
    "array=[1,2,3,4,5,6,7,8,9,11,12]\n",
    "query=12\n",
    "search(array, query)"
   ]
  },
  {
   "cell_type": "code",
   "execution_count": null,
   "id": "cognitive-success",
   "metadata": {},
   "outputs": [],
   "source": []
  }
 ],
 "metadata": {
  "kernelspec": {
   "display_name": "Python 3",
   "language": "python",
   "name": "python3"
  },
  "language_info": {
   "codemirror_mode": {
    "name": "ipython",
    "version": 3
   },
   "file_extension": ".py",
   "mimetype": "text/x-python",
   "name": "python",
   "nbconvert_exporter": "python",
   "pygments_lexer": "ipython3",
   "version": "3.7.10"
  }
 },
 "nbformat": 4,
 "nbformat_minor": 5
}
