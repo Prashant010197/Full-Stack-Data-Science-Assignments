{
 "cells": [
  {
   "cell_type": "markdown",
   "id": "metropolitan-african",
   "metadata": {},
   "source": [
    "# Assignment-2"
   ]
  },
  {
   "cell_type": "markdown",
   "id": "wicked-apparel",
   "metadata": {},
   "source": [
    "## 1. Write a Python program to convert kilometers to miles?"
   ]
  },
  {
   "cell_type": "code",
   "execution_count": 2,
   "id": "appropriate-tunnel",
   "metadata": {},
   "outputs": [
    {
     "name": "stdout",
     "output_type": "stream",
     "text": [
      "Enter the kilometres2\n",
      "1.2430080795525171\n"
     ]
    }
   ],
   "source": [
    "num1=int(input('Enter the kilometres'))\n",
    "result=num1/1.609\n",
    "print(result)"
   ]
  },
  {
   "cell_type": "markdown",
   "id": "statutory-dating",
   "metadata": {},
   "source": [
    "## 2. Write a Python program to convert Celsius to Fahrenheit?"
   ]
  },
  {
   "cell_type": "code",
   "execution_count": 9,
   "id": "legitimate-lyric",
   "metadata": {},
   "outputs": [
    {
     "name": "stdout",
     "output_type": "stream",
     "text": [
      "Enter the celsius2\n",
      "35.6\n"
     ]
    }
   ],
   "source": [
    "num1=int(input('Enter the celsius'))\n",
    "result=(num1*(9/5)+32)\n",
    "print(result)"
   ]
  },
  {
   "cell_type": "markdown",
   "id": "medium-montana",
   "metadata": {},
   "source": [
    "## 3. Write a Python program to display calendar?"
   ]
  },
  {
   "cell_type": "code",
   "execution_count": 8,
   "id": "continuing-arcade",
   "metadata": {},
   "outputs": [
    {
     "name": "stdout",
     "output_type": "stream",
     "text": [
      "    January 1997\n",
      "Mo Tu We Th Fr Sa Su\n",
      "       1  2  3  4  5\n",
      " 6  7  8  9 10 11 12\n",
      "13 14 15 16 17 18 19\n",
      "20 21 22 23 24 25 26\n",
      "27 28 29 30 31\n",
      "\n"
     ]
    }
   ],
   "source": [
    "import calendar\n",
    "y,m = 1997,1\n",
    "print(calendar.month(y, m))"
   ]
  },
  {
   "cell_type": "markdown",
   "id": "conditional-robinson",
   "metadata": {},
   "source": [
    "## 4. Write a Python program to solve quadratic equation?"
   ]
  },
  {
   "cell_type": "code",
   "execution_count": 10,
   "id": "strange-cinema",
   "metadata": {},
   "outputs": [
    {
     "name": "stdout",
     "output_type": "stream",
     "text": [
      "enter a1\n",
      "enter b4\n",
      "enter c4\n",
      "-2.0 -2.0\n"
     ]
    }
   ],
   "source": [
    "\"Enter the coefficients and constant in the form of ax^2+bx+c=0\"\n",
    "a=int(input(\"enter a\"))\n",
    "b=int(input(\"enter b\"))\n",
    "c=int(input(\"enter c\"))\n",
    "result1=(-b+(b**2-4*a*c)**0.5)/(2*a)\n",
    "result2=(-b-(b**2-4*a*c)**0.5)/(2*a)\n",
    "print(result1, result2)"
   ]
  },
  {
   "cell_type": "markdown",
   "id": "annual-superior",
   "metadata": {},
   "source": [
    "## 5. Write a Python program to swap two variables without temp variable?"
   ]
  },
  {
   "cell_type": "code",
   "execution_count": 12,
   "id": "breeding-ensemble",
   "metadata": {},
   "outputs": [
    {
     "name": "stdout",
     "output_type": "stream",
     "text": [
      "enter first number2\n",
      "enter second number4\n",
      "-4 2\n"
     ]
    }
   ],
   "source": [
    "num1=int(input(\"enter first number\"))\n",
    "num2=int(input(\"enter second number\"))\n",
    "num1=num1+num2\n",
    "num2=num1-num2\n",
    "num1=num2-num1\n",
    "print(num1,num2)"
   ]
  }
 ],
 "metadata": {
  "kernelspec": {
   "display_name": "Python 3",
   "language": "python",
   "name": "python3"
  },
  "language_info": {
   "codemirror_mode": {
    "name": "ipython",
    "version": 3
   },
   "file_extension": ".py",
   "mimetype": "text/x-python",
   "name": "python",
   "nbconvert_exporter": "python",
   "pygments_lexer": "ipython3",
   "version": "3.7.10"
  }
 },
 "nbformat": 4,
 "nbformat_minor": 5
}
