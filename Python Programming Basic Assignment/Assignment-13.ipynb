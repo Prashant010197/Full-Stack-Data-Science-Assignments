{
 "cells": [
  {
   "cell_type": "markdown",
   "id": "welcome-background",
   "metadata": {},
   "source": [
    "# Assignment-13"
   ]
  },
  {
   "cell_type": "markdown",
   "id": "prompt-mistress",
   "metadata": {},
   "source": [
    "## Question 1:\n",
    "Write a program that calculates and prints the value according to the given formula:\n",
    "Q = Square root of [(2 * C * D)/H]\n",
    "\n",
    "Following are the fixed values of C and H:\n",
    "C is 50. H is 30.\n",
    "D is the variable whose values should be input to your program in a comma-separated sequence.\n",
    "\n",
    "Example\n",
    "Let us assume the following comma separated input sequence is given to the program:\n",
    "100,150,180\n",
    "\n",
    "The output of the program should be:\n",
    "18,22,24"
   ]
  },
  {
   "cell_type": "code",
   "execution_count": 26,
   "id": "iraqi-patrol",
   "metadata": {},
   "outputs": [
    {
     "name": "stdout",
     "output_type": "stream",
     "text": [
      "enter the numbers seperated by comma100,150,180\n",
      "18,22,24\n"
     ]
    }
   ],
   "source": [
    "def cal(s):\n",
    "    l=[]\n",
    "    d=s.split(',')\n",
    "    for i in d:\n",
    "        num1=int(i)\n",
    "        q=round(((2*50*num1)/30)**0.5)\n",
    "        l.append(str(q))\n",
    "    joined=\",\".join(l)\n",
    "    print(joined)\n",
    "s=input('enter the numbers seperated by comma')\n",
    "cal(s)"
   ]
  },
  {
   "cell_type": "markdown",
   "id": "generous-ghost",
   "metadata": {},
   "source": [
    "## Question 2:\n",
    "Write a program which takes 2 digits, X,Y as input and generates a 2-dimensional array. The element value in the i-th row and j-th column of the array should be i*j.\n",
    "\n",
    "Note: i=0,1.., X-1; j=0,1,¡Y-1.\n",
    "\n",
    "Example:\n",
    "Suppose the following inputs are given to the program:\n",
    "3,5\n",
    "Then, the output of the program should be:\n",
    "\n",
    "[[0, 0, 0, 0, 0], [0, 1, 2, 3, 4], [0, 2, 4, 6, 8]] \n"
   ]
  },
  {
   "cell_type": "code",
   "execution_count": 19,
   "id": "adolescent-mounting",
   "metadata": {},
   "outputs": [
    {
     "name": "stdout",
     "output_type": "stream",
     "text": [
      "[[0, 0, 0, 0], [0, 1, 2, 3]]\n"
     ]
    }
   ],
   "source": [
    "x=2\n",
    "y=4\n",
    "l=[]\n",
    "for i in range(0,x):\n",
    "    ln=[]\n",
    "    for j in range(0,y):\n",
    "        num=i*j\n",
    "        ln.append(num)\n",
    "    l.append(ln)\n",
    "print(l)"
   ]
  },
  {
   "cell_type": "markdown",
   "id": "moderate-complement",
   "metadata": {},
   "source": [
    "## Question 3: \n",
    "Write a program that accepts a comma separated sequence of words as input and prints the words in a comma-separated sequence after sorting them alphabetically.\n",
    "\n",
    "Suppose the following input is supplied to the program:\n",
    "\n",
    "without,hello,bag,world\n",
    "\n",
    "Then, the output should be:\n",
    "\n",
    "bag,hello,without,world"
   ]
  },
  {
   "cell_type": "code",
   "execution_count": 38,
   "id": "confirmed-singer",
   "metadata": {},
   "outputs": [
    {
     "name": "stdout",
     "output_type": "stream",
     "text": [
      "enter the stringjatin,lalit,salim,javed\n",
      "jatin,javed,lalit,salim\n"
     ]
    }
   ],
   "source": [
    "def sorting(s):\n",
    "    d=s.split(',')\n",
    "    d.sort()\n",
    "    joined=','.join(d)\n",
    "    print(joined)\n",
    "s=input('enter the string')\n",
    "sorting(s)"
   ]
  },
  {
   "cell_type": "markdown",
   "id": "sexual-baltimore",
   "metadata": {},
   "source": [
    "## Question 4:\n",
    "Write a program that accepts a sequence of whitespace separated words as input and prints the words after removing all duplicate words and sorting them alphanumerically.\n",
    "\n",
    "Suppose the following input is supplied to the program:\n",
    "\n",
    "hello world and practice makes perfect and hello world again\n",
    "\n",
    "Then, the output should be:\n",
    "\n",
    "again and hello makes perfect practice world"
   ]
  },
  {
   "cell_type": "code",
   "execution_count": 46,
   "id": "antique-landscape",
   "metadata": {},
   "outputs": [
    {
     "name": "stdout",
     "output_type": "stream",
     "text": [
      "enter the stringhello world 2 and practice makes perfect 1 and hello world 3 again\n",
      "1 2 3 again and hello makes perfect practice world\n"
     ]
    }
   ],
   "source": [
    "def sorting(s):\n",
    "    dup=[]\n",
    "    d=s.split(' ')\n",
    "    d.sort()\n",
    "    for i in d:\n",
    "        if i not in dup:\n",
    "            dup.append(i)\n",
    "    joined=' '.join(dup)\n",
    "    print(joined)\n",
    "s=input('enter the string')\n",
    "sorting(s)"
   ]
  },
  {
   "cell_type": "markdown",
   "id": "manufactured-sampling",
   "metadata": {},
   "source": [
    "## Question 5:\n",
    "\n",
    "Write a program that accepts a sentence and calculate the number of letters and digits.\n",
    "\n",
    "Suppose the following input is supplied to the program:\n",
    "\n",
    "hello world! 123\n",
    "\n",
    "Then, the output should be:\n",
    "\n",
    "LETTERS 10\n",
    "\n",
    "DIGITS 3"
   ]
  },
  {
   "cell_type": "code",
   "execution_count": 51,
   "id": "wanted-tolerance",
   "metadata": {},
   "outputs": [
    {
     "name": "stdout",
     "output_type": "stream",
     "text": [
      "enter the stringHi i am computer, 1234\n",
      "LETTERS 13 \n",
      "DIGITS 4\n"
     ]
    }
   ],
   "source": [
    "string=input('enter the string')\n",
    "d=l=0\n",
    "for i in string:\n",
    "    if i.isalpha():\n",
    "        l+=1\n",
    "    elif i.isnumeric():\n",
    "        d+=1\n",
    "print('LETTERS {} \\nDIGITS {}'.format(l,d))"
   ]
  },
  {
   "cell_type": "markdown",
   "id": "severe-sharing",
   "metadata": {},
   "source": [
    "## Question 6:\n",
    "A website requires the users to input username and password to register. Write a program to check the validity of password input by users.\n",
    "\n",
    "Following are the criteria for checking the password:\n",
    "\n",
    "1. At least 1 letter between [a-z]\n",
    "\n",
    "2. At least 1 number between [0-9]\n",
    "\n",
    "3. At least 1 letter between [A-Z]\n",
    "\n",
    "4. At least 1 character from [$#@]\n",
    "\n",
    "5. Minimum length of transaction password: 6\n",
    "\n",
    "6. Maximum length of transaction password: 12\n",
    "\n",
    "Your program should accept a sequence of comma separated passwords and will check them according to the above criteria. Passwords that match the criteria are to be printed, each separated by a comma.\n",
    "\n",
    "Example\n",
    "\n",
    "If the following passwords are given as input to the program:\n",
    "\n",
    "ABd1234@1,a F1#,2w3E*,2We3345\n",
    "\n",
    "Then, the output of the program should be:\n",
    "\n",
    "ABd1234@1"
   ]
  },
  {
   "cell_type": "code",
   "execution_count": 56,
   "id": "residential-species",
   "metadata": {},
   "outputs": [
    {
     "name": "stdout",
     "output_type": "stream",
     "text": [
      "enter the passwords--->ABd1234@1,a F1#,2w3E*,2We3345\n",
      "ABd1234@1\n"
     ]
    }
   ],
   "source": [
    "import re\n",
    "def alphabetical(passwords):\n",
    "    l=passwords.split(',')\n",
    "    for i in l:\n",
    "        if re.search(r'[a-z]', i) and re.search(r'[0-9]', i) and re.search(r'[A-Z]', i) and re.search('[*@!#%&()^~{}]', i) and len(i)>=6 and len(i)<=12:\n",
    "            print(i)\n",
    "passwords=input('enter the passwords--->')\n",
    "alphabetical(passwords)"
   ]
  }
 ],
 "metadata": {
  "kernelspec": {
   "display_name": "Python 3",
   "language": "python",
   "name": "python3"
  },
  "language_info": {
   "codemirror_mode": {
    "name": "ipython",
    "version": 3
   },
   "file_extension": ".py",
   "mimetype": "text/x-python",
   "name": "python",
   "nbconvert_exporter": "python",
   "pygments_lexer": "ipython3",
   "version": "3.7.10"
  }
 },
 "nbformat": 4,
 "nbformat_minor": 5
}
