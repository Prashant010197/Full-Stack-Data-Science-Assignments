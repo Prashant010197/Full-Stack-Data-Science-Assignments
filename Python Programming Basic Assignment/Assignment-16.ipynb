{
 "cells": [
  {
   "cell_type": "markdown",
   "id": "undefined-shirt",
   "metadata": {},
   "source": [
    "# Assignment-16"
   ]
  },
  {
   "cell_type": "markdown",
   "id": "corrected-details",
   "metadata": {},
   "source": [
    "## Question1. Write a function that stutters a word as if someone is struggling to read it. The first two letters are repeated twice with an ellipsis ... and space after each, and then the word is pronounced with a question mark?.\n",
    "\n",
    "Examples\n",
    "\n",
    "stutter(\"incredible\") ➞ \"in... in... incredible?\"\n",
    "\n",
    "stutter(\"enthusiastic\") ➞ \"en... en... enthusiastic?\"\n",
    "\n",
    "stutter(\"outstanding\") ➞ \"ou... ou... outstanding?\"\n",
    "\n",
    "Hint :- Assume all input is in lower case and at least two characters long."
   ]
  },
  {
   "cell_type": "code",
   "execution_count": 2,
   "id": "continuing-stephen",
   "metadata": {},
   "outputs": [
    {
     "name": "stdout",
     "output_type": "stream",
     "text": [
      "enter the stringincredible\n",
      "in... in... incredible?\n"
     ]
    }
   ],
   "source": [
    "def stutter(string):\n",
    "    stut=string[0:2]\n",
    "    print(stut+'... '+stut+'... '+string+'?')\n",
    "\n",
    "string=input('enter the string')\n",
    "stutter(string)"
   ]
  },
  {
   "cell_type": "markdown",
   "id": "administrative-chart",
   "metadata": {},
   "source": [
    "## Question 2.Create a function that takes an angle in radians and returns the corresponding angle in degrees rounded to one decimal place.\n",
    "\n",
    "Examples\n",
    "\n",
    "radians_to_degrees(1) ➞ 57.3\n",
    "\n",
    "radians_to_degrees(20) ➞ 1145.9\n",
    "\n",
    "radians_to_degrees(50) ➞ 2864.8"
   ]
  },
  {
   "cell_type": "code",
   "execution_count": 7,
   "id": "imposed-collaboration",
   "metadata": {},
   "outputs": [
    {
     "name": "stdout",
     "output_type": "stream",
     "text": [
      "enter the angle in radians67\n",
      "3840.8\n"
     ]
    }
   ],
   "source": [
    "def rad_to_deg(rad):\n",
    "    print(round(rad*(180/3.14),1))\n",
    "\n",
    "rad=int(input('enter the angle in radians'))\n",
    "rad_to_deg(rad)"
   ]
  },
  {
   "cell_type": "markdown",
   "id": "egyptian-papua",
   "metadata": {},
   "source": [
    "## Question 3. In this challenge, establish if a given integer num is a Curzon number. If 1 plus 2 elevated to num is exactly divisible by 1 plus 2 multiplied by num, then num is a Curzon number.\n",
    "\n",
    "Given a non-negative integer num, implement a function that returns True if num is a Curzon number, or False otherwise.\n",
    "Examples\n",
    "\n",
    "is_curzon(5) ➞ True\n",
    "\n",
    "2 ** 5 + 1 = 33\n",
    "\n",
    "2 * 5 + 1 = 11\n",
    "\n",
    "33 is a multiple of 11\n",
    "\n",
    "is_curzon(10) ➞ False\n",
    "\n",
    "2 ** 10 + 1 = 1025\n",
    "\n",
    "2 * 10 + 1 = 21\n",
    "\n",
    "1025 is not a multiple of 21\n",
    "\n",
    "is_curzon(14) ➞ True\n",
    "\n",
    "2 ** 14 + 1 = 16385\n",
    "\n",
    "2 * 14 + 1 = 29\n",
    "\n",
    "16385 is a multiple of 29"
   ]
  },
  {
   "cell_type": "code",
   "execution_count": 13,
   "id": "associate-biodiversity",
   "metadata": {},
   "outputs": [
    {
     "name": "stdout",
     "output_type": "stream",
     "text": [
      "enter the number14\n"
     ]
    },
    {
     "data": {
      "text/plain": [
       "True"
      ]
     },
     "execution_count": 13,
     "metadata": {},
     "output_type": "execute_result"
    }
   ],
   "source": [
    "def check(num):\n",
    "    num1=((2**num)+1)\n",
    "    num2=((2*num)+1)\n",
    "    if num1%num2==0:\n",
    "        return True\n",
    "    else:\n",
    "        return False\n",
    "\n",
    "num=int(input('enter the number'))\n",
    "check(num)"
   ]
  },
  {
   "cell_type": "markdown",
   "id": "equivalent-auction",
   "metadata": {},
   "source": [
    "## Question 4.Given the side length x find the area of a hexagon.\n",
    "\n",
    "Examples\n",
    "\n",
    "area_of_hexagon(1) ➞ 2.6\n",
    "\n",
    "area_of_hexagon(2) ➞ 10.4\n",
    "\n",
    "area_of_hexagon(3) ➞ 23.4"
   ]
  },
  {
   "cell_type": "code",
   "execution_count": 19,
   "id": "posted-vietnamese",
   "metadata": {},
   "outputs": [
    {
     "name": "stdout",
     "output_type": "stream",
     "text": [
      "enter the side length1\n",
      "2.6\n"
     ]
    }
   ],
   "source": [
    "n=int(input('enter the side length'))\n",
    "result=(3*(3**0.5))*(n**2)/2\n",
    "print(round(result,1))"
   ]
  },
  {
   "cell_type": "markdown",
   "id": "atlantic-priest",
   "metadata": {},
   "source": [
    "## Question 5. Create a function that returns a base-2 (binary) representation of a base-10 (decimal) string number. To convert is simple: ((2) means base-2 and (10) means base-10) 010101001(2) = 1 + 8 + 32 + 128.\n",
    "\n",
    "Going from right to left, the value of the most right bit is 1, now from that every bit to the left will be x2 the value, value of an 8 bit binary numbers are (256, 128, 64, 32, 16, 8, 4, 2, 1).\n",
    "Examples\n",
    "\n",
    "binary(1) ➞ \"1\"\n",
    "\n",
    "1*1 = 1\n",
    "\n",
    "binary(5) ➞ \"101\"\n",
    "\n",
    "1*1 + 1*4 = 5\n",
    "\n",
    "binary(10) ➞ \"1010\"\n",
    "\n",
    "1*2 + 1*8 = 10"
   ]
  },
  {
   "cell_type": "code",
   "execution_count": 45,
   "id": "miniature-documentary",
   "metadata": {},
   "outputs": [
    {
     "name": "stdout",
     "output_type": "stream",
     "text": [
      "enter the decimal string number010101001\n",
      "169\n"
     ]
    }
   ],
   "source": [
    "def convert(n):\n",
    "    n=n[::-1]\n",
    "    multiplier=1\n",
    "    s=0\n",
    "    for i in n:\n",
    "        s=s+(int(i)*multiplier)\n",
    "        multiplier=multiplier*2\n",
    "    print(s)\n",
    "n=input('enter the decimal string number')\n",
    "convert(n)"
   ]
  }
 ],
 "metadata": {
  "kernelspec": {
   "display_name": "Python 3",
   "language": "python",
   "name": "python3"
  },
  "language_info": {
   "codemirror_mode": {
    "name": "ipython",
    "version": 3
   },
   "file_extension": ".py",
   "mimetype": "text/x-python",
   "name": "python",
   "nbconvert_exporter": "python",
   "pygments_lexer": "ipython3",
   "version": "3.7.10"
  }
 },
 "nbformat": 4,
 "nbformat_minor": 5
}
