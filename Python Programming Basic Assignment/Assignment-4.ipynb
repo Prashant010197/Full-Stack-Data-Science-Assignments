{
 "cells": [
  {
   "cell_type": "markdown",
   "id": "republican-academy",
   "metadata": {},
   "source": [
    "# Assignment-4"
   ]
  },
  {
   "cell_type": "markdown",
   "id": "measured-amazon",
   "metadata": {},
   "source": [
    "## 1. Write a Python Program to Find the Factorial of a Number?"
   ]
  },
  {
   "cell_type": "code",
   "execution_count": 1,
   "id": "stable-pasta",
   "metadata": {},
   "outputs": [
    {
     "name": "stdout",
     "output_type": "stream",
     "text": [
      "enter the number4\n",
      "24\n"
     ]
    }
   ],
   "source": [
    "num1=int(input('enter the number'))\n",
    "result=1\n",
    "for i in range(1, num1+1):\n",
    "    result=result*i\n",
    "print(result)"
   ]
  },
  {
   "cell_type": "markdown",
   "id": "mathematical-blade",
   "metadata": {},
   "source": [
    "## 2. Write a Python Program to Display the multiplication Table?"
   ]
  },
  {
   "cell_type": "code",
   "execution_count": 2,
   "id": "ranking-cleanup",
   "metadata": {},
   "outputs": [
    {
     "name": "stdout",
     "output_type": "stream",
     "text": [
      "12 * 1 = 12\n",
      "12 * 2 = 24\n",
      "12 * 3 = 36\n",
      "12 * 4 = 48\n",
      "12 * 5 = 60\n",
      "12 * 6 = 72\n",
      "12 * 7 = 84\n",
      "12 * 8 = 96\n",
      "12 * 9 = 108\n",
      "12 * 10 = 120\n"
     ]
    }
   ],
   "source": [
    "num1 = 12\n",
    "for i in range(1, 11):\n",
    "    print(\"{} * {} = {}\".format(num1,i,num1*i))"
   ]
  },
  {
   "cell_type": "markdown",
   "id": "scientific-oracle",
   "metadata": {},
   "source": [
    "## 3. Write a Python Program to Print the Fibonacci sequence?"
   ]
  },
  {
   "cell_type": "code",
   "execution_count": 4,
   "id": "undefined-horizontal",
   "metadata": {},
   "outputs": [
    {
     "name": "stdout",
     "output_type": "stream",
     "text": [
      "enter the limit12\n",
      "0\n",
      "1\n",
      "1\n",
      "2\n",
      "3\n",
      "5\n",
      "8\n",
      "13\n",
      "21\n",
      "34\n",
      "55\n",
      "89\n"
     ]
    }
   ],
   "source": [
    "limit=int(input(\"enter the limit\"))\n",
    "count,n1,n2=0,0,1\n",
    "while count<limit:\n",
    "    print(n1)\n",
    "    nth=n1+n2\n",
    "    n1=n2\n",
    "    n2=nth\n",
    "    count=count+1"
   ]
  },
  {
   "cell_type": "markdown",
   "id": "surgical-cheat",
   "metadata": {},
   "source": [
    "## 4. Write a Python Program to Check Armstrong Number?"
   ]
  },
  {
   "cell_type": "code",
   "execution_count": 12,
   "id": "architectural-radar",
   "metadata": {},
   "outputs": [
    {
     "name": "stdout",
     "output_type": "stream",
     "text": [
      "enter the number1234\n",
      "1234 is not an Armstrong number\n"
     ]
    }
   ],
   "source": [
    "num1=int(input('enter the number'))\n",
    "l=len(str(num1))\n",
    "sum=0\n",
    "temp=num1\n",
    "while temp>0:\n",
    "    digit = temp%10\n",
    "    sum=sum+(digit**l)\n",
    "    temp=temp//10\n",
    "if num1==sum:\n",
    "    print(\"It is an armstrong number\")\n",
    "else:\n",
    "    print(\"It is not an armstrong number\")"
   ]
  },
  {
   "cell_type": "markdown",
   "id": "prime-collaboration",
   "metadata": {},
   "source": [
    "## 5. Write a Python Program to Find Armstrong Number in an Interval?"
   ]
  },
  {
   "cell_type": "code",
   "execution_count": 18,
   "id": "educated-train",
   "metadata": {},
   "outputs": [
    {
     "name": "stdout",
     "output_type": "stream",
     "text": [
      "enter the number100\n",
      "enter the number300\n",
      "153\n"
     ]
    }
   ],
   "source": [
    "num1=int(input('enter the number'))\n",
    "num2=int(input('enter the number'))\n",
    "\n",
    "for i in range(num1, num2 + 1):\n",
    "    order=len(str(i))\n",
    "    sum=0\n",
    "    temp=i\n",
    "    while temp>0:\n",
    "        digit=temp%10\n",
    "        sum=sum+(digit**order)\n",
    "        temp=temp//10\n",
    "    if i==sum:\n",
    "        print(i)"
   ]
  },
  {
   "cell_type": "markdown",
   "id": "electric-model",
   "metadata": {},
   "source": [
    "## 6. Write a Python Program to Find the Sum of Natural Numbers?"
   ]
  },
  {
   "cell_type": "code",
   "execution_count": 21,
   "id": "atomic-creator",
   "metadata": {},
   "outputs": [
    {
     "name": "stdout",
     "output_type": "stream",
     "text": [
      "enter the limit4\n",
      "10\n"
     ]
    }
   ],
   "source": [
    "limit=int(input(\"enter the limit\"))\n",
    "sum=0\n",
    "for i in range(1,limit+1):\n",
    "    sum=sum+i\n",
    "print(sum)"
   ]
  }
 ],
 "metadata": {
  "kernelspec": {
   "display_name": "Python 3",
   "language": "python",
   "name": "python3"
  },
  "language_info": {
   "codemirror_mode": {
    "name": "ipython",
    "version": 3
   },
   "file_extension": ".py",
   "mimetype": "text/x-python",
   "name": "python",
   "nbconvert_exporter": "python",
   "pygments_lexer": "ipython3",
   "version": "3.7.10"
  }
 },
 "nbformat": 4,
 "nbformat_minor": 5
}
