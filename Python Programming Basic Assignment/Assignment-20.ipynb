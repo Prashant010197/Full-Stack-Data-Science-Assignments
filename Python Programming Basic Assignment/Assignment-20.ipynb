{
 "cells": [
  {
   "cell_type": "markdown",
   "id": "institutional-representation",
   "metadata": {},
   "source": [
    "# Assignment-20"
   ]
  },
  {
   "cell_type": "markdown",
   "id": "prospective-costa",
   "metadata": {},
   "source": [
    "## Question1\n",
    "\n",
    "Create a function that takes a list of strings and integers, and filters out the list so that it returns a list of integers only.\n",
    "\n",
    "Examples\n",
    "\n",
    "filter_list([1, 2, 3, \"a\", \"b\", 4]) ➞ [1, 2, 3, 4]\n",
    "\n",
    "filter_list([\"A\", 0, \"Edabit\", 1729, \"Python\", \"1729\"]) ➞ [0, 1729]\n",
    "\n",
    "filter_list([\"Nothing\", \"here\"]) ➞ []"
   ]
  },
  {
   "cell_type": "code",
   "execution_count": 1,
   "id": "marked-infrastructure",
   "metadata": {},
   "outputs": [
    {
     "name": "stdout",
     "output_type": "stream",
     "text": [
      "[0, 1729]\n"
     ]
    }
   ],
   "source": [
    "def filter_list(l):\n",
    "    ls=[]\n",
    "    for i in l:\n",
    "        if type(i)==int:\n",
    "            ls.append(i)\n",
    "    print(ls)\n",
    "\n",
    "l=[\"A\", 0, \"Edabit\", 1729, \"Python\", \"1729\"]\n",
    "filter_list(l)"
   ]
  },
  {
   "cell_type": "markdown",
   "id": "authorized-covering",
   "metadata": {},
   "source": [
    "## Question2\n",
    "\n",
    "Given a list of numbers, create a function which returns the list but with each element's index in the list added to itself. This means you add 0 to the number at index 0, add 1 to the number at index 1, etc...\n",
    "\n",
    "Examples\n",
    "\n",
    "add_indexes([0, 0, 0, 0, 0]) ➞ [0, 1, 2, 3, 4]\n",
    "\n",
    "add_indexes([1, 2, 3, 4, 5]) ➞ [1, 3, 5, 7, 9]\n",
    "\n",
    "add_indexes([5, 4, 3, 2, 1]) ➞ [5, 5, 5, 5, 5]"
   ]
  },
  {
   "cell_type": "code",
   "execution_count": 3,
   "id": "measured-fault",
   "metadata": {},
   "outputs": [
    {
     "name": "stdout",
     "output_type": "stream",
     "text": [
      "[5, 5, 5, 5, 5]\n"
     ]
    }
   ],
   "source": [
    "def add_indexes(l):\n",
    "    ls=[]\n",
    "    for i in range(len(l)):\n",
    "        ls.append(i+l[i])\n",
    "    print(ls)\n",
    "l=[5, 4, 3, 2, 1]\n",
    "add_indexes(l)"
   ]
  },
  {
   "cell_type": "markdown",
   "id": "labeled-latin",
   "metadata": {},
   "source": [
    "## Question3\n",
    "\n",
    "Create a function that takes the height and radius of a cone as arguments and returns the volume of the cone rounded to the nearest hundredth. See the resources tab for the formula.\n",
    "\n",
    "Examples\n",
    "cone_volume(3, 2) ➞ 12.57\n",
    "\n",
    "cone_volume(15, 6) ➞ 565.49\n",
    "\n",
    "cone_volume(18, 0) ➞ 0"
   ]
  },
  {
   "cell_type": "code",
   "execution_count": 9,
   "id": "viral-phoenix",
   "metadata": {},
   "outputs": [
    {
     "name": "stdout",
     "output_type": "stream",
     "text": [
      "12.56\n"
     ]
    }
   ],
   "source": [
    "def cone_volume(h,r):\n",
    "    res=round((1/3)*3.14*h*(r**2),2)\n",
    "    print(res)\n",
    "h,r=3,2\n",
    "cone_volume(h,r)"
   ]
  },
  {
   "cell_type": "markdown",
   "id": "fundamental-bullet",
   "metadata": {},
   "source": [
    "## Question4\n",
    "\n",
    "This Triangular Number Sequence is generated from a pattern of dots that form a triangle. The first 5 numbers of the sequence, or dots, are: \n",
    "\n",
    "1, 3, 6, 10, 15\n",
    "\n",
    "This means that the first triangle has just one dot, the second one has three dots, the third one has 6 dots and so on.\n",
    "Write a function that gives the number of dots with its corresponding triangle number of the sequence.\n",
    "\n",
    "Examples\n",
    "\n",
    "triangle(1) ➞ 1\n",
    "\n",
    "triangle(6) ➞ 21\n",
    "\n",
    "triangle(215) ➞ 23220"
   ]
  },
  {
   "cell_type": "code",
   "execution_count": 11,
   "id": "confidential-victor",
   "metadata": {},
   "outputs": [
    {
     "name": "stdout",
     "output_type": "stream",
     "text": [
      "23220\n"
     ]
    }
   ],
   "source": [
    "def triangle(n):\n",
    "    res=(n*(n+1))//2\n",
    "    print(res)\n",
    "n=215\n",
    "triangle(n)"
   ]
  },
  {
   "cell_type": "markdown",
   "id": "published-weekly",
   "metadata": {},
   "source": [
    "## Question5\n",
    "\n",
    "Create a function that takes a list of numbers between 1 and 10 (excluding one number) and returns the missing number.\n",
    "\n",
    "Examples\n",
    "\n",
    "missing_num([1, 2, 3, 4, 6, 7, 8, 9, 10]) ➞ 5\n",
    "\n",
    "missing_num([7, 2, 3, 6, 5, 9, 1, 4, 8]) ➞ 10\n",
    "\n",
    "missing_num([10, 5, 1, 2, 4, 6, 8, 3, 9]) ➞ 7"
   ]
  },
  {
   "cell_type": "code",
   "execution_count": 15,
   "id": "improved-arizona",
   "metadata": {},
   "outputs": [
    {
     "name": "stdout",
     "output_type": "stream",
     "text": [
      "7\n"
     ]
    }
   ],
   "source": [
    "def missing_num(l):\n",
    "    l.sort()\n",
    "    for i in range(1,len(l)+2):\n",
    "        if i not in l:\n",
    "            print(i)\n",
    "l=[10,5,1,2,4,6,8,3,9]\n",
    "missing_num(l)"
   ]
  }
 ],
 "metadata": {
  "kernelspec": {
   "display_name": "Python 3",
   "language": "python",
   "name": "python3"
  },
  "language_info": {
   "codemirror_mode": {
    "name": "ipython",
    "version": 3
   },
   "file_extension": ".py",
   "mimetype": "text/x-python",
   "name": "python",
   "nbconvert_exporter": "python",
   "pygments_lexer": "ipython3",
   "version": "3.7.10"
  }
 },
 "nbformat": 4,
 "nbformat_minor": 5
}
